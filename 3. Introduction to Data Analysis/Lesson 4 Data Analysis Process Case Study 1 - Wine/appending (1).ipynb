{
 "cells": [
  {
   "cell_type": "markdown",
   "metadata": {},
   "source": [
    "# Anexando dados\n",
    "Primeiro, importe os pacotes necessários e carregue os arquivos `winequality-red.csv` e `winequality-white.csv`."
   ]
  },
  {
   "cell_type": "code",
   "execution_count": null,
   "metadata": {
    "collapsed": true
   },
   "outputs": [],
   "source": [
    "# importe o numpy e o pandas\n",
    "\n",
    "\n",
    "# carregue os conjuntos de dados de vinhos tintos e brancos\n",
    "red_df = \n",
    "white_df = "
   ]
  },
  {
   "cell_type": "markdown",
   "metadata": {},
   "source": [
    "## Crie colunas de cor\n",
    "Crie dois vetores de tamanho igual ao número de linhas nos dataframes tinto e branco que repetem o valor “red” or “white”. O NumPy oferece uma forma bem fácil de fazer isso. Aqui está a documentação para a função [repeat do NumPy](https://docs.scipy.org/doc/numpy/reference/generated/numpy.repeat.html). Dê uma olhada e tente você mesmo."
   ]
  },
  {
   "cell_type": "code",
   "execution_count": null,
   "metadata": {},
   "outputs": [],
   "source": [
    "# crie vetor de cor para o dataframe tinto\n",
    "color_red = \n",
    "\n",
    "# crie vetor de cor para o dataframe branco\n",
    "color_white = "
   ]
  },
  {
   "cell_type": "markdown",
   "metadata": {},
   "source": [
    "Adicione os vetores de cor aos dataframes tinto e branco. Faça isso associando uma nova coluna chamada 'color' ao vetor apropriado. A célula abaixo faz isso para o dataframe tinto."
   ]
  },
  {
   "cell_type": "code",
   "execution_count": null,
   "metadata": {
    "collapsed": true
   },
   "outputs": [],
   "source": [
    "red_df['color'] = color_red\n",
    "red_df.head()"
   ]
  },
  {
   "cell_type": "markdown",
   "metadata": {},
   "source": [
    "Faça o mesmo para o dataframe branco e use `head()` para confirmar a mudança."
   ]
  },
  {
   "cell_type": "code",
   "execution_count": null,
   "metadata": {
    "collapsed": true
   },
   "outputs": [],
   "source": []
  },
  {
   "cell_type": "markdown",
   "metadata": {},
   "source": [
    "## Combine dataframes com append\n",
    "Veja a documentação para a função [append do Pandas](https://pandas.pydata.org/pandas-docs/stable/generated/pandas.DataFrame.append.html) e veja se você pode usar isso para descobrir como combinar os dataframes. (Bonus: Por que não estamos usando o método [merge](https://pandas.pydata.org/pandas-docs/stable/generated/pandas.DataFrame.merge.html) para combinar dataframes?) Se você não entender, vou te mostrar como mais tarde. Certifique-se de salvar seu trabalho neste notebook! Você irá voltar para isso mais tarde."
   ]
  },
  {
   "cell_type": "code",
   "execution_count": null,
   "metadata": {
    "collapsed": true
   },
   "outputs": [],
   "source": [
    "# anexe dataframes\n",
    "wine_df = \n",
    "\n",
    "# exiba o dataframe para ver se tudo deu certo\n",
    "wine_df.head()"
   ]
  },
  {
   "cell_type": "markdown",
   "metadata": {},
   "source": [
    "## Salve o dataset combinado\n",
    "Salve seu dataframe recém-combinado como `winequality_edited.csv`. Lembre-se de configurar `index=False` para evitar salvar com uma coluna não-nomeada!"
   ]
  },
  {
   "cell_type": "code",
   "execution_count": null,
   "metadata": {
    "collapsed": true
   },
   "outputs": [],
   "source": []
  }
 ],
 "metadata": {
  "kernelspec": {
   "display_name": "Python 3",
   "language": "python",
   "name": "python3"
  },
  "language_info": {
   "codemirror_mode": {
    "name": "ipython",
    "version": 3
   },
   "file_extension": ".py",
   "mimetype": "text/x-python",
   "name": "python",
   "nbconvert_exporter": "python",
   "pygments_lexer": "ipython3",
   "version": "3.6.3"
  }
 },
 "nbformat": 4,
 "nbformat_minor": 2
}
