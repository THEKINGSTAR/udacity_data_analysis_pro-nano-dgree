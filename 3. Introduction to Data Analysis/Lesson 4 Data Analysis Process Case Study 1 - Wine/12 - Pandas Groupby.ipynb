{
 "metadata": {
  "language_info": {
   "codemirror_mode": {
    "name": "ipython",
    "version": 3
   },
   "file_extension": ".py",
   "mimetype": "text/x-python",
   "name": "python",
   "nbconvert_exporter": "python",
   "pygments_lexer": "ipython3",
   "version": "3.8.5-final"
  },
  "orig_nbformat": 2,
  "kernelspec": {
   "name": "python3",
   "display_name": "Python 3",
   "language": "python"
  }
 },
 "nbformat": 4,
 "nbformat_minor": 2,
 "cells": [
  {
   "cell_type": "code",
   "execution_count": 3,
   "metadata": {},
   "outputs": [],
   "source": [
    "import pandas as pd\n"
   ]
  },
  {
   "cell_type": "code",
   "execution_count": 4,
   "metadata": {},
   "outputs": [],
   "source": [
    "wine_df = pd.read_csv(\"winequality_edited.csv\")"
   ]
  },
  {
   "cell_type": "code",
   "execution_count": 5,
   "metadata": {},
   "outputs": [
    {
     "output_type": "execute_result",
     "data": {
      "text/plain": [
       "   fixed_acidity  volatile_acidity  citric_acid  residual_sugar  chlorides  \\\n",
       "0            7.4              0.70         0.00             1.9      0.076   \n",
       "1            7.8              0.88         0.00             2.6      0.098   \n",
       "2            7.8              0.76         0.04             2.3      0.092   \n",
       "3           11.2              0.28         0.56             1.9      0.075   \n",
       "4            7.4              0.70         0.00             1.9      0.076   \n",
       "\n",
       "   free_sulfur_dioxide  total_sulfur_dioxide  density    pH  sulphates  \\\n",
       "0                 11.0                  34.0   0.9978  3.51       0.56   \n",
       "1                 25.0                  67.0   0.9968  3.20       0.68   \n",
       "2                 15.0                  54.0   0.9970  3.26       0.65   \n",
       "3                 17.0                  60.0   0.9980  3.16       0.58   \n",
       "4                 11.0                  34.0   0.9978  3.51       0.56   \n",
       "\n",
       "   alcohol  quality color  total_sulfur_dioxide.1  \n",
       "0      9.4        5   red                     NaN  \n",
       "1      9.8        5   red                     NaN  \n",
       "2      9.8        5   red                     NaN  \n",
       "3      9.8        6   red                     NaN  \n",
       "4      9.4        5   red                     NaN  "
      ],
      "text/html": "<div>\n<style scoped>\n    .dataframe tbody tr th:only-of-type {\n        vertical-align: middle;\n    }\n\n    .dataframe tbody tr th {\n        vertical-align: top;\n    }\n\n    .dataframe thead th {\n        text-align: right;\n    }\n</style>\n<table border=\"1\" class=\"dataframe\">\n  <thead>\n    <tr style=\"text-align: right;\">\n      <th></th>\n      <th>fixed_acidity</th>\n      <th>volatile_acidity</th>\n      <th>citric_acid</th>\n      <th>residual_sugar</th>\n      <th>chlorides</th>\n      <th>free_sulfur_dioxide</th>\n      <th>total_sulfur_dioxide</th>\n      <th>density</th>\n      <th>pH</th>\n      <th>sulphates</th>\n      <th>alcohol</th>\n      <th>quality</th>\n      <th>color</th>\n      <th>total_sulfur_dioxide.1</th>\n    </tr>\n  </thead>\n  <tbody>\n    <tr>\n      <th>0</th>\n      <td>7.4</td>\n      <td>0.70</td>\n      <td>0.00</td>\n      <td>1.9</td>\n      <td>0.076</td>\n      <td>11.0</td>\n      <td>34.0</td>\n      <td>0.9978</td>\n      <td>3.51</td>\n      <td>0.56</td>\n      <td>9.4</td>\n      <td>5</td>\n      <td>red</td>\n      <td>NaN</td>\n    </tr>\n    <tr>\n      <th>1</th>\n      <td>7.8</td>\n      <td>0.88</td>\n      <td>0.00</td>\n      <td>2.6</td>\n      <td>0.098</td>\n      <td>25.0</td>\n      <td>67.0</td>\n      <td>0.9968</td>\n      <td>3.20</td>\n      <td>0.68</td>\n      <td>9.8</td>\n      <td>5</td>\n      <td>red</td>\n      <td>NaN</td>\n    </tr>\n    <tr>\n      <th>2</th>\n      <td>7.8</td>\n      <td>0.76</td>\n      <td>0.04</td>\n      <td>2.3</td>\n      <td>0.092</td>\n      <td>15.0</td>\n      <td>54.0</td>\n      <td>0.9970</td>\n      <td>3.26</td>\n      <td>0.65</td>\n      <td>9.8</td>\n      <td>5</td>\n      <td>red</td>\n      <td>NaN</td>\n    </tr>\n    <tr>\n      <th>3</th>\n      <td>11.2</td>\n      <td>0.28</td>\n      <td>0.56</td>\n      <td>1.9</td>\n      <td>0.075</td>\n      <td>17.0</td>\n      <td>60.0</td>\n      <td>0.9980</td>\n      <td>3.16</td>\n      <td>0.58</td>\n      <td>9.8</td>\n      <td>6</td>\n      <td>red</td>\n      <td>NaN</td>\n    </tr>\n    <tr>\n      <th>4</th>\n      <td>7.4</td>\n      <td>0.70</td>\n      <td>0.00</td>\n      <td>1.9</td>\n      <td>0.076</td>\n      <td>11.0</td>\n      <td>34.0</td>\n      <td>0.9978</td>\n      <td>3.51</td>\n      <td>0.56</td>\n      <td>9.4</td>\n      <td>5</td>\n      <td>red</td>\n      <td>NaN</td>\n    </tr>\n  </tbody>\n</table>\n</div>"
     },
     "metadata": {},
     "execution_count": 5
    }
   ],
   "source": [
    "wine_df.head()"
   ]
  },
  {
   "cell_type": "code",
   "execution_count": 6,
   "metadata": {},
   "outputs": [
    {
     "output_type": "execute_result",
     "data": {
      "text/plain": [
       "fixed_acidity               7.215307\n",
       "volatile_acidity            0.339666\n",
       "citric_acid                 0.318633\n",
       "residual_sugar              5.443235\n",
       "chlorides                   0.056034\n",
       "free_sulfur_dioxide        30.525319\n",
       "total_sulfur_dioxide       46.467792\n",
       "density                     0.994697\n",
       "pH                          3.218501\n",
       "sulphates                   0.531268\n",
       "alcohol                    10.491801\n",
       "quality                     5.818378\n",
       "total_sulfur_dioxide.1    138.360657\n",
       "dtype: float64"
      ]
     },
     "metadata": {},
     "execution_count": 6
    }
   ],
   "source": [
    "wine_df.mean()"
   ]
  },
  {
   "cell_type": "code",
   "execution_count": 7,
   "metadata": {},
   "outputs": [
    {
     "output_type": "execute_result",
     "data": {
      "text/plain": [
       "               volatile_acidity  citric_acid  residual_sugar  chlorides  \\\n",
       "fixed_acidity                                                             \n",
       "3.8                      0.3100     0.020000       11.100000   0.036000   \n",
       "3.9                      0.2250     0.400000        4.200000   0.030000   \n",
       "4.2                      0.1925     0.295000        3.450000   0.035000   \n",
       "4.4                      0.4400     0.193333        4.066667   0.030667   \n",
       "4.5                      0.1900     0.210000        0.950000   0.033000   \n",
       "...                         ...          ...             ...        ...   \n",
       "14.3                     0.3100     0.740000        1.800000   0.075000   \n",
       "15.0                     0.2100     0.440000        2.200000   0.075000   \n",
       "15.5                     0.6450     0.490000        4.200000   0.095000   \n",
       "15.6                     0.6650     0.625000        3.950000   0.097500   \n",
       "15.9                     0.3600     0.650000        7.500000   0.096000   \n",
       "\n",
       "               free_sulfur_dioxide  total_sulfur_dioxide   density     pH  \\\n",
       "fixed_acidity                                                               \n",
       "3.8                           20.0                   NaN  0.992480  3.750   \n",
       "3.9                           29.0                   NaN  0.989000  3.570   \n",
       "4.2                           78.5                   NaN  0.993435  3.535   \n",
       "4.4                           38.0                   NaN  0.989140  3.450   \n",
       "4.5                           89.0                   NaN  0.993320  3.340   \n",
       "...                            ...                   ...       ...    ...   \n",
       "14.3                           6.0                  15.0  1.000800  2.860   \n",
       "15.0                          10.0                  24.0  1.000050  3.070   \n",
       "15.5                          10.0                  23.0  1.003150  2.920   \n",
       "15.6                           8.0                  33.0  1.003175  2.935   \n",
       "15.9                          22.0                  71.0  0.997600  2.980   \n",
       "\n",
       "               sulphates  alcohol  quality  total_sulfur_dioxide.1  \n",
       "fixed_acidity                                                       \n",
       "3.8             0.440000    12.40      6.0              114.000000  \n",
       "3.9             0.360000    12.80      8.0              118.000000  \n",
       "4.2             0.665000    10.00      5.0              159.000000  \n",
       "4.4             0.366667    12.70      7.0              111.666667  \n",
       "4.5             0.420000     8.00      5.0              159.000000  \n",
       "...                  ...      ...      ...                     ...  \n",
       "14.3            0.790000     8.40      6.0                     NaN  \n",
       "15.0            0.840000     9.20      7.0                     NaN  \n",
       "15.5            0.740000    11.10      5.0                     NaN  \n",
       "15.6            0.710000    11.15      6.0                     NaN  \n",
       "15.9            0.840000    14.90      5.0                     NaN  \n",
       "\n",
       "[106 rows x 12 columns]"
      ],
      "text/html": "<div>\n<style scoped>\n    .dataframe tbody tr th:only-of-type {\n        vertical-align: middle;\n    }\n\n    .dataframe tbody tr th {\n        vertical-align: top;\n    }\n\n    .dataframe thead th {\n        text-align: right;\n    }\n</style>\n<table border=\"1\" class=\"dataframe\">\n  <thead>\n    <tr style=\"text-align: right;\">\n      <th></th>\n      <th>volatile_acidity</th>\n      <th>citric_acid</th>\n      <th>residual_sugar</th>\n      <th>chlorides</th>\n      <th>free_sulfur_dioxide</th>\n      <th>total_sulfur_dioxide</th>\n      <th>density</th>\n      <th>pH</th>\n      <th>sulphates</th>\n      <th>alcohol</th>\n      <th>quality</th>\n      <th>total_sulfur_dioxide.1</th>\n    </tr>\n    <tr>\n      <th>fixed_acidity</th>\n      <th></th>\n      <th></th>\n      <th></th>\n      <th></th>\n      <th></th>\n      <th></th>\n      <th></th>\n      <th></th>\n      <th></th>\n      <th></th>\n      <th></th>\n      <th></th>\n    </tr>\n  </thead>\n  <tbody>\n    <tr>\n      <th>3.8</th>\n      <td>0.3100</td>\n      <td>0.020000</td>\n      <td>11.100000</td>\n      <td>0.036000</td>\n      <td>20.0</td>\n      <td>NaN</td>\n      <td>0.992480</td>\n      <td>3.750</td>\n      <td>0.440000</td>\n      <td>12.40</td>\n      <td>6.0</td>\n      <td>114.000000</td>\n    </tr>\n    <tr>\n      <th>3.9</th>\n      <td>0.2250</td>\n      <td>0.400000</td>\n      <td>4.200000</td>\n      <td>0.030000</td>\n      <td>29.0</td>\n      <td>NaN</td>\n      <td>0.989000</td>\n      <td>3.570</td>\n      <td>0.360000</td>\n      <td>12.80</td>\n      <td>8.0</td>\n      <td>118.000000</td>\n    </tr>\n    <tr>\n      <th>4.2</th>\n      <td>0.1925</td>\n      <td>0.295000</td>\n      <td>3.450000</td>\n      <td>0.035000</td>\n      <td>78.5</td>\n      <td>NaN</td>\n      <td>0.993435</td>\n      <td>3.535</td>\n      <td>0.665000</td>\n      <td>10.00</td>\n      <td>5.0</td>\n      <td>159.000000</td>\n    </tr>\n    <tr>\n      <th>4.4</th>\n      <td>0.4400</td>\n      <td>0.193333</td>\n      <td>4.066667</td>\n      <td>0.030667</td>\n      <td>38.0</td>\n      <td>NaN</td>\n      <td>0.989140</td>\n      <td>3.450</td>\n      <td>0.366667</td>\n      <td>12.70</td>\n      <td>7.0</td>\n      <td>111.666667</td>\n    </tr>\n    <tr>\n      <th>4.5</th>\n      <td>0.1900</td>\n      <td>0.210000</td>\n      <td>0.950000</td>\n      <td>0.033000</td>\n      <td>89.0</td>\n      <td>NaN</td>\n      <td>0.993320</td>\n      <td>3.340</td>\n      <td>0.420000</td>\n      <td>8.00</td>\n      <td>5.0</td>\n      <td>159.000000</td>\n    </tr>\n    <tr>\n      <th>...</th>\n      <td>...</td>\n      <td>...</td>\n      <td>...</td>\n      <td>...</td>\n      <td>...</td>\n      <td>...</td>\n      <td>...</td>\n      <td>...</td>\n      <td>...</td>\n      <td>...</td>\n      <td>...</td>\n      <td>...</td>\n    </tr>\n    <tr>\n      <th>14.3</th>\n      <td>0.3100</td>\n      <td>0.740000</td>\n      <td>1.800000</td>\n      <td>0.075000</td>\n      <td>6.0</td>\n      <td>15.0</td>\n      <td>1.000800</td>\n      <td>2.860</td>\n      <td>0.790000</td>\n      <td>8.40</td>\n      <td>6.0</td>\n      <td>NaN</td>\n    </tr>\n    <tr>\n      <th>15.0</th>\n      <td>0.2100</td>\n      <td>0.440000</td>\n      <td>2.200000</td>\n      <td>0.075000</td>\n      <td>10.0</td>\n      <td>24.0</td>\n      <td>1.000050</td>\n      <td>3.070</td>\n      <td>0.840000</td>\n      <td>9.20</td>\n      <td>7.0</td>\n      <td>NaN</td>\n    </tr>\n    <tr>\n      <th>15.5</th>\n      <td>0.6450</td>\n      <td>0.490000</td>\n      <td>4.200000</td>\n      <td>0.095000</td>\n      <td>10.0</td>\n      <td>23.0</td>\n      <td>1.003150</td>\n      <td>2.920</td>\n      <td>0.740000</td>\n      <td>11.10</td>\n      <td>5.0</td>\n      <td>NaN</td>\n    </tr>\n    <tr>\n      <th>15.6</th>\n      <td>0.6650</td>\n      <td>0.625000</td>\n      <td>3.950000</td>\n      <td>0.097500</td>\n      <td>8.0</td>\n      <td>33.0</td>\n      <td>1.003175</td>\n      <td>2.935</td>\n      <td>0.710000</td>\n      <td>11.15</td>\n      <td>6.0</td>\n      <td>NaN</td>\n    </tr>\n    <tr>\n      <th>15.9</th>\n      <td>0.3600</td>\n      <td>0.650000</td>\n      <td>7.500000</td>\n      <td>0.096000</td>\n      <td>22.0</td>\n      <td>71.0</td>\n      <td>0.997600</td>\n      <td>2.980</td>\n      <td>0.840000</td>\n      <td>14.90</td>\n      <td>5.0</td>\n      <td>NaN</td>\n    </tr>\n  </tbody>\n</table>\n<p>106 rows × 12 columns</p>\n</div>"
     },
     "metadata": {},
     "execution_count": 7
    }
   ],
   "source": [
    "wine_df.groupby(wine_df.fixed_acidity).mean()"
   ]
  },
  {
   "cell_type": "code",
   "execution_count": 8,
   "metadata": {},
   "outputs": [
    {
     "output_type": "execute_result",
     "data": {
      "text/plain": [
       "         fixed_acidity  volatile_acidity  citric_acid  residual_sugar  \\\n",
       "quality                                                                 \n",
       "3             7.853333          0.517000     0.281000        5.140000   \n",
       "4             7.288889          0.457963     0.272315        4.153704   \n",
       "5             7.326801          0.389614     0.307722        5.804116   \n",
       "6             7.177257          0.313863     0.323583        5.549753   \n",
       "7             7.128962          0.288800     0.334764        4.731696   \n",
       "8             6.835233          0.291010     0.332539        5.382902   \n",
       "9             7.420000          0.298000     0.386000        4.120000   \n",
       "\n",
       "         chlorides  free_sulfur_dioxide  total_sulfur_dioxide   density  \\\n",
       "quality                                                                   \n",
       "3         0.077033            39.216667             24.900000  0.995744   \n",
       "4         0.060056            20.636574             36.245283  0.994833   \n",
       "5         0.064666            30.237371             56.513950  0.995849   \n",
       "6         0.054157            31.165021             40.869906  0.994558   \n",
       "7         0.045272            30.422150             35.020101  0.993126   \n",
       "8         0.041124            34.533679             33.444444  0.992514   \n",
       "9         0.027400            33.400000                   NaN  0.991460   \n",
       "\n",
       "               pH  sulphates    alcohol  total_sulfur_dioxide.1  \n",
       "quality                                                          \n",
       "3        3.257667   0.506333  10.215000              170.600000  \n",
       "4        3.231620   0.505648  10.180093              125.279141  \n",
       "5        3.212189   0.526403   9.837783              150.904598  \n",
       "6        3.217726   0.532549  10.587553              137.047316  \n",
       "7        3.228072   0.547025  11.386006              125.114773  \n",
       "8        3.223212   0.512487  11.678756              126.165714  \n",
       "9        3.308000   0.466000  12.180000              116.000000  "
      ],
      "text/html": "<div>\n<style scoped>\n    .dataframe tbody tr th:only-of-type {\n        vertical-align: middle;\n    }\n\n    .dataframe tbody tr th {\n        vertical-align: top;\n    }\n\n    .dataframe thead th {\n        text-align: right;\n    }\n</style>\n<table border=\"1\" class=\"dataframe\">\n  <thead>\n    <tr style=\"text-align: right;\">\n      <th></th>\n      <th>fixed_acidity</th>\n      <th>volatile_acidity</th>\n      <th>citric_acid</th>\n      <th>residual_sugar</th>\n      <th>chlorides</th>\n      <th>free_sulfur_dioxide</th>\n      <th>total_sulfur_dioxide</th>\n      <th>density</th>\n      <th>pH</th>\n      <th>sulphates</th>\n      <th>alcohol</th>\n      <th>total_sulfur_dioxide.1</th>\n    </tr>\n    <tr>\n      <th>quality</th>\n      <th></th>\n      <th></th>\n      <th></th>\n      <th></th>\n      <th></th>\n      <th></th>\n      <th></th>\n      <th></th>\n      <th></th>\n      <th></th>\n      <th></th>\n      <th></th>\n    </tr>\n  </thead>\n  <tbody>\n    <tr>\n      <th>3</th>\n      <td>7.853333</td>\n      <td>0.517000</td>\n      <td>0.281000</td>\n      <td>5.140000</td>\n      <td>0.077033</td>\n      <td>39.216667</td>\n      <td>24.900000</td>\n      <td>0.995744</td>\n      <td>3.257667</td>\n      <td>0.506333</td>\n      <td>10.215000</td>\n      <td>170.600000</td>\n    </tr>\n    <tr>\n      <th>4</th>\n      <td>7.288889</td>\n      <td>0.457963</td>\n      <td>0.272315</td>\n      <td>4.153704</td>\n      <td>0.060056</td>\n      <td>20.636574</td>\n      <td>36.245283</td>\n      <td>0.994833</td>\n      <td>3.231620</td>\n      <td>0.505648</td>\n      <td>10.180093</td>\n      <td>125.279141</td>\n    </tr>\n    <tr>\n      <th>5</th>\n      <td>7.326801</td>\n      <td>0.389614</td>\n      <td>0.307722</td>\n      <td>5.804116</td>\n      <td>0.064666</td>\n      <td>30.237371</td>\n      <td>56.513950</td>\n      <td>0.995849</td>\n      <td>3.212189</td>\n      <td>0.526403</td>\n      <td>9.837783</td>\n      <td>150.904598</td>\n    </tr>\n    <tr>\n      <th>6</th>\n      <td>7.177257</td>\n      <td>0.313863</td>\n      <td>0.323583</td>\n      <td>5.549753</td>\n      <td>0.054157</td>\n      <td>31.165021</td>\n      <td>40.869906</td>\n      <td>0.994558</td>\n      <td>3.217726</td>\n      <td>0.532549</td>\n      <td>10.587553</td>\n      <td>137.047316</td>\n    </tr>\n    <tr>\n      <th>7</th>\n      <td>7.128962</td>\n      <td>0.288800</td>\n      <td>0.334764</td>\n      <td>4.731696</td>\n      <td>0.045272</td>\n      <td>30.422150</td>\n      <td>35.020101</td>\n      <td>0.993126</td>\n      <td>3.228072</td>\n      <td>0.547025</td>\n      <td>11.386006</td>\n      <td>125.114773</td>\n    </tr>\n    <tr>\n      <th>8</th>\n      <td>6.835233</td>\n      <td>0.291010</td>\n      <td>0.332539</td>\n      <td>5.382902</td>\n      <td>0.041124</td>\n      <td>34.533679</td>\n      <td>33.444444</td>\n      <td>0.992514</td>\n      <td>3.223212</td>\n      <td>0.512487</td>\n      <td>11.678756</td>\n      <td>126.165714</td>\n    </tr>\n    <tr>\n      <th>9</th>\n      <td>7.420000</td>\n      <td>0.298000</td>\n      <td>0.386000</td>\n      <td>4.120000</td>\n      <td>0.027400</td>\n      <td>33.400000</td>\n      <td>NaN</td>\n      <td>0.991460</td>\n      <td>3.308000</td>\n      <td>0.466000</td>\n      <td>12.180000</td>\n      <td>116.000000</td>\n    </tr>\n  </tbody>\n</table>\n</div>"
     },
     "metadata": {},
     "execution_count": 8
    }
   ],
   "source": [
    "wine_df.groupby(wine_df.quality).mean()"
   ]
  },
  {
   "cell_type": "code",
   "execution_count": 9,
   "metadata": {},
   "outputs": [
    {
     "output_type": "execute_result",
     "data": {
      "text/plain": [
       "               fixed_acidity  volatile_acidity  citric_acid  residual_sugar  \\\n",
       "quality color                                                                 \n",
       "3       red         8.360000          0.884500     0.171000        2.635000   \n",
       "        white       7.600000          0.333250     0.336000        6.392500   \n",
       "4       red         7.779245          0.693962     0.174151        2.694340   \n",
       "        white       7.129448          0.381227     0.304233        4.628221   \n",
       "5       red         8.167254          0.577041     0.243686        2.528855   \n",
       "        white       6.933974          0.302011     0.337653        7.334969   \n",
       "6       red         8.347179          0.497484     0.273824        2.477194   \n",
       "        white       6.837671          0.260564     0.338025        6.441606   \n",
       "7       red         8.872362          0.403920     0.375176        2.720603   \n",
       "        white       6.734716          0.262767     0.325625        5.186477   \n",
       "8       red         8.566667          0.423333     0.391111        2.577778   \n",
       "        white       6.657143          0.277400     0.326514        5.671429   \n",
       "9       white       7.420000          0.298000     0.386000        4.120000   \n",
       "\n",
       "               chlorides  free_sulfur_dioxide  total_sulfur_dioxide   density  \\\n",
       "quality color                                                                   \n",
       "3       red     0.122500            11.000000             24.900000  0.997464   \n",
       "        white   0.054300            53.325000                   NaN  0.994884   \n",
       "4       red     0.090679            12.264151             36.245283  0.996542   \n",
       "        white   0.050098            23.358896                   NaN  0.994277   \n",
       "5       red     0.092736            16.983847             56.513950  0.997104   \n",
       "        white   0.051546            36.432052                   NaN  0.995263   \n",
       "6       red     0.084956            15.711599             40.869906  0.996615   \n",
       "        white   0.045217            35.650591                   NaN  0.993961   \n",
       "7       red     0.076588            14.045226             35.020101  0.996104   \n",
       "        white   0.038191            34.125568                   NaN  0.992452   \n",
       "8       red     0.068444            13.277778             33.444444  0.995212   \n",
       "        white   0.038314            36.720000                   NaN  0.992236   \n",
       "9       white   0.027400            33.400000                   NaN  0.991460   \n",
       "\n",
       "                     pH  sulphates    alcohol  total_sulfur_dioxide.1  \n",
       "quality color                                                          \n",
       "3       red    3.398000   0.570000   9.955000                     NaN  \n",
       "        white  3.187500   0.474500  10.345000              170.600000  \n",
       "4       red    3.381509   0.596415  10.265094                     NaN  \n",
       "        white  3.182883   0.476135  10.152454              125.279141  \n",
       "5       red    3.304949   0.620969   9.899706                     NaN  \n",
       "        white  3.168833   0.482203   9.808840              150.904598  \n",
       "6       red    3.318072   0.675329  10.629519                     NaN  \n",
       "        white  3.188599   0.491106  10.575372              137.047316  \n",
       "7       red    3.290754   0.741256  11.465913                     NaN  \n",
       "        white  3.213898   0.503102  11.367936              125.114773  \n",
       "8       red    3.267222   0.767778  12.094444                     NaN  \n",
       "        white  3.218686   0.486229  11.636000              126.165714  \n",
       "9       white  3.308000   0.466000  12.180000              116.000000  "
      ],
      "text/html": "<div>\n<style scoped>\n    .dataframe tbody tr th:only-of-type {\n        vertical-align: middle;\n    }\n\n    .dataframe tbody tr th {\n        vertical-align: top;\n    }\n\n    .dataframe thead th {\n        text-align: right;\n    }\n</style>\n<table border=\"1\" class=\"dataframe\">\n  <thead>\n    <tr style=\"text-align: right;\">\n      <th></th>\n      <th></th>\n      <th>fixed_acidity</th>\n      <th>volatile_acidity</th>\n      <th>citric_acid</th>\n      <th>residual_sugar</th>\n      <th>chlorides</th>\n      <th>free_sulfur_dioxide</th>\n      <th>total_sulfur_dioxide</th>\n      <th>density</th>\n      <th>pH</th>\n      <th>sulphates</th>\n      <th>alcohol</th>\n      <th>total_sulfur_dioxide.1</th>\n    </tr>\n    <tr>\n      <th>quality</th>\n      <th>color</th>\n      <th></th>\n      <th></th>\n      <th></th>\n      <th></th>\n      <th></th>\n      <th></th>\n      <th></th>\n      <th></th>\n      <th></th>\n      <th></th>\n      <th></th>\n      <th></th>\n    </tr>\n  </thead>\n  <tbody>\n    <tr>\n      <th rowspan=\"2\" valign=\"top\">3</th>\n      <th>red</th>\n      <td>8.360000</td>\n      <td>0.884500</td>\n      <td>0.171000</td>\n      <td>2.635000</td>\n      <td>0.122500</td>\n      <td>11.000000</td>\n      <td>24.900000</td>\n      <td>0.997464</td>\n      <td>3.398000</td>\n      <td>0.570000</td>\n      <td>9.955000</td>\n      <td>NaN</td>\n    </tr>\n    <tr>\n      <th>white</th>\n      <td>7.600000</td>\n      <td>0.333250</td>\n      <td>0.336000</td>\n      <td>6.392500</td>\n      <td>0.054300</td>\n      <td>53.325000</td>\n      <td>NaN</td>\n      <td>0.994884</td>\n      <td>3.187500</td>\n      <td>0.474500</td>\n      <td>10.345000</td>\n      <td>170.600000</td>\n    </tr>\n    <tr>\n      <th rowspan=\"2\" valign=\"top\">4</th>\n      <th>red</th>\n      <td>7.779245</td>\n      <td>0.693962</td>\n      <td>0.174151</td>\n      <td>2.694340</td>\n      <td>0.090679</td>\n      <td>12.264151</td>\n      <td>36.245283</td>\n      <td>0.996542</td>\n      <td>3.381509</td>\n      <td>0.596415</td>\n      <td>10.265094</td>\n      <td>NaN</td>\n    </tr>\n    <tr>\n      <th>white</th>\n      <td>7.129448</td>\n      <td>0.381227</td>\n      <td>0.304233</td>\n      <td>4.628221</td>\n      <td>0.050098</td>\n      <td>23.358896</td>\n      <td>NaN</td>\n      <td>0.994277</td>\n      <td>3.182883</td>\n      <td>0.476135</td>\n      <td>10.152454</td>\n      <td>125.279141</td>\n    </tr>\n    <tr>\n      <th rowspan=\"2\" valign=\"top\">5</th>\n      <th>red</th>\n      <td>8.167254</td>\n      <td>0.577041</td>\n      <td>0.243686</td>\n      <td>2.528855</td>\n      <td>0.092736</td>\n      <td>16.983847</td>\n      <td>56.513950</td>\n      <td>0.997104</td>\n      <td>3.304949</td>\n      <td>0.620969</td>\n      <td>9.899706</td>\n      <td>NaN</td>\n    </tr>\n    <tr>\n      <th>white</th>\n      <td>6.933974</td>\n      <td>0.302011</td>\n      <td>0.337653</td>\n      <td>7.334969</td>\n      <td>0.051546</td>\n      <td>36.432052</td>\n      <td>NaN</td>\n      <td>0.995263</td>\n      <td>3.168833</td>\n      <td>0.482203</td>\n      <td>9.808840</td>\n      <td>150.904598</td>\n    </tr>\n    <tr>\n      <th rowspan=\"2\" valign=\"top\">6</th>\n      <th>red</th>\n      <td>8.347179</td>\n      <td>0.497484</td>\n      <td>0.273824</td>\n      <td>2.477194</td>\n      <td>0.084956</td>\n      <td>15.711599</td>\n      <td>40.869906</td>\n      <td>0.996615</td>\n      <td>3.318072</td>\n      <td>0.675329</td>\n      <td>10.629519</td>\n      <td>NaN</td>\n    </tr>\n    <tr>\n      <th>white</th>\n      <td>6.837671</td>\n      <td>0.260564</td>\n      <td>0.338025</td>\n      <td>6.441606</td>\n      <td>0.045217</td>\n      <td>35.650591</td>\n      <td>NaN</td>\n      <td>0.993961</td>\n      <td>3.188599</td>\n      <td>0.491106</td>\n      <td>10.575372</td>\n      <td>137.047316</td>\n    </tr>\n    <tr>\n      <th rowspan=\"2\" valign=\"top\">7</th>\n      <th>red</th>\n      <td>8.872362</td>\n      <td>0.403920</td>\n      <td>0.375176</td>\n      <td>2.720603</td>\n      <td>0.076588</td>\n      <td>14.045226</td>\n      <td>35.020101</td>\n      <td>0.996104</td>\n      <td>3.290754</td>\n      <td>0.741256</td>\n      <td>11.465913</td>\n      <td>NaN</td>\n    </tr>\n    <tr>\n      <th>white</th>\n      <td>6.734716</td>\n      <td>0.262767</td>\n      <td>0.325625</td>\n      <td>5.186477</td>\n      <td>0.038191</td>\n      <td>34.125568</td>\n      <td>NaN</td>\n      <td>0.992452</td>\n      <td>3.213898</td>\n      <td>0.503102</td>\n      <td>11.367936</td>\n      <td>125.114773</td>\n    </tr>\n    <tr>\n      <th rowspan=\"2\" valign=\"top\">8</th>\n      <th>red</th>\n      <td>8.566667</td>\n      <td>0.423333</td>\n      <td>0.391111</td>\n      <td>2.577778</td>\n      <td>0.068444</td>\n      <td>13.277778</td>\n      <td>33.444444</td>\n      <td>0.995212</td>\n      <td>3.267222</td>\n      <td>0.767778</td>\n      <td>12.094444</td>\n      <td>NaN</td>\n    </tr>\n    <tr>\n      <th>white</th>\n      <td>6.657143</td>\n      <td>0.277400</td>\n      <td>0.326514</td>\n      <td>5.671429</td>\n      <td>0.038314</td>\n      <td>36.720000</td>\n      <td>NaN</td>\n      <td>0.992236</td>\n      <td>3.218686</td>\n      <td>0.486229</td>\n      <td>11.636000</td>\n      <td>126.165714</td>\n    </tr>\n    <tr>\n      <th>9</th>\n      <th>white</th>\n      <td>7.420000</td>\n      <td>0.298000</td>\n      <td>0.386000</td>\n      <td>4.120000</td>\n      <td>0.027400</td>\n      <td>33.400000</td>\n      <td>NaN</td>\n      <td>0.991460</td>\n      <td>3.308000</td>\n      <td>0.466000</td>\n      <td>12.180000</td>\n      <td>116.000000</td>\n    </tr>\n  </tbody>\n</table>\n</div>"
     },
     "metadata": {},
     "execution_count": 9
    }
   ],
   "source": [
    "wine_df.groupby([wine_df.quality,wine_df.color]).mean()"
   ]
  },
  {
   "cell_type": "code",
   "execution_count": 11,
   "metadata": {},
   "outputs": [
    {
     "output_type": "execute_result",
     "data": {
      "text/plain": [
       "    quality  color  fixed_acidity  volatile_acidity  citric_acid  \\\n",
       "0         3    red       8.360000          0.884500     0.171000   \n",
       "1         3  white       7.600000          0.333250     0.336000   \n",
       "2         4    red       7.779245          0.693962     0.174151   \n",
       "3         4  white       7.129448          0.381227     0.304233   \n",
       "4         5    red       8.167254          0.577041     0.243686   \n",
       "5         5  white       6.933974          0.302011     0.337653   \n",
       "6         6    red       8.347179          0.497484     0.273824   \n",
       "7         6  white       6.837671          0.260564     0.338025   \n",
       "8         7    red       8.872362          0.403920     0.375176   \n",
       "9         7  white       6.734716          0.262767     0.325625   \n",
       "10        8    red       8.566667          0.423333     0.391111   \n",
       "11        8  white       6.657143          0.277400     0.326514   \n",
       "12        9  white       7.420000          0.298000     0.386000   \n",
       "\n",
       "    residual_sugar  chlorides  free_sulfur_dioxide  total_sulfur_dioxide  \\\n",
       "0         2.635000   0.122500            11.000000             24.900000   \n",
       "1         6.392500   0.054300            53.325000                   NaN   \n",
       "2         2.694340   0.090679            12.264151             36.245283   \n",
       "3         4.628221   0.050098            23.358896                   NaN   \n",
       "4         2.528855   0.092736            16.983847             56.513950   \n",
       "5         7.334969   0.051546            36.432052                   NaN   \n",
       "6         2.477194   0.084956            15.711599             40.869906   \n",
       "7         6.441606   0.045217            35.650591                   NaN   \n",
       "8         2.720603   0.076588            14.045226             35.020101   \n",
       "9         5.186477   0.038191            34.125568                   NaN   \n",
       "10        2.577778   0.068444            13.277778             33.444444   \n",
       "11        5.671429   0.038314            36.720000                   NaN   \n",
       "12        4.120000   0.027400            33.400000                   NaN   \n",
       "\n",
       "     density        pH  sulphates    alcohol  total_sulfur_dioxide.1  \n",
       "0   0.997464  3.398000   0.570000   9.955000                     NaN  \n",
       "1   0.994884  3.187500   0.474500  10.345000              170.600000  \n",
       "2   0.996542  3.381509   0.596415  10.265094                     NaN  \n",
       "3   0.994277  3.182883   0.476135  10.152454              125.279141  \n",
       "4   0.997104  3.304949   0.620969   9.899706                     NaN  \n",
       "5   0.995263  3.168833   0.482203   9.808840              150.904598  \n",
       "6   0.996615  3.318072   0.675329  10.629519                     NaN  \n",
       "7   0.993961  3.188599   0.491106  10.575372              137.047316  \n",
       "8   0.996104  3.290754   0.741256  11.465913                     NaN  \n",
       "9   0.992452  3.213898   0.503102  11.367936              125.114773  \n",
       "10  0.995212  3.267222   0.767778  12.094444                     NaN  \n",
       "11  0.992236  3.218686   0.486229  11.636000              126.165714  \n",
       "12  0.991460  3.308000   0.466000  12.180000              116.000000  "
      ],
      "text/html": "<div>\n<style scoped>\n    .dataframe tbody tr th:only-of-type {\n        vertical-align: middle;\n    }\n\n    .dataframe tbody tr th {\n        vertical-align: top;\n    }\n\n    .dataframe thead th {\n        text-align: right;\n    }\n</style>\n<table border=\"1\" class=\"dataframe\">\n  <thead>\n    <tr style=\"text-align: right;\">\n      <th></th>\n      <th>quality</th>\n      <th>color</th>\n      <th>fixed_acidity</th>\n      <th>volatile_acidity</th>\n      <th>citric_acid</th>\n      <th>residual_sugar</th>\n      <th>chlorides</th>\n      <th>free_sulfur_dioxide</th>\n      <th>total_sulfur_dioxide</th>\n      <th>density</th>\n      <th>pH</th>\n      <th>sulphates</th>\n      <th>alcohol</th>\n      <th>total_sulfur_dioxide.1</th>\n    </tr>\n  </thead>\n  <tbody>\n    <tr>\n      <th>0</th>\n      <td>3</td>\n      <td>red</td>\n      <td>8.360000</td>\n      <td>0.884500</td>\n      <td>0.171000</td>\n      <td>2.635000</td>\n      <td>0.122500</td>\n      <td>11.000000</td>\n      <td>24.900000</td>\n      <td>0.997464</td>\n      <td>3.398000</td>\n      <td>0.570000</td>\n      <td>9.955000</td>\n      <td>NaN</td>\n    </tr>\n    <tr>\n      <th>1</th>\n      <td>3</td>\n      <td>white</td>\n      <td>7.600000</td>\n      <td>0.333250</td>\n      <td>0.336000</td>\n      <td>6.392500</td>\n      <td>0.054300</td>\n      <td>53.325000</td>\n      <td>NaN</td>\n      <td>0.994884</td>\n      <td>3.187500</td>\n      <td>0.474500</td>\n      <td>10.345000</td>\n      <td>170.600000</td>\n    </tr>\n    <tr>\n      <th>2</th>\n      <td>4</td>\n      <td>red</td>\n      <td>7.779245</td>\n      <td>0.693962</td>\n      <td>0.174151</td>\n      <td>2.694340</td>\n      <td>0.090679</td>\n      <td>12.264151</td>\n      <td>36.245283</td>\n      <td>0.996542</td>\n      <td>3.381509</td>\n      <td>0.596415</td>\n      <td>10.265094</td>\n      <td>NaN</td>\n    </tr>\n    <tr>\n      <th>3</th>\n      <td>4</td>\n      <td>white</td>\n      <td>7.129448</td>\n      <td>0.381227</td>\n      <td>0.304233</td>\n      <td>4.628221</td>\n      <td>0.050098</td>\n      <td>23.358896</td>\n      <td>NaN</td>\n      <td>0.994277</td>\n      <td>3.182883</td>\n      <td>0.476135</td>\n      <td>10.152454</td>\n      <td>125.279141</td>\n    </tr>\n    <tr>\n      <th>4</th>\n      <td>5</td>\n      <td>red</td>\n      <td>8.167254</td>\n      <td>0.577041</td>\n      <td>0.243686</td>\n      <td>2.528855</td>\n      <td>0.092736</td>\n      <td>16.983847</td>\n      <td>56.513950</td>\n      <td>0.997104</td>\n      <td>3.304949</td>\n      <td>0.620969</td>\n      <td>9.899706</td>\n      <td>NaN</td>\n    </tr>\n    <tr>\n      <th>5</th>\n      <td>5</td>\n      <td>white</td>\n      <td>6.933974</td>\n      <td>0.302011</td>\n      <td>0.337653</td>\n      <td>7.334969</td>\n      <td>0.051546</td>\n      <td>36.432052</td>\n      <td>NaN</td>\n      <td>0.995263</td>\n      <td>3.168833</td>\n      <td>0.482203</td>\n      <td>9.808840</td>\n      <td>150.904598</td>\n    </tr>\n    <tr>\n      <th>6</th>\n      <td>6</td>\n      <td>red</td>\n      <td>8.347179</td>\n      <td>0.497484</td>\n      <td>0.273824</td>\n      <td>2.477194</td>\n      <td>0.084956</td>\n      <td>15.711599</td>\n      <td>40.869906</td>\n      <td>0.996615</td>\n      <td>3.318072</td>\n      <td>0.675329</td>\n      <td>10.629519</td>\n      <td>NaN</td>\n    </tr>\n    <tr>\n      <th>7</th>\n      <td>6</td>\n      <td>white</td>\n      <td>6.837671</td>\n      <td>0.260564</td>\n      <td>0.338025</td>\n      <td>6.441606</td>\n      <td>0.045217</td>\n      <td>35.650591</td>\n      <td>NaN</td>\n      <td>0.993961</td>\n      <td>3.188599</td>\n      <td>0.491106</td>\n      <td>10.575372</td>\n      <td>137.047316</td>\n    </tr>\n    <tr>\n      <th>8</th>\n      <td>7</td>\n      <td>red</td>\n      <td>8.872362</td>\n      <td>0.403920</td>\n      <td>0.375176</td>\n      <td>2.720603</td>\n      <td>0.076588</td>\n      <td>14.045226</td>\n      <td>35.020101</td>\n      <td>0.996104</td>\n      <td>3.290754</td>\n      <td>0.741256</td>\n      <td>11.465913</td>\n      <td>NaN</td>\n    </tr>\n    <tr>\n      <th>9</th>\n      <td>7</td>\n      <td>white</td>\n      <td>6.734716</td>\n      <td>0.262767</td>\n      <td>0.325625</td>\n      <td>5.186477</td>\n      <td>0.038191</td>\n      <td>34.125568</td>\n      <td>NaN</td>\n      <td>0.992452</td>\n      <td>3.213898</td>\n      <td>0.503102</td>\n      <td>11.367936</td>\n      <td>125.114773</td>\n    </tr>\n    <tr>\n      <th>10</th>\n      <td>8</td>\n      <td>red</td>\n      <td>8.566667</td>\n      <td>0.423333</td>\n      <td>0.391111</td>\n      <td>2.577778</td>\n      <td>0.068444</td>\n      <td>13.277778</td>\n      <td>33.444444</td>\n      <td>0.995212</td>\n      <td>3.267222</td>\n      <td>0.767778</td>\n      <td>12.094444</td>\n      <td>NaN</td>\n    </tr>\n    <tr>\n      <th>11</th>\n      <td>8</td>\n      <td>white</td>\n      <td>6.657143</td>\n      <td>0.277400</td>\n      <td>0.326514</td>\n      <td>5.671429</td>\n      <td>0.038314</td>\n      <td>36.720000</td>\n      <td>NaN</td>\n      <td>0.992236</td>\n      <td>3.218686</td>\n      <td>0.486229</td>\n      <td>11.636000</td>\n      <td>126.165714</td>\n    </tr>\n    <tr>\n      <th>12</th>\n      <td>9</td>\n      <td>white</td>\n      <td>7.420000</td>\n      <td>0.298000</td>\n      <td>0.386000</td>\n      <td>4.120000</td>\n      <td>0.027400</td>\n      <td>33.400000</td>\n      <td>NaN</td>\n      <td>0.991460</td>\n      <td>3.308000</td>\n      <td>0.466000</td>\n      <td>12.180000</td>\n      <td>116.000000</td>\n    </tr>\n  </tbody>\n</table>\n</div>"
     },
     "metadata": {},
     "execution_count": 11
    }
   ],
   "source": [
    "wine_df.groupby([\"quality\" ,  \"color\"], as_index=False).mean()"
   ]
  },
  {
   "cell_type": "code",
   "execution_count": 16,
   "metadata": {},
   "outputs": [
    {
     "output_type": "execute_result",
     "data": {
      "text/plain": [
       "    quality  color        pH\n",
       "0         3    red  3.398000\n",
       "1         3  white  3.187500\n",
       "2         4    red  3.381509\n",
       "3         4  white  3.182883\n",
       "4         5    red  3.304949\n",
       "5         5  white  3.168833\n",
       "6         6    red  3.318072\n",
       "7         6  white  3.188599\n",
       "8         7    red  3.290754\n",
       "9         7  white  3.213898\n",
       "10        8    red  3.267222\n",
       "11        8  white  3.218686\n",
       "12        9  white  3.308000"
      ],
      "text/html": "<div>\n<style scoped>\n    .dataframe tbody tr th:only-of-type {\n        vertical-align: middle;\n    }\n\n    .dataframe tbody tr th {\n        vertical-align: top;\n    }\n\n    .dataframe thead th {\n        text-align: right;\n    }\n</style>\n<table border=\"1\" class=\"dataframe\">\n  <thead>\n    <tr style=\"text-align: right;\">\n      <th></th>\n      <th>quality</th>\n      <th>color</th>\n      <th>pH</th>\n    </tr>\n  </thead>\n  <tbody>\n    <tr>\n      <th>0</th>\n      <td>3</td>\n      <td>red</td>\n      <td>3.398000</td>\n    </tr>\n    <tr>\n      <th>1</th>\n      <td>3</td>\n      <td>white</td>\n      <td>3.187500</td>\n    </tr>\n    <tr>\n      <th>2</th>\n      <td>4</td>\n      <td>red</td>\n      <td>3.381509</td>\n    </tr>\n    <tr>\n      <th>3</th>\n      <td>4</td>\n      <td>white</td>\n      <td>3.182883</td>\n    </tr>\n    <tr>\n      <th>4</th>\n      <td>5</td>\n      <td>red</td>\n      <td>3.304949</td>\n    </tr>\n    <tr>\n      <th>5</th>\n      <td>5</td>\n      <td>white</td>\n      <td>3.168833</td>\n    </tr>\n    <tr>\n      <th>6</th>\n      <td>6</td>\n      <td>red</td>\n      <td>3.318072</td>\n    </tr>\n    <tr>\n      <th>7</th>\n      <td>6</td>\n      <td>white</td>\n      <td>3.188599</td>\n    </tr>\n    <tr>\n      <th>8</th>\n      <td>7</td>\n      <td>red</td>\n      <td>3.290754</td>\n    </tr>\n    <tr>\n      <th>9</th>\n      <td>7</td>\n      <td>white</td>\n      <td>3.213898</td>\n    </tr>\n    <tr>\n      <th>10</th>\n      <td>8</td>\n      <td>red</td>\n      <td>3.267222</td>\n    </tr>\n    <tr>\n      <th>11</th>\n      <td>8</td>\n      <td>white</td>\n      <td>3.218686</td>\n    </tr>\n    <tr>\n      <th>12</th>\n      <td>9</td>\n      <td>white</td>\n      <td>3.308000</td>\n    </tr>\n  </tbody>\n</table>\n</div>"
     },
     "metadata": {},
     "execution_count": 16
    }
   ],
   "source": [
    "wine_df.groupby([\"quality\" , \"color\"],as_index=False)[\"pH\"].mean()"
   ]
  },
  {
   "cell_type": "code",
   "execution_count": null,
   "metadata": {},
   "outputs": [],
   "source": []
  }
 ]
}