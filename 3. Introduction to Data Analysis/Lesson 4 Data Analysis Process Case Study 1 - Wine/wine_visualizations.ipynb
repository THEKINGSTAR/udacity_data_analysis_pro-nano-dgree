{
 "cells": [
  {
   "cell_type": "markdown",
   "metadata": {},
   "source": [
    "# Plotting with Matplotlib\n",
    "Use Matplotlib to create bar charts that visualize the conclusions you made with groupby and query."
   ]
  },
  {
   "cell_type": "code",
   "execution_count": null,
   "metadata": {
    "collapsed": true
   },
   "outputs": [],
   "source": [
    "# Import necessary packages and load `winequality_edited.csv`\n",
    "\n",
    "\n",
    "df ="
   ]
  },
  {
   "cell_type": "markdown",
   "metadata": {},
   "source": [
    "### #1: Do wines with higher alcoholic content receive better ratings?\n",
    "Create a bar chart with one bar for low alcohol and one bar for high alcohol wine samples. This first one is filled out for you."
   ]
  },
  {
   "cell_type": "code",
   "execution_count": null,
   "metadata": {
    "collapsed": true
   },
   "outputs": [],
   "source": [
    "# Use query to select each group and get its mean quality\n",
    "median = df['alcohol'].median()\n",
    "low = df.query('alcohol < {}'.format(median))\n",
    "high = df.query('alcohol >= {}'.format(median))\n",
    "\n",
    "mean_quality_low = low['quality'].mean()\n",
    "mean_quality_high = high['quality'].mean()"
   ]
  },
  {
   "cell_type": "code",
   "execution_count": null,
   "metadata": {
    "collapsed": true
   },
   "outputs": [],
   "source": [
    "# Create a bar chart with proper labels\n",
    "locations = [1, 2]\n",
    "heights = [mean_quality_low, mean_quality_high]\n",
    "labels = ['Low', 'High']\n",
    "plt.bar(locations, heights, tick_label=labels)\n",
    "plt.title('Average Quality Ratings by Alcohol Content')\n",
    "plt.xlabel('Alcohol Content')\n",
    "plt.ylabel('Average Quality Rating');"
   ]
  },
  {
   "cell_type": "markdown",
   "metadata": {},
   "source": [
    "### #2: Do sweeter wines receive higher ratings?\n",
    "Create a bar chart with one bar for low residual sugar and one bar for high residual sugar wine samples."
   ]
  },
  {
   "cell_type": "code",
   "execution_count": null,
   "metadata": {
    "collapsed": true
   },
   "outputs": [],
   "source": [
    "# Use query to select each group and get its mean quality\n",
    "\n"
   ]
  },
  {
   "cell_type": "code",
   "execution_count": null,
   "metadata": {
    "collapsed": true
   },
   "outputs": [],
   "source": [
    "# Create a bar chart with proper labels\n",
    "\n"
   ]
  },
  {
   "cell_type": "markdown",
   "metadata": {},
   "source": [
    "### #3: What level of acidity receives the highest average rating?\n",
    "Create a bar chart with a bar for each of the four acidity levels."
   ]
  },
  {
   "cell_type": "code",
   "execution_count": null,
   "metadata": {
    "collapsed": true
   },
   "outputs": [],
   "source": [
    "# Use groupby to get the mean quality for each acidity level\n"
   ]
  },
  {
   "cell_type": "code",
   "execution_count": null,
   "metadata": {
    "collapsed": true
   },
   "outputs": [],
   "source": [
    "# Create a bar chart with proper labels\n",
    "\n"
   ]
  },
  {
   "cell_type": "markdown",
   "metadata": {},
   "source": [
    "### Bonus: Create a line plot for the data in #3\n",
    "You can use pyplot's [plot](https://matplotlib.org/api/pyplot_api.html#matplotlib.pyplot.plot) function for this."
   ]
  },
  {
   "cell_type": "code",
   "execution_count": null,
   "metadata": {
    "collapsed": true
   },
   "outputs": [],
   "source": []
  },
  {
   "cell_type": "markdown",
   "metadata": {},
   "source": [
    "Compare this with the bar chart. How might showing this visual instead of the bar chart affect someone's conclusion about this data?"
   ]
  }
 ],
 "metadata": {
  "kernelspec": {
   "display_name": "Python 3",
   "language": "python",
   "name": "python3"
  },
  "language_info": {
   "codemirror_mode": {
    "name": "ipython",
    "version": 3
   },
   "file_extension": ".py",
   "mimetype": "text/x-python",
   "name": "python",
   "nbconvert_exporter": "python",
   "pygments_lexer": "ipython3",
   "version": "3.6.3"
  }
 },
 "nbformat": 4,
 "nbformat_minor": 2
}
