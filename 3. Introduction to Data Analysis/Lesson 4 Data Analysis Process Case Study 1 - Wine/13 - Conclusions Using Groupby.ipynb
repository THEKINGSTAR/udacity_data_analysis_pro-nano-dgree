{
 "cells": [
  {
   "source": [
    "# Drawing Conclusions Using Groupby\n",
    "In the notebook below, you're going to investigate two questions about this data using pandas' groupby function. Here are tips for answering each question:\n",
    "***\n",
    "## Q1: Is a certain type of wine (red or white) associated with higher quality?\n",
    "For this question, compare the average quality of red wine with the average quality of white wine with groupby. To do this group by color and then find the mean quality of each group.\n",
    "***\n",
    "## Q2: What level of acidity (pH value) receives the highest average rating?\n",
    "This question is more tricky because unlike color, which has clear categories you can group by (red and white) pH is a quantitative variable without clear categories. However, there is a simple fix to this. You can create a categorical variable from a quantitative variable by creating your own categories. pandas' cut function let's you \"cut\" data in groups. Using this, create a new column called acidity_levels with these categories:\n",
    "\n",
    "### Acidity Levels:\n",
    "1. High: Lowest 25% of pH values\n",
    "2. Moderately High: 25% - 50% of pH values\n",
    "3. Medium: 50% - 75% of pH values\n",
    "4. Low: 75% - max pH value\n",
    "\n",
    "\n",
    "Here, the data is being split at the 25th, 50th, and 75th percentile. Remember, you can get these numbers with pandas' describe()! After you create these four categories, you'll be able to use groupby to get the mean quality rating for each acidity level.\n",
    "***"
   ],
   "cell_type": "markdown",
   "metadata": {}
  },
  {
   "cell_type": "markdown",
   "metadata": {},
   "source": [
    "# Drawing Conclusions Using Groupby"
   ]
  },
  {
   "cell_type": "markdown",
   "metadata": {},
   "source": [
    "Use `winequality_edited.csv`. You should've created this data file in the previous section: *Appending Data (cont.)*."
   ]
  },
  {
   "cell_type": "code",
   "execution_count": 1,
   "metadata": {},
   "outputs": [],
   "source": [
    "import pandas as pd"
   ]
  },
  {
   "source": [
    "# Load dataset\n",
    "\n",
    "df = pd.read_csv(\"winequality_edited.csv\")\n",
    "df.head(3)"
   ],
   "cell_type": "code",
   "metadata": {
    "collapsed": true
   },
   "execution_count": 2,
   "outputs": [
    {
     "output_type": "execute_result",
     "data": {
      "text/plain": [
       "   fixed_acidity  volatile_acidity  citric_acid  residual_sugar  chlorides  \\\n",
       "0            7.4              0.70         0.00             1.9      0.076   \n",
       "1            7.8              0.88         0.00             2.6      0.098   \n",
       "2            7.8              0.76         0.04             2.3      0.092   \n",
       "\n",
       "   free_sulfur_dioxide  total_sulfur_dioxide  density    pH  sulphates  \\\n",
       "0                 11.0                  34.0   0.9978  3.51       0.56   \n",
       "1                 25.0                  67.0   0.9968  3.20       0.68   \n",
       "2                 15.0                  54.0   0.9970  3.26       0.65   \n",
       "\n",
       "   alcohol  quality color  total_sulfur_dioxide.1  \n",
       "0      9.4        5   red                     NaN  \n",
       "1      9.8        5   red                     NaN  \n",
       "2      9.8        5   red                     NaN  "
      ],
      "text/html": "<div>\n<style scoped>\n    .dataframe tbody tr th:only-of-type {\n        vertical-align: middle;\n    }\n\n    .dataframe tbody tr th {\n        vertical-align: top;\n    }\n\n    .dataframe thead th {\n        text-align: right;\n    }\n</style>\n<table border=\"1\" class=\"dataframe\">\n  <thead>\n    <tr style=\"text-align: right;\">\n      <th></th>\n      <th>fixed_acidity</th>\n      <th>volatile_acidity</th>\n      <th>citric_acid</th>\n      <th>residual_sugar</th>\n      <th>chlorides</th>\n      <th>free_sulfur_dioxide</th>\n      <th>total_sulfur_dioxide</th>\n      <th>density</th>\n      <th>pH</th>\n      <th>sulphates</th>\n      <th>alcohol</th>\n      <th>quality</th>\n      <th>color</th>\n      <th>total_sulfur_dioxide.1</th>\n    </tr>\n  </thead>\n  <tbody>\n    <tr>\n      <th>0</th>\n      <td>7.4</td>\n      <td>0.70</td>\n      <td>0.00</td>\n      <td>1.9</td>\n      <td>0.076</td>\n      <td>11.0</td>\n      <td>34.0</td>\n      <td>0.9978</td>\n      <td>3.51</td>\n      <td>0.56</td>\n      <td>9.4</td>\n      <td>5</td>\n      <td>red</td>\n      <td>NaN</td>\n    </tr>\n    <tr>\n      <th>1</th>\n      <td>7.8</td>\n      <td>0.88</td>\n      <td>0.00</td>\n      <td>2.6</td>\n      <td>0.098</td>\n      <td>25.0</td>\n      <td>67.0</td>\n      <td>0.9968</td>\n      <td>3.20</td>\n      <td>0.68</td>\n      <td>9.8</td>\n      <td>5</td>\n      <td>red</td>\n      <td>NaN</td>\n    </tr>\n    <tr>\n      <th>2</th>\n      <td>7.8</td>\n      <td>0.76</td>\n      <td>0.04</td>\n      <td>2.3</td>\n      <td>0.092</td>\n      <td>15.0</td>\n      <td>54.0</td>\n      <td>0.9970</td>\n      <td>3.26</td>\n      <td>0.65</td>\n      <td>9.8</td>\n      <td>5</td>\n      <td>red</td>\n      <td>NaN</td>\n    </tr>\n  </tbody>\n</table>\n</div>"
     },
     "metadata": {},
     "execution_count": 2
    }
   ]
  },
  {
   "cell_type": "markdown",
   "metadata": {
    "collapsed": true
   },
   "source": [
    "### Is a certain type of wine associated with higher quality?"
   ]
  },
  {
   "cell_type": "code",
   "execution_count": 11,
   "metadata": {},
   "outputs": [
    {
     "output_type": "execute_result",
     "data": {
      "text/plain": [
       "       fixed_acidity  volatile_acidity  citric_acid  residual_sugar  \\\n",
       "color                                                                 \n",
       "red         8.319637          0.527821     0.270976        2.538806   \n",
       "white       6.854788          0.278241     0.334192        6.391415   \n",
       "\n",
       "       chlorides  free_sulfur_dioxide  total_sulfur_dioxide   density  \\\n",
       "color                                                                   \n",
       "red     0.087467            15.874922             46.467792  0.996747   \n",
       "white   0.045772            35.308085                   NaN  0.994027   \n",
       "\n",
       "             pH  sulphates    alcohol   quality  total_sulfur_dioxide.1  \n",
       "color                                                                    \n",
       "red    3.311113   0.658149  10.422983  5.636023                     NaN  \n",
       "white  3.188267   0.489847  10.514267  5.877909              138.360657  "
      ],
      "text/html": "<div>\n<style scoped>\n    .dataframe tbody tr th:only-of-type {\n        vertical-align: middle;\n    }\n\n    .dataframe tbody tr th {\n        vertical-align: top;\n    }\n\n    .dataframe thead th {\n        text-align: right;\n    }\n</style>\n<table border=\"1\" class=\"dataframe\">\n  <thead>\n    <tr style=\"text-align: right;\">\n      <th></th>\n      <th>fixed_acidity</th>\n      <th>volatile_acidity</th>\n      <th>citric_acid</th>\n      <th>residual_sugar</th>\n      <th>chlorides</th>\n      <th>free_sulfur_dioxide</th>\n      <th>total_sulfur_dioxide</th>\n      <th>density</th>\n      <th>pH</th>\n      <th>sulphates</th>\n      <th>alcohol</th>\n      <th>quality</th>\n      <th>total_sulfur_dioxide.1</th>\n    </tr>\n    <tr>\n      <th>color</th>\n      <th></th>\n      <th></th>\n      <th></th>\n      <th></th>\n      <th></th>\n      <th></th>\n      <th></th>\n      <th></th>\n      <th></th>\n      <th></th>\n      <th></th>\n      <th></th>\n      <th></th>\n    </tr>\n  </thead>\n  <tbody>\n    <tr>\n      <th>red</th>\n      <td>8.319637</td>\n      <td>0.527821</td>\n      <td>0.270976</td>\n      <td>2.538806</td>\n      <td>0.087467</td>\n      <td>15.874922</td>\n      <td>46.467792</td>\n      <td>0.996747</td>\n      <td>3.311113</td>\n      <td>0.658149</td>\n      <td>10.422983</td>\n      <td>5.636023</td>\n      <td>NaN</td>\n    </tr>\n    <tr>\n      <th>white</th>\n      <td>6.854788</td>\n      <td>0.278241</td>\n      <td>0.334192</td>\n      <td>6.391415</td>\n      <td>0.045772</td>\n      <td>35.308085</td>\n      <td>NaN</td>\n      <td>0.994027</td>\n      <td>3.188267</td>\n      <td>0.489847</td>\n      <td>10.514267</td>\n      <td>5.877909</td>\n      <td>138.360657</td>\n    </tr>\n  </tbody>\n</table>\n</div>"
     },
     "metadata": {},
     "execution_count": 11
    }
   ],
   "source": [
    "df.groupby(df.color).mean()"
   ]
  },
  {
   "cell_type": "code",
   "execution_count": 8,
   "metadata": {
    "collapsed": true
   },
   "outputs": [
    {
     "output_type": "execute_result",
     "data": {
      "text/plain": [
       "               fixed_acidity  volatile_acidity  citric_acid  residual_sugar  \\\n",
       "quality color                                                                 \n",
       "3       red         8.360000          0.884500     0.171000        2.635000   \n",
       "        white       7.600000          0.333250     0.336000        6.392500   \n",
       "4       red         7.779245          0.693962     0.174151        2.694340   \n",
       "        white       7.129448          0.381227     0.304233        4.628221   \n",
       "5       red         8.167254          0.577041     0.243686        2.528855   \n",
       "        white       6.933974          0.302011     0.337653        7.334969   \n",
       "6       red         8.347179          0.497484     0.273824        2.477194   \n",
       "        white       6.837671          0.260564     0.338025        6.441606   \n",
       "7       red         8.872362          0.403920     0.375176        2.720603   \n",
       "        white       6.734716          0.262767     0.325625        5.186477   \n",
       "8       red         8.566667          0.423333     0.391111        2.577778   \n",
       "        white       6.657143          0.277400     0.326514        5.671429   \n",
       "9       white       7.420000          0.298000     0.386000        4.120000   \n",
       "\n",
       "               chlorides  free_sulfur_dioxide  total_sulfur_dioxide   density  \\\n",
       "quality color                                                                   \n",
       "3       red     0.122500            11.000000             24.900000  0.997464   \n",
       "        white   0.054300            53.325000                   NaN  0.994884   \n",
       "4       red     0.090679            12.264151             36.245283  0.996542   \n",
       "        white   0.050098            23.358896                   NaN  0.994277   \n",
       "5       red     0.092736            16.983847             56.513950  0.997104   \n",
       "        white   0.051546            36.432052                   NaN  0.995263   \n",
       "6       red     0.084956            15.711599             40.869906  0.996615   \n",
       "        white   0.045217            35.650591                   NaN  0.993961   \n",
       "7       red     0.076588            14.045226             35.020101  0.996104   \n",
       "        white   0.038191            34.125568                   NaN  0.992452   \n",
       "8       red     0.068444            13.277778             33.444444  0.995212   \n",
       "        white   0.038314            36.720000                   NaN  0.992236   \n",
       "9       white   0.027400            33.400000                   NaN  0.991460   \n",
       "\n",
       "                     pH  sulphates    alcohol  total_sulfur_dioxide.1  \n",
       "quality color                                                          \n",
       "3       red    3.398000   0.570000   9.955000                     NaN  \n",
       "        white  3.187500   0.474500  10.345000              170.600000  \n",
       "4       red    3.381509   0.596415  10.265094                     NaN  \n",
       "        white  3.182883   0.476135  10.152454              125.279141  \n",
       "5       red    3.304949   0.620969   9.899706                     NaN  \n",
       "        white  3.168833   0.482203   9.808840              150.904598  \n",
       "6       red    3.318072   0.675329  10.629519                     NaN  \n",
       "        white  3.188599   0.491106  10.575372              137.047316  \n",
       "7       red    3.290754   0.741256  11.465913                     NaN  \n",
       "        white  3.213898   0.503102  11.367936              125.114773  \n",
       "8       red    3.267222   0.767778  12.094444                     NaN  \n",
       "        white  3.218686   0.486229  11.636000              126.165714  \n",
       "9       white  3.308000   0.466000  12.180000              116.000000  "
      ],
      "text/html": "<div>\n<style scoped>\n    .dataframe tbody tr th:only-of-type {\n        vertical-align: middle;\n    }\n\n    .dataframe tbody tr th {\n        vertical-align: top;\n    }\n\n    .dataframe thead th {\n        text-align: right;\n    }\n</style>\n<table border=\"1\" class=\"dataframe\">\n  <thead>\n    <tr style=\"text-align: right;\">\n      <th></th>\n      <th></th>\n      <th>fixed_acidity</th>\n      <th>volatile_acidity</th>\n      <th>citric_acid</th>\n      <th>residual_sugar</th>\n      <th>chlorides</th>\n      <th>free_sulfur_dioxide</th>\n      <th>total_sulfur_dioxide</th>\n      <th>density</th>\n      <th>pH</th>\n      <th>sulphates</th>\n      <th>alcohol</th>\n      <th>total_sulfur_dioxide.1</th>\n    </tr>\n    <tr>\n      <th>quality</th>\n      <th>color</th>\n      <th></th>\n      <th></th>\n      <th></th>\n      <th></th>\n      <th></th>\n      <th></th>\n      <th></th>\n      <th></th>\n      <th></th>\n      <th></th>\n      <th></th>\n      <th></th>\n    </tr>\n  </thead>\n  <tbody>\n    <tr>\n      <th rowspan=\"2\" valign=\"top\">3</th>\n      <th>red</th>\n      <td>8.360000</td>\n      <td>0.884500</td>\n      <td>0.171000</td>\n      <td>2.635000</td>\n      <td>0.122500</td>\n      <td>11.000000</td>\n      <td>24.900000</td>\n      <td>0.997464</td>\n      <td>3.398000</td>\n      <td>0.570000</td>\n      <td>9.955000</td>\n      <td>NaN</td>\n    </tr>\n    <tr>\n      <th>white</th>\n      <td>7.600000</td>\n      <td>0.333250</td>\n      <td>0.336000</td>\n      <td>6.392500</td>\n      <td>0.054300</td>\n      <td>53.325000</td>\n      <td>NaN</td>\n      <td>0.994884</td>\n      <td>3.187500</td>\n      <td>0.474500</td>\n      <td>10.345000</td>\n      <td>170.600000</td>\n    </tr>\n    <tr>\n      <th rowspan=\"2\" valign=\"top\">4</th>\n      <th>red</th>\n      <td>7.779245</td>\n      <td>0.693962</td>\n      <td>0.174151</td>\n      <td>2.694340</td>\n      <td>0.090679</td>\n      <td>12.264151</td>\n      <td>36.245283</td>\n      <td>0.996542</td>\n      <td>3.381509</td>\n      <td>0.596415</td>\n      <td>10.265094</td>\n      <td>NaN</td>\n    </tr>\n    <tr>\n      <th>white</th>\n      <td>7.129448</td>\n      <td>0.381227</td>\n      <td>0.304233</td>\n      <td>4.628221</td>\n      <td>0.050098</td>\n      <td>23.358896</td>\n      <td>NaN</td>\n      <td>0.994277</td>\n      <td>3.182883</td>\n      <td>0.476135</td>\n      <td>10.152454</td>\n      <td>125.279141</td>\n    </tr>\n    <tr>\n      <th rowspan=\"2\" valign=\"top\">5</th>\n      <th>red</th>\n      <td>8.167254</td>\n      <td>0.577041</td>\n      <td>0.243686</td>\n      <td>2.528855</td>\n      <td>0.092736</td>\n      <td>16.983847</td>\n      <td>56.513950</td>\n      <td>0.997104</td>\n      <td>3.304949</td>\n      <td>0.620969</td>\n      <td>9.899706</td>\n      <td>NaN</td>\n    </tr>\n    <tr>\n      <th>white</th>\n      <td>6.933974</td>\n      <td>0.302011</td>\n      <td>0.337653</td>\n      <td>7.334969</td>\n      <td>0.051546</td>\n      <td>36.432052</td>\n      <td>NaN</td>\n      <td>0.995263</td>\n      <td>3.168833</td>\n      <td>0.482203</td>\n      <td>9.808840</td>\n      <td>150.904598</td>\n    </tr>\n    <tr>\n      <th rowspan=\"2\" valign=\"top\">6</th>\n      <th>red</th>\n      <td>8.347179</td>\n      <td>0.497484</td>\n      <td>0.273824</td>\n      <td>2.477194</td>\n      <td>0.084956</td>\n      <td>15.711599</td>\n      <td>40.869906</td>\n      <td>0.996615</td>\n      <td>3.318072</td>\n      <td>0.675329</td>\n      <td>10.629519</td>\n      <td>NaN</td>\n    </tr>\n    <tr>\n      <th>white</th>\n      <td>6.837671</td>\n      <td>0.260564</td>\n      <td>0.338025</td>\n      <td>6.441606</td>\n      <td>0.045217</td>\n      <td>35.650591</td>\n      <td>NaN</td>\n      <td>0.993961</td>\n      <td>3.188599</td>\n      <td>0.491106</td>\n      <td>10.575372</td>\n      <td>137.047316</td>\n    </tr>\n    <tr>\n      <th rowspan=\"2\" valign=\"top\">7</th>\n      <th>red</th>\n      <td>8.872362</td>\n      <td>0.403920</td>\n      <td>0.375176</td>\n      <td>2.720603</td>\n      <td>0.076588</td>\n      <td>14.045226</td>\n      <td>35.020101</td>\n      <td>0.996104</td>\n      <td>3.290754</td>\n      <td>0.741256</td>\n      <td>11.465913</td>\n      <td>NaN</td>\n    </tr>\n    <tr>\n      <th>white</th>\n      <td>6.734716</td>\n      <td>0.262767</td>\n      <td>0.325625</td>\n      <td>5.186477</td>\n      <td>0.038191</td>\n      <td>34.125568</td>\n      <td>NaN</td>\n      <td>0.992452</td>\n      <td>3.213898</td>\n      <td>0.503102</td>\n      <td>11.367936</td>\n      <td>125.114773</td>\n    </tr>\n    <tr>\n      <th rowspan=\"2\" valign=\"top\">8</th>\n      <th>red</th>\n      <td>8.566667</td>\n      <td>0.423333</td>\n      <td>0.391111</td>\n      <td>2.577778</td>\n      <td>0.068444</td>\n      <td>13.277778</td>\n      <td>33.444444</td>\n      <td>0.995212</td>\n      <td>3.267222</td>\n      <td>0.767778</td>\n      <td>12.094444</td>\n      <td>NaN</td>\n    </tr>\n    <tr>\n      <th>white</th>\n      <td>6.657143</td>\n      <td>0.277400</td>\n      <td>0.326514</td>\n      <td>5.671429</td>\n      <td>0.038314</td>\n      <td>36.720000</td>\n      <td>NaN</td>\n      <td>0.992236</td>\n      <td>3.218686</td>\n      <td>0.486229</td>\n      <td>11.636000</td>\n      <td>126.165714</td>\n    </tr>\n    <tr>\n      <th>9</th>\n      <th>white</th>\n      <td>7.420000</td>\n      <td>0.298000</td>\n      <td>0.386000</td>\n      <td>4.120000</td>\n      <td>0.027400</td>\n      <td>33.400000</td>\n      <td>NaN</td>\n      <td>0.991460</td>\n      <td>3.308000</td>\n      <td>0.466000</td>\n      <td>12.180000</td>\n      <td>116.000000</td>\n    </tr>\n  </tbody>\n</table>\n</div>"
     },
     "metadata": {},
     "execution_count": 8
    }
   ],
   "source": [
    "# Find the mean quality of each wine type (red and white) with groupby\n",
    "df.groupby([df.quality , df.color]).mean()"
   ]
  },
  {
   "cell_type": "markdown",
   "metadata": {},
   "source": [
    "### What level of acidity receives the highest average rating?"
   ]
  },
  {
   "cell_type": "code",
   "execution_count": 13,
   "metadata": {
    "collapsed": true
   },
   "outputs": [
    {
     "output_type": "execute_result",
     "data": {
      "text/plain": [
       "count    6497.000000\n",
       "mean        3.218501\n",
       "std         0.160787\n",
       "min         2.720000\n",
       "25%         3.110000\n",
       "50%         3.210000\n",
       "75%         3.320000\n",
       "max         4.010000\n",
       "Name: pH, dtype: float64"
      ]
     },
     "metadata": {},
     "execution_count": 13
    }
   ],
   "source": [
    "# View the min, 25%, 50%, 75%, max pH values with Pandas describe\n",
    "df.pH.describe()"
   ]
  },
  {
   "cell_type": "code",
   "execution_count": 14,
   "metadata": {
    "collapsed": true
   },
   "outputs": [],
   "source": [
    "# Bin edges that will be used to \"cut\" the data into groups\n",
    "bin_edges = [2.720000,3.110000 , 3.210000,3.320000 , 4.010000 ] # Fill in this list with five values you just found"
   ]
  },
  {
   "cell_type": "code",
   "execution_count": 17,
   "metadata": {
    "collapsed": true
   },
   "outputs": [],
   "source": [
    "# Labels for the four acidity level groups\n",
    "bin_names = [ \"min\",\"25%\" ,\"50%\" ,\"75\" ] # Name each acidity level category"
   ]
  },
  {
   "cell_type": "code",
   "execution_count": 18,
   "metadata": {
    "collapsed": true
   },
   "outputs": [
    {
     "output_type": "execute_result",
     "data": {
      "text/plain": [
       "   fixed_acidity  volatile_acidity  citric_acid  residual_sugar  chlorides  \\\n",
       "0            7.4              0.70         0.00             1.9      0.076   \n",
       "1            7.8              0.88         0.00             2.6      0.098   \n",
       "2            7.8              0.76         0.04             2.3      0.092   \n",
       "3           11.2              0.28         0.56             1.9      0.075   \n",
       "4            7.4              0.70         0.00             1.9      0.076   \n",
       "\n",
       "   free_sulfur_dioxide  total_sulfur_dioxide  density    pH  sulphates  \\\n",
       "0                 11.0                  34.0   0.9978  3.51       0.56   \n",
       "1                 25.0                  67.0   0.9968  3.20       0.68   \n",
       "2                 15.0                  54.0   0.9970  3.26       0.65   \n",
       "3                 17.0                  60.0   0.9980  3.16       0.58   \n",
       "4                 11.0                  34.0   0.9978  3.51       0.56   \n",
       "\n",
       "   alcohol  quality color  total_sulfur_dioxide.1 acidity_levels  \n",
       "0      9.4        5   red                     NaN             75  \n",
       "1      9.8        5   red                     NaN            25%  \n",
       "2      9.8        5   red                     NaN            50%  \n",
       "3      9.8        6   red                     NaN            25%  \n",
       "4      9.4        5   red                     NaN             75  "
      ],
      "text/html": "<div>\n<style scoped>\n    .dataframe tbody tr th:only-of-type {\n        vertical-align: middle;\n    }\n\n    .dataframe tbody tr th {\n        vertical-align: top;\n    }\n\n    .dataframe thead th {\n        text-align: right;\n    }\n</style>\n<table border=\"1\" class=\"dataframe\">\n  <thead>\n    <tr style=\"text-align: right;\">\n      <th></th>\n      <th>fixed_acidity</th>\n      <th>volatile_acidity</th>\n      <th>citric_acid</th>\n      <th>residual_sugar</th>\n      <th>chlorides</th>\n      <th>free_sulfur_dioxide</th>\n      <th>total_sulfur_dioxide</th>\n      <th>density</th>\n      <th>pH</th>\n      <th>sulphates</th>\n      <th>alcohol</th>\n      <th>quality</th>\n      <th>color</th>\n      <th>total_sulfur_dioxide.1</th>\n      <th>acidity_levels</th>\n    </tr>\n  </thead>\n  <tbody>\n    <tr>\n      <th>0</th>\n      <td>7.4</td>\n      <td>0.70</td>\n      <td>0.00</td>\n      <td>1.9</td>\n      <td>0.076</td>\n      <td>11.0</td>\n      <td>34.0</td>\n      <td>0.9978</td>\n      <td>3.51</td>\n      <td>0.56</td>\n      <td>9.4</td>\n      <td>5</td>\n      <td>red</td>\n      <td>NaN</td>\n      <td>75</td>\n    </tr>\n    <tr>\n      <th>1</th>\n      <td>7.8</td>\n      <td>0.88</td>\n      <td>0.00</td>\n      <td>2.6</td>\n      <td>0.098</td>\n      <td>25.0</td>\n      <td>67.0</td>\n      <td>0.9968</td>\n      <td>3.20</td>\n      <td>0.68</td>\n      <td>9.8</td>\n      <td>5</td>\n      <td>red</td>\n      <td>NaN</td>\n      <td>25%</td>\n    </tr>\n    <tr>\n      <th>2</th>\n      <td>7.8</td>\n      <td>0.76</td>\n      <td>0.04</td>\n      <td>2.3</td>\n      <td>0.092</td>\n      <td>15.0</td>\n      <td>54.0</td>\n      <td>0.9970</td>\n      <td>3.26</td>\n      <td>0.65</td>\n      <td>9.8</td>\n      <td>5</td>\n      <td>red</td>\n      <td>NaN</td>\n      <td>50%</td>\n    </tr>\n    <tr>\n      <th>3</th>\n      <td>11.2</td>\n      <td>0.28</td>\n      <td>0.56</td>\n      <td>1.9</td>\n      <td>0.075</td>\n      <td>17.0</td>\n      <td>60.0</td>\n      <td>0.9980</td>\n      <td>3.16</td>\n      <td>0.58</td>\n      <td>9.8</td>\n      <td>6</td>\n      <td>red</td>\n      <td>NaN</td>\n      <td>25%</td>\n    </tr>\n    <tr>\n      <th>4</th>\n      <td>7.4</td>\n      <td>0.70</td>\n      <td>0.00</td>\n      <td>1.9</td>\n      <td>0.076</td>\n      <td>11.0</td>\n      <td>34.0</td>\n      <td>0.9978</td>\n      <td>3.51</td>\n      <td>0.56</td>\n      <td>9.4</td>\n      <td>5</td>\n      <td>red</td>\n      <td>NaN</td>\n      <td>75</td>\n    </tr>\n  </tbody>\n</table>\n</div>"
     },
     "metadata": {},
     "execution_count": 18
    }
   ],
   "source": [
    "# Creates acidity_levels column\n",
    "df['acidity_levels'] = pd.cut(df['pH'], bin_edges, labels=bin_names)\n",
    "\n",
    "# Checks for successful creation of this column\n",
    "df.head()"
   ]
  },
  {
   "cell_type": "code",
   "execution_count": 21,
   "metadata": {
    "collapsed": true
   },
   "outputs": [
    {
     "output_type": "execute_result",
     "data": {
      "text/plain": [
       "                fixed_acidity  volatile_acidity  citric_acid  residual_sugar  \\\n",
       "acidity_levels                                                                 \n",
       "min                  7.543914          0.294683     0.370792        7.088876   \n",
       "25%                  7.365064          0.318551     0.340548        5.931984   \n",
       "50%                  7.143566          0.346751     0.313585        4.721159   \n",
       "75                   6.769949          0.403815     0.243901        3.848983   \n",
       "\n",
       "                chlorides  free_sulfur_dioxide  total_sulfur_dioxide  \\\n",
       "acidity_levels                                                         \n",
       "min              0.055131            33.179965             50.111888   \n",
       "25%              0.054666            33.229154             47.921708   \n",
       "50%              0.055715            28.983995             49.702032   \n",
       "75               0.058777            26.327510             43.240437   \n",
       "\n",
       "                 density        pH  sulphates    alcohol   quality  \\\n",
       "acidity_levels                                                       \n",
       "min             0.994708  3.029062   0.503937  10.330208  5.783343   \n",
       "25%             0.994697  3.164833   0.509300  10.391073  5.784540   \n",
       "50%             0.994476  3.267010   0.541287  10.610369  5.850832   \n",
       "75              0.994899  3.433348   0.574136  10.656057  5.859593   \n",
       "\n",
       "                total_sulfur_dioxide.1  \n",
       "acidity_levels                          \n",
       "min                         137.146125  \n",
       "25%                         143.092878  \n",
       "50%                         135.521448  \n",
       "75                          136.716746  "
      ],
      "text/html": "<div>\n<style scoped>\n    .dataframe tbody tr th:only-of-type {\n        vertical-align: middle;\n    }\n\n    .dataframe tbody tr th {\n        vertical-align: top;\n    }\n\n    .dataframe thead th {\n        text-align: right;\n    }\n</style>\n<table border=\"1\" class=\"dataframe\">\n  <thead>\n    <tr style=\"text-align: right;\">\n      <th></th>\n      <th>fixed_acidity</th>\n      <th>volatile_acidity</th>\n      <th>citric_acid</th>\n      <th>residual_sugar</th>\n      <th>chlorides</th>\n      <th>free_sulfur_dioxide</th>\n      <th>total_sulfur_dioxide</th>\n      <th>density</th>\n      <th>pH</th>\n      <th>sulphates</th>\n      <th>alcohol</th>\n      <th>quality</th>\n      <th>total_sulfur_dioxide.1</th>\n    </tr>\n    <tr>\n      <th>acidity_levels</th>\n      <th></th>\n      <th></th>\n      <th></th>\n      <th></th>\n      <th></th>\n      <th></th>\n      <th></th>\n      <th></th>\n      <th></th>\n      <th></th>\n      <th></th>\n      <th></th>\n      <th></th>\n    </tr>\n  </thead>\n  <tbody>\n    <tr>\n      <th>min</th>\n      <td>7.543914</td>\n      <td>0.294683</td>\n      <td>0.370792</td>\n      <td>7.088876</td>\n      <td>0.055131</td>\n      <td>33.179965</td>\n      <td>50.111888</td>\n      <td>0.994708</td>\n      <td>3.029062</td>\n      <td>0.503937</td>\n      <td>10.330208</td>\n      <td>5.783343</td>\n      <td>137.146125</td>\n    </tr>\n    <tr>\n      <th>25%</th>\n      <td>7.365064</td>\n      <td>0.318551</td>\n      <td>0.340548</td>\n      <td>5.931984</td>\n      <td>0.054666</td>\n      <td>33.229154</td>\n      <td>47.921708</td>\n      <td>0.994697</td>\n      <td>3.164833</td>\n      <td>0.509300</td>\n      <td>10.391073</td>\n      <td>5.784540</td>\n      <td>143.092878</td>\n    </tr>\n    <tr>\n      <th>50%</th>\n      <td>7.143566</td>\n      <td>0.346751</td>\n      <td>0.313585</td>\n      <td>4.721159</td>\n      <td>0.055715</td>\n      <td>28.983995</td>\n      <td>49.702032</td>\n      <td>0.994476</td>\n      <td>3.267010</td>\n      <td>0.541287</td>\n      <td>10.610369</td>\n      <td>5.850832</td>\n      <td>135.521448</td>\n    </tr>\n    <tr>\n      <th>75</th>\n      <td>6.769949</td>\n      <td>0.403815</td>\n      <td>0.243901</td>\n      <td>3.848983</td>\n      <td>0.058777</td>\n      <td>26.327510</td>\n      <td>43.240437</td>\n      <td>0.994899</td>\n      <td>3.433348</td>\n      <td>0.574136</td>\n      <td>10.656057</td>\n      <td>5.859593</td>\n      <td>136.716746</td>\n    </tr>\n  </tbody>\n</table>\n</div>"
     },
     "metadata": {},
     "execution_count": 21
    }
   ],
   "source": [
    "# Find the mean quality of each acidity level with groupby\n",
    "df.groupby(df.acidity_levels).mean()"
   ]
  },
  {
   "cell_type": "code",
   "execution_count": 22,
   "metadata": {
    "collapsed": true
   },
   "outputs": [],
   "source": [
    "# Save changes for the next section\n",
    "df.to_csv('winequality_edited.csv', index=False)"
   ]
  },
  {
   "cell_type": "code",
   "execution_count": null,
   "metadata": {},
   "outputs": [],
   "source": []
  }
 ],
 "metadata": {
  "kernelspec": {
   "display_name": "Python 3",
   "language": "python",
   "name": "python3"
  },
  "language_info": {
   "codemirror_mode": {
    "name": "ipython",
    "version": 3
   },
   "file_extension": ".py",
   "mimetype": "text/x-python",
   "name": "python",
   "nbconvert_exporter": "python",
   "pygments_lexer": "ipython3",
   "version": "3.8.5-final"
  }
 },
 "nbformat": 4,
 "nbformat_minor": 2
}