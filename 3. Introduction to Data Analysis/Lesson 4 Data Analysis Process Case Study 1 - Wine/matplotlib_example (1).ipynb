{
 "cells": [
  {
   "cell_type": "markdown",
   "metadata": {
    "collapsed": true
   },
   "source": [
    "# Criando um gráfico de barras usando matplotlib"
   ]
  },
  {
   "cell_type": "code",
   "execution_count": null,
   "metadata": {
    "collapsed": true
   },
   "outputs": [],
   "source": [
    "import matplotlib.pyplot as plt\n",
    "% matplotlib inline"
   ]
  },
  {
   "cell_type": "markdown",
   "metadata": {},
   "source": [
    "Dois argumentos são necessários para se usar a função `bar` do pyplot: a coordenada no eixo x das barras e sua altura."
   ]
  },
  {
   "cell_type": "code",
   "execution_count": null,
   "metadata": {
    "collapsed": true
   },
   "outputs": [],
   "source": [
    "plt.bar([1, 2, 3], [224, 620, 425]);"
   ]
  },
  {
   "cell_type": "markdown",
   "metadata": {},
   "source": [
    "Você pode especificar os rótulos das marcações do eixo x usando a função `xticks` do pyplot, ou ainda especificando um parâmetro adicional na função `bar`. As duas células abaixo  The two cells below accomplish the same thing."
   ]
  },
  {
   "cell_type": "code",
   "execution_count": null,
   "metadata": {
    "collapsed": true
   },
   "outputs": [],
   "source": [
    "# trace as barras\n",
    "plt.bar([1, 2, 3], [224, 620, 425])\n",
    "\n",
    "# especifique as coordenadas no eixo x das marcações e seus rótulos\n",
    "plt.xticks([1, 2, 3], ['a', 'b', 'c']);"
   ]
  },
  {
   "cell_type": "code",
   "execution_count": null,
   "metadata": {
    "collapsed": true
   },
   "outputs": [],
   "source": [
    "# trace as barras com rótulos nas marcações do eixo x\n",
    "plt.bar([1, 2, 3], [224, 620, 425], tick_label=['a', 'b', 'c']);"
   ]
  },
  {
   "cell_type": "markdown",
   "metadata": {},
   "source": [
    "Defina o título e o rótulo dos eixos assim."
   ]
  },
  {
   "cell_type": "code",
   "execution_count": null,
   "metadata": {
    "collapsed": true
   },
   "outputs": [],
   "source": [
    "plt.bar([1, 2, 3], [224, 620, 425], tick_label=['a', 'b', 'c'])\n",
    "plt.title('Some Title')\n",
    "plt.xlabel('Some X Label')\n",
    "plt.ylabel('Some Y Label');"
   ]
  }
 ],
 "metadata": {
  "kernelspec": {
   "display_name": "Python 3",
   "language": "python",
   "name": "python3"
  },
  "language_info": {
   "codemirror_mode": {
    "name": "ipython",
    "version": 3
   },
   "file_extension": ".py",
   "mimetype": "text/x-python",
   "name": "python",
   "nbconvert_exporter": "python",
   "pygments_lexer": "ipython3",
   "version": "3.6.3"
  }
 },
 "nbformat": 4,
 "nbformat_minor": 2
}
