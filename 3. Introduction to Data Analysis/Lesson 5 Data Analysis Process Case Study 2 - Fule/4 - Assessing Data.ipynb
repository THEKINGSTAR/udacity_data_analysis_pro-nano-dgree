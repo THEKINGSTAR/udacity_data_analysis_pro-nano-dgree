{
 "metadata": {
  "language_info": {
   "codemirror_mode": {
    "name": "ipython",
    "version": 3
   },
   "file_extension": ".py",
   "mimetype": "text/x-python",
   "name": "python",
   "nbconvert_exporter": "python",
   "pygments_lexer": "ipython3",
   "version": "3.9.2-final"
  },
  "orig_nbformat": 2,
  "kernelspec": {
   "name": "python3",
   "display_name": "Python 3.9.2 64-bit",
   "metadata": {
    "interpreter": {
     "hash": "3368d0aa3c774501ff051a9507f411259529d8784e4aa3b7b7c380b63b651d6c"
    }
   }
  }
 },
 "nbformat": 4,
 "nbformat_minor": 2,
 "cells": [
  {
   "cell_type": "code",
   "execution_count": 2,
   "metadata": {},
   "outputs": [],
   "source": [
    "import numpy as np\n",
    "import pandas as pd"
   ]
  },
  {
   "cell_type": "code",
   "execution_count": 3,
   "metadata": {},
   "outputs": [],
   "source": [
    "df_fule08 = pd.read_csv(\"all_alpha_08.csv\")\n",
    "\n",
    "df_fule18 = pd.read_csv(\"all_alpha_18.csv\")\n"
   ]
  },
  {
   "source": [
    "# WORKING WITH THE 2008 DATA"
   ],
   "cell_type": "markdown",
   "metadata": {}
  },
  {
   "cell_type": "code",
   "execution_count": 4,
   "metadata": {},
   "outputs": [
    {
     "output_type": "execute_result",
     "data": {
      "text/plain": [
       "            Model  Displ      Cyl    Trans Drive      Fuel Sales Area Stnd  \\\n",
       "0       ACURA MDX    3.7  (6 cyl)  Auto-S5   4WD  Gasoline         CA   U2   \n",
       "1       ACURA MDX    3.7  (6 cyl)  Auto-S5   4WD  Gasoline         FA   B5   \n",
       "2       ACURA RDX    2.3  (4 cyl)  Auto-S5   4WD  Gasoline         CA   U2   \n",
       "3       ACURA RDX    2.3  (4 cyl)  Auto-S5   4WD  Gasoline         FA   B5   \n",
       "4        ACURA RL    3.5  (6 cyl)  Auto-S5   4WD  Gasoline         CA   U2   \n",
       "...           ...    ...      ...      ...   ...       ...        ...  ...   \n",
       "2399  VOLVO XC 90    3.2  (6 cyl)  Auto-S6   4WD  Gasoline         CA   U2   \n",
       "2400  VOLVO XC 90    4.4  (8 cyl)  Auto-S6   4WD  Gasoline         CA   U2   \n",
       "2401  VOLVO XC 90    3.2  (6 cyl)  Auto-S6   2WD  Gasoline         FA   B5   \n",
       "2402  VOLVO XC 90    3.2  (6 cyl)  Auto-S6   4WD  Gasoline         FA   B5   \n",
       "2403  VOLVO XC 90    4.4  (8 cyl)  Auto-S6   4WD  Gasoline         FA   B5   \n",
       "\n",
       "      Underhood ID    Veh Class Air Pollution Score FE Calc Appr City MPG  \\\n",
       "0     8HNXT03.7PKR          SUV                   7          Drv       15   \n",
       "1     8HNXT03.7PKR          SUV                   6          Drv       15   \n",
       "2     8HNXT02.3DKR          SUV                   7          Drv       17   \n",
       "3     8HNXT02.3DKR          SUV                   6          Drv       17   \n",
       "4     8HNXV03.5HKR  midsize car                   7          Drv       16   \n",
       "...            ...          ...                 ...          ...      ...   \n",
       "2399  8VVXB03.2U2N          SUV                   7          Drv       14   \n",
       "2400  8VVXB04.4U2N          SUV                   7          Drv       13   \n",
       "2401  8VVXB03.2U2N          SUV                   6          Drv       14   \n",
       "2402  8VVXB03.2U2N          SUV                   6          Drv       14   \n",
       "2403  8VVXB04.4U2N          SUV                   6          Drv       13   \n",
       "\n",
       "     Hwy MPG Cmb MPG  Unadj Cmb MPG Greenhouse Gas Score SmartWay  \n",
       "0         20      17        22.0527                    4       no  \n",
       "1         20      17        22.0527                    4       no  \n",
       "2         22      19        24.1745                    5       no  \n",
       "3         22      19        24.1745                    5       no  \n",
       "4         24      19        24.5629                    5       no  \n",
       "...      ...     ...            ...                  ...      ...  \n",
       "2399      20      16        20.7134                    4       no  \n",
       "2400      19      15        19.4789                    3       no  \n",
       "2401      20      16        20.9644                    4       no  \n",
       "2402      20      16        20.7134                    4       no  \n",
       "2403      19      15        19.4789                    3       no  \n",
       "\n",
       "[2404 rows x 18 columns]"
      ],
      "text/html": "<div>\n<style scoped>\n    .dataframe tbody tr th:only-of-type {\n        vertical-align: middle;\n    }\n\n    .dataframe tbody tr th {\n        vertical-align: top;\n    }\n\n    .dataframe thead th {\n        text-align: right;\n    }\n</style>\n<table border=\"1\" class=\"dataframe\">\n  <thead>\n    <tr style=\"text-align: right;\">\n      <th></th>\n      <th>Model</th>\n      <th>Displ</th>\n      <th>Cyl</th>\n      <th>Trans</th>\n      <th>Drive</th>\n      <th>Fuel</th>\n      <th>Sales Area</th>\n      <th>Stnd</th>\n      <th>Underhood ID</th>\n      <th>Veh Class</th>\n      <th>Air Pollution Score</th>\n      <th>FE Calc Appr</th>\n      <th>City MPG</th>\n      <th>Hwy MPG</th>\n      <th>Cmb MPG</th>\n      <th>Unadj Cmb MPG</th>\n      <th>Greenhouse Gas Score</th>\n      <th>SmartWay</th>\n    </tr>\n  </thead>\n  <tbody>\n    <tr>\n      <th>0</th>\n      <td>ACURA MDX</td>\n      <td>3.7</td>\n      <td>(6 cyl)</td>\n      <td>Auto-S5</td>\n      <td>4WD</td>\n      <td>Gasoline</td>\n      <td>CA</td>\n      <td>U2</td>\n      <td>8HNXT03.7PKR</td>\n      <td>SUV</td>\n      <td>7</td>\n      <td>Drv</td>\n      <td>15</td>\n      <td>20</td>\n      <td>17</td>\n      <td>22.0527</td>\n      <td>4</td>\n      <td>no</td>\n    </tr>\n    <tr>\n      <th>1</th>\n      <td>ACURA MDX</td>\n      <td>3.7</td>\n      <td>(6 cyl)</td>\n      <td>Auto-S5</td>\n      <td>4WD</td>\n      <td>Gasoline</td>\n      <td>FA</td>\n      <td>B5</td>\n      <td>8HNXT03.7PKR</td>\n      <td>SUV</td>\n      <td>6</td>\n      <td>Drv</td>\n      <td>15</td>\n      <td>20</td>\n      <td>17</td>\n      <td>22.0527</td>\n      <td>4</td>\n      <td>no</td>\n    </tr>\n    <tr>\n      <th>2</th>\n      <td>ACURA RDX</td>\n      <td>2.3</td>\n      <td>(4 cyl)</td>\n      <td>Auto-S5</td>\n      <td>4WD</td>\n      <td>Gasoline</td>\n      <td>CA</td>\n      <td>U2</td>\n      <td>8HNXT02.3DKR</td>\n      <td>SUV</td>\n      <td>7</td>\n      <td>Drv</td>\n      <td>17</td>\n      <td>22</td>\n      <td>19</td>\n      <td>24.1745</td>\n      <td>5</td>\n      <td>no</td>\n    </tr>\n    <tr>\n      <th>3</th>\n      <td>ACURA RDX</td>\n      <td>2.3</td>\n      <td>(4 cyl)</td>\n      <td>Auto-S5</td>\n      <td>4WD</td>\n      <td>Gasoline</td>\n      <td>FA</td>\n      <td>B5</td>\n      <td>8HNXT02.3DKR</td>\n      <td>SUV</td>\n      <td>6</td>\n      <td>Drv</td>\n      <td>17</td>\n      <td>22</td>\n      <td>19</td>\n      <td>24.1745</td>\n      <td>5</td>\n      <td>no</td>\n    </tr>\n    <tr>\n      <th>4</th>\n      <td>ACURA RL</td>\n      <td>3.5</td>\n      <td>(6 cyl)</td>\n      <td>Auto-S5</td>\n      <td>4WD</td>\n      <td>Gasoline</td>\n      <td>CA</td>\n      <td>U2</td>\n      <td>8HNXV03.5HKR</td>\n      <td>midsize car</td>\n      <td>7</td>\n      <td>Drv</td>\n      <td>16</td>\n      <td>24</td>\n      <td>19</td>\n      <td>24.5629</td>\n      <td>5</td>\n      <td>no</td>\n    </tr>\n    <tr>\n      <th>...</th>\n      <td>...</td>\n      <td>...</td>\n      <td>...</td>\n      <td>...</td>\n      <td>...</td>\n      <td>...</td>\n      <td>...</td>\n      <td>...</td>\n      <td>...</td>\n      <td>...</td>\n      <td>...</td>\n      <td>...</td>\n      <td>...</td>\n      <td>...</td>\n      <td>...</td>\n      <td>...</td>\n      <td>...</td>\n      <td>...</td>\n    </tr>\n    <tr>\n      <th>2399</th>\n      <td>VOLVO XC 90</td>\n      <td>3.2</td>\n      <td>(6 cyl)</td>\n      <td>Auto-S6</td>\n      <td>4WD</td>\n      <td>Gasoline</td>\n      <td>CA</td>\n      <td>U2</td>\n      <td>8VVXB03.2U2N</td>\n      <td>SUV</td>\n      <td>7</td>\n      <td>Drv</td>\n      <td>14</td>\n      <td>20</td>\n      <td>16</td>\n      <td>20.7134</td>\n      <td>4</td>\n      <td>no</td>\n    </tr>\n    <tr>\n      <th>2400</th>\n      <td>VOLVO XC 90</td>\n      <td>4.4</td>\n      <td>(8 cyl)</td>\n      <td>Auto-S6</td>\n      <td>4WD</td>\n      <td>Gasoline</td>\n      <td>CA</td>\n      <td>U2</td>\n      <td>8VVXB04.4U2N</td>\n      <td>SUV</td>\n      <td>7</td>\n      <td>Drv</td>\n      <td>13</td>\n      <td>19</td>\n      <td>15</td>\n      <td>19.4789</td>\n      <td>3</td>\n      <td>no</td>\n    </tr>\n    <tr>\n      <th>2401</th>\n      <td>VOLVO XC 90</td>\n      <td>3.2</td>\n      <td>(6 cyl)</td>\n      <td>Auto-S6</td>\n      <td>2WD</td>\n      <td>Gasoline</td>\n      <td>FA</td>\n      <td>B5</td>\n      <td>8VVXB03.2U2N</td>\n      <td>SUV</td>\n      <td>6</td>\n      <td>Drv</td>\n      <td>14</td>\n      <td>20</td>\n      <td>16</td>\n      <td>20.9644</td>\n      <td>4</td>\n      <td>no</td>\n    </tr>\n    <tr>\n      <th>2402</th>\n      <td>VOLVO XC 90</td>\n      <td>3.2</td>\n      <td>(6 cyl)</td>\n      <td>Auto-S6</td>\n      <td>4WD</td>\n      <td>Gasoline</td>\n      <td>FA</td>\n      <td>B5</td>\n      <td>8VVXB03.2U2N</td>\n      <td>SUV</td>\n      <td>6</td>\n      <td>Drv</td>\n      <td>14</td>\n      <td>20</td>\n      <td>16</td>\n      <td>20.7134</td>\n      <td>4</td>\n      <td>no</td>\n    </tr>\n    <tr>\n      <th>2403</th>\n      <td>VOLVO XC 90</td>\n      <td>4.4</td>\n      <td>(8 cyl)</td>\n      <td>Auto-S6</td>\n      <td>4WD</td>\n      <td>Gasoline</td>\n      <td>FA</td>\n      <td>B5</td>\n      <td>8VVXB04.4U2N</td>\n      <td>SUV</td>\n      <td>6</td>\n      <td>Drv</td>\n      <td>13</td>\n      <td>19</td>\n      <td>15</td>\n      <td>19.4789</td>\n      <td>3</td>\n      <td>no</td>\n    </tr>\n  </tbody>\n</table>\n<p>2404 rows × 18 columns</p>\n</div>"
     },
     "metadata": {},
     "execution_count": 4
    }
   ],
   "source": [
    "df_fule08"
   ]
  },
  {
   "cell_type": "code",
   "execution_count": 6,
   "metadata": {},
   "outputs": [
    {
     "output_type": "execute_result",
     "data": {
      "text/plain": [
       "             Displ  Unadj Cmb MPG\n",
       "count  2404.000000    2205.000000\n",
       "mean      3.748918      23.916104\n",
       "std       1.335785       6.366170\n",
       "min       1.300000      10.018400\n",
       "25%       2.500000      19.113900\n",
       "50%       3.500000      23.921300\n",
       "75%       4.800000      27.869300\n",
       "max       8.400000      65.777800"
      ],
      "text/html": "<div>\n<style scoped>\n    .dataframe tbody tr th:only-of-type {\n        vertical-align: middle;\n    }\n\n    .dataframe tbody tr th {\n        vertical-align: top;\n    }\n\n    .dataframe thead th {\n        text-align: right;\n    }\n</style>\n<table border=\"1\" class=\"dataframe\">\n  <thead>\n    <tr style=\"text-align: right;\">\n      <th></th>\n      <th>Displ</th>\n      <th>Unadj Cmb MPG</th>\n    </tr>\n  </thead>\n  <tbody>\n    <tr>\n      <th>count</th>\n      <td>2404.000000</td>\n      <td>2205.000000</td>\n    </tr>\n    <tr>\n      <th>mean</th>\n      <td>3.748918</td>\n      <td>23.916104</td>\n    </tr>\n    <tr>\n      <th>std</th>\n      <td>1.335785</td>\n      <td>6.366170</td>\n    </tr>\n    <tr>\n      <th>min</th>\n      <td>1.300000</td>\n      <td>10.018400</td>\n    </tr>\n    <tr>\n      <th>25%</th>\n      <td>2.500000</td>\n      <td>19.113900</td>\n    </tr>\n    <tr>\n      <th>50%</th>\n      <td>3.500000</td>\n      <td>23.921300</td>\n    </tr>\n    <tr>\n      <th>75%</th>\n      <td>4.800000</td>\n      <td>27.869300</td>\n    </tr>\n    <tr>\n      <th>max</th>\n      <td>8.400000</td>\n      <td>65.777800</td>\n    </tr>\n  </tbody>\n</table>\n</div>"
     },
     "metadata": {},
     "execution_count": 6
    }
   ],
   "source": [
    "df_fule08.describe()"
   ]
  },
  {
   "cell_type": "code",
   "execution_count": 9,
   "metadata": {},
   "outputs": [
    {
     "output_type": "stream",
     "name": "stdout",
     "text": [
      "<class 'pandas.core.frame.DataFrame'>\nRangeIndex: 2404 entries, 0 to 2403\nData columns (total 18 columns):\n #   Column                Non-Null Count  Dtype  \n---  ------                --------------  -----  \n 0   Model                 2404 non-null   object \n 1   Displ                 2404 non-null   float64\n 2   Cyl                   2205 non-null   object \n 3   Trans                 2205 non-null   object \n 4   Drive                 2311 non-null   object \n 5   Fuel                  2404 non-null   object \n 6   Sales Area            2404 non-null   object \n 7   Stnd                  2404 non-null   object \n 8   Underhood ID          2404 non-null   object \n 9   Veh Class             2404 non-null   object \n 10  Air Pollution Score   2404 non-null   object \n 11  FE Calc Appr          2205 non-null   object \n 12  City MPG              2205 non-null   object \n 13  Hwy MPG               2205 non-null   object \n 14  Cmb MPG               2205 non-null   object \n 15  Unadj Cmb MPG         2205 non-null   float64\n 16  Greenhouse Gas Score  2205 non-null   object \n 17  SmartWay              2404 non-null   object \ndtypes: float64(2), object(16)\nmemory usage: 338.2+ KB\n"
     ]
    }
   ],
   "source": [
    "df_fule08.info()"
   ]
  },
  {
   "cell_type": "code",
   "execution_count": 17,
   "metadata": {},
   "outputs": [
    {
     "output_type": "execute_result",
     "data": {
      "text/plain": [
       "25"
      ]
     },
     "metadata": {},
     "execution_count": 17
    }
   ],
   "source": [
    "df_fule08.duplicated().sum()"
   ]
  },
  {
   "cell_type": "code",
   "execution_count": 23,
   "metadata": {},
   "outputs": [
    {
     "output_type": "execute_result",
     "data": {
      "text/plain": [
       "              Model  Displ      Cyl    Trans Drive      Fuel Sales Area Stnd  \\\n",
       "1542  MAZDA Tribute    3.0  (6 cyl)  Auto-L4   2WD  Gasoline         CA   L2   \n",
       "\n",
       "      Underhood ID Veh Class Air Pollution Score FE Calc Appr City MPG  \\\n",
       "1542  8FMXT03.01EB       SUV                   6          Drv       18   \n",
       "\n",
       "     Hwy MPG Cmb MPG  Unadj Cmb MPG Greenhouse Gas Score SmartWay  \n",
       "1542      24      20        26.3806                    6       no  "
      ],
      "text/html": "<div>\n<style scoped>\n    .dataframe tbody tr th:only-of-type {\n        vertical-align: middle;\n    }\n\n    .dataframe tbody tr th {\n        vertical-align: top;\n    }\n\n    .dataframe thead th {\n        text-align: right;\n    }\n</style>\n<table border=\"1\" class=\"dataframe\">\n  <thead>\n    <tr style=\"text-align: right;\">\n      <th></th>\n      <th>Model</th>\n      <th>Displ</th>\n      <th>Cyl</th>\n      <th>Trans</th>\n      <th>Drive</th>\n      <th>Fuel</th>\n      <th>Sales Area</th>\n      <th>Stnd</th>\n      <th>Underhood ID</th>\n      <th>Veh Class</th>\n      <th>Air Pollution Score</th>\n      <th>FE Calc Appr</th>\n      <th>City MPG</th>\n      <th>Hwy MPG</th>\n      <th>Cmb MPG</th>\n      <th>Unadj Cmb MPG</th>\n      <th>Greenhouse Gas Score</th>\n      <th>SmartWay</th>\n    </tr>\n  </thead>\n  <tbody>\n    <tr>\n      <th>1542</th>\n      <td>MAZDA Tribute</td>\n      <td>3.0</td>\n      <td>(6 cyl)</td>\n      <td>Auto-L4</td>\n      <td>2WD</td>\n      <td>Gasoline</td>\n      <td>CA</td>\n      <td>L2</td>\n      <td>8FMXT03.01EB</td>\n      <td>SUV</td>\n      <td>6</td>\n      <td>Drv</td>\n      <td>18</td>\n      <td>24</td>\n      <td>20</td>\n      <td>26.3806</td>\n      <td>6</td>\n      <td>no</td>\n    </tr>\n  </tbody>\n</table>\n</div>"
     },
     "metadata": {},
     "execution_count": 23
    }
   ],
   "source": [
    "df_fule08.sample()"
   ]
  },
  {
   "cell_type": "code",
   "execution_count": 16,
   "metadata": {},
   "outputs": [
    {
     "output_type": "execute_result",
     "data": {
      "text/plain": [
       "199"
      ]
     },
     "metadata": {},
     "execution_count": 16
    }
   ],
   "source": [
    "# COUNT THE TOTAL ROW WITH ANY MISISNG DATA IN EACH\n",
    "df_fule08.isnull().any(axis=1).sum()"
   ]
  },
  {
   "cell_type": "code",
   "execution_count": 8,
   "metadata": {},
   "outputs": [
    {
     "output_type": "execute_result",
     "data": {
      "text/plain": [
       "Model                   2404\n",
       "Displ                   2404\n",
       "Cyl                     2205\n",
       "Trans                   2205\n",
       "Drive                   2311\n",
       "Fuel                    2404\n",
       "Sales Area              2404\n",
       "Stnd                    2404\n",
       "Underhood ID            2404\n",
       "Veh Class               2404\n",
       "Air Pollution Score     2404\n",
       "FE Calc Appr            2205\n",
       "City MPG                2205\n",
       "Hwy MPG                 2205\n",
       "Cmb MPG                 2205\n",
       "Unadj Cmb MPG           2205\n",
       "Greenhouse Gas Score    2205\n",
       "SmartWay                2404\n",
       "dtype: int64"
      ]
     },
     "metadata": {},
     "execution_count": 8
    }
   ],
   "source": [
    "df_fule08.count()"
   ]
  },
  {
   "cell_type": "code",
   "execution_count": null,
   "metadata": {},
   "outputs": [],
   "source": []
  },
  {
   "cell_type": "code",
   "execution_count": null,
   "metadata": {},
   "outputs": [],
   "source": []
  },
  {
   "source": [
    "# WORKING WITH THE 2018 DATA"
   ],
   "cell_type": "markdown",
   "metadata": {}
  },
  {
   "cell_type": "code",
   "execution_count": 5,
   "metadata": {},
   "outputs": [
    {
     "output_type": "execute_result",
     "data": {
      "text/plain": [
       "            Model  Displ  Cyl       Trans Drive                  Fuel  \\\n",
       "0       ACURA RDX    3.5  6.0  SemiAuto-6   2WD              Gasoline   \n",
       "1       ACURA RDX    3.5  6.0  SemiAuto-6   2WD              Gasoline   \n",
       "2       ACURA RDX    3.5  6.0  SemiAuto-6   4WD              Gasoline   \n",
       "3       ACURA RDX    3.5  6.0  SemiAuto-6   4WD              Gasoline   \n",
       "4       ACURA TLX    2.4  4.0       AMS-8   2WD              Gasoline   \n",
       "...           ...    ...  ...         ...   ...                   ...   \n",
       "1606  VOLVO XC 90    2.0  4.0  SemiAuto-8   4WD              Gasoline   \n",
       "1607  VOLVO XC 90    2.0  4.0  SemiAuto-8   4WD              Gasoline   \n",
       "1608  VOLVO XC 90    2.0  4.0  SemiAuto-8   4WD              Gasoline   \n",
       "1609  VOLVO XC 90    2.0  4.0  SemiAuto-8   4WD  Gasoline/Electricity   \n",
       "1610  VOLVO XC 90    2.0  4.0  SemiAuto-8   4WD  Gasoline/Electricity   \n",
       "\n",
       "     Cert Region       Stnd            Stnd Description  Underhood ID  \\\n",
       "0             FA     T3B125      Federal Tier 3 Bin 125  JHNXT03.5GV3   \n",
       "1             CA         U2      California LEV-II ULEV  JHNXT03.5GV3   \n",
       "2             FA     T3B125      Federal Tier 3 Bin 125  JHNXT03.5GV3   \n",
       "3             CA         U2      California LEV-II ULEV  JHNXT03.5GV3   \n",
       "4             CA  L3ULEV125  California LEV-III ULEV125  JHNXV02.4WH3   \n",
       "...          ...        ...                         ...           ...   \n",
       "1606          FA      T3B70       Federal Tier 3 Bin 70  JVVXJ02.0A70   \n",
       "1607          CA   L3ULEV70   California LEV-III ULEV70  JVVXJ02.0B70   \n",
       "1608          FA      T3B70       Federal Tier 3 Bin 70  JVVXJ02.0B70   \n",
       "1609          CA  L3SULEV30  California LEV-III SULEV30  JVVXJ02.0P30   \n",
       "1610          FA      T3B30       Federal Tier 3 Bin 30  JVVXJ02.0P30   \n",
       "\n",
       "         Veh Class  Air Pollution Score City MPG Hwy MPG Cmb MPG  \\\n",
       "0        small SUV                    3       20      28      23   \n",
       "1        small SUV                    3       20      28      23   \n",
       "2        small SUV                    3       19      27      22   \n",
       "3        small SUV                    3       19      27      22   \n",
       "4        small car                    3       23      33      27   \n",
       "...            ...                  ...      ...     ...     ...   \n",
       "1606  standard SUV                    5       22      28      24   \n",
       "1607  standard SUV                    5       20      27      23   \n",
       "1608  standard SUV                    5       20      27      23   \n",
       "1609  standard SUV                    7    26/63   30/61   27/62   \n",
       "1610  standard SUV                    7    26/63   30/61   27/62   \n",
       "\n",
       "      Greenhouse Gas Score SmartWay Comb CO2  \n",
       "0                        5       No      386  \n",
       "1                        5       No      386  \n",
       "2                        4       No      402  \n",
       "3                        4       No      402  \n",
       "4                        6       No      330  \n",
       "...                    ...      ...      ...  \n",
       "1606                     5       No      365  \n",
       "1607                     5       No      394  \n",
       "1608                     5       No      394  \n",
       "1609                    10    Elite      187  \n",
       "1610                    10    Elite      187  \n",
       "\n",
       "[1611 rows x 18 columns]"
      ],
      "text/html": "<div>\n<style scoped>\n    .dataframe tbody tr th:only-of-type {\n        vertical-align: middle;\n    }\n\n    .dataframe tbody tr th {\n        vertical-align: top;\n    }\n\n    .dataframe thead th {\n        text-align: right;\n    }\n</style>\n<table border=\"1\" class=\"dataframe\">\n  <thead>\n    <tr style=\"text-align: right;\">\n      <th></th>\n      <th>Model</th>\n      <th>Displ</th>\n      <th>Cyl</th>\n      <th>Trans</th>\n      <th>Drive</th>\n      <th>Fuel</th>\n      <th>Cert Region</th>\n      <th>Stnd</th>\n      <th>Stnd Description</th>\n      <th>Underhood ID</th>\n      <th>Veh Class</th>\n      <th>Air Pollution Score</th>\n      <th>City MPG</th>\n      <th>Hwy MPG</th>\n      <th>Cmb MPG</th>\n      <th>Greenhouse Gas Score</th>\n      <th>SmartWay</th>\n      <th>Comb CO2</th>\n    </tr>\n  </thead>\n  <tbody>\n    <tr>\n      <th>0</th>\n      <td>ACURA RDX</td>\n      <td>3.5</td>\n      <td>6.0</td>\n      <td>SemiAuto-6</td>\n      <td>2WD</td>\n      <td>Gasoline</td>\n      <td>FA</td>\n      <td>T3B125</td>\n      <td>Federal Tier 3 Bin 125</td>\n      <td>JHNXT03.5GV3</td>\n      <td>small SUV</td>\n      <td>3</td>\n      <td>20</td>\n      <td>28</td>\n      <td>23</td>\n      <td>5</td>\n      <td>No</td>\n      <td>386</td>\n    </tr>\n    <tr>\n      <th>1</th>\n      <td>ACURA RDX</td>\n      <td>3.5</td>\n      <td>6.0</td>\n      <td>SemiAuto-6</td>\n      <td>2WD</td>\n      <td>Gasoline</td>\n      <td>CA</td>\n      <td>U2</td>\n      <td>California LEV-II ULEV</td>\n      <td>JHNXT03.5GV3</td>\n      <td>small SUV</td>\n      <td>3</td>\n      <td>20</td>\n      <td>28</td>\n      <td>23</td>\n      <td>5</td>\n      <td>No</td>\n      <td>386</td>\n    </tr>\n    <tr>\n      <th>2</th>\n      <td>ACURA RDX</td>\n      <td>3.5</td>\n      <td>6.0</td>\n      <td>SemiAuto-6</td>\n      <td>4WD</td>\n      <td>Gasoline</td>\n      <td>FA</td>\n      <td>T3B125</td>\n      <td>Federal Tier 3 Bin 125</td>\n      <td>JHNXT03.5GV3</td>\n      <td>small SUV</td>\n      <td>3</td>\n      <td>19</td>\n      <td>27</td>\n      <td>22</td>\n      <td>4</td>\n      <td>No</td>\n      <td>402</td>\n    </tr>\n    <tr>\n      <th>3</th>\n      <td>ACURA RDX</td>\n      <td>3.5</td>\n      <td>6.0</td>\n      <td>SemiAuto-6</td>\n      <td>4WD</td>\n      <td>Gasoline</td>\n      <td>CA</td>\n      <td>U2</td>\n      <td>California LEV-II ULEV</td>\n      <td>JHNXT03.5GV3</td>\n      <td>small SUV</td>\n      <td>3</td>\n      <td>19</td>\n      <td>27</td>\n      <td>22</td>\n      <td>4</td>\n      <td>No</td>\n      <td>402</td>\n    </tr>\n    <tr>\n      <th>4</th>\n      <td>ACURA TLX</td>\n      <td>2.4</td>\n      <td>4.0</td>\n      <td>AMS-8</td>\n      <td>2WD</td>\n      <td>Gasoline</td>\n      <td>CA</td>\n      <td>L3ULEV125</td>\n      <td>California LEV-III ULEV125</td>\n      <td>JHNXV02.4WH3</td>\n      <td>small car</td>\n      <td>3</td>\n      <td>23</td>\n      <td>33</td>\n      <td>27</td>\n      <td>6</td>\n      <td>No</td>\n      <td>330</td>\n    </tr>\n    <tr>\n      <th>...</th>\n      <td>...</td>\n      <td>...</td>\n      <td>...</td>\n      <td>...</td>\n      <td>...</td>\n      <td>...</td>\n      <td>...</td>\n      <td>...</td>\n      <td>...</td>\n      <td>...</td>\n      <td>...</td>\n      <td>...</td>\n      <td>...</td>\n      <td>...</td>\n      <td>...</td>\n      <td>...</td>\n      <td>...</td>\n      <td>...</td>\n    </tr>\n    <tr>\n      <th>1606</th>\n      <td>VOLVO XC 90</td>\n      <td>2.0</td>\n      <td>4.0</td>\n      <td>SemiAuto-8</td>\n      <td>4WD</td>\n      <td>Gasoline</td>\n      <td>FA</td>\n      <td>T3B70</td>\n      <td>Federal Tier 3 Bin 70</td>\n      <td>JVVXJ02.0A70</td>\n      <td>standard SUV</td>\n      <td>5</td>\n      <td>22</td>\n      <td>28</td>\n      <td>24</td>\n      <td>5</td>\n      <td>No</td>\n      <td>365</td>\n    </tr>\n    <tr>\n      <th>1607</th>\n      <td>VOLVO XC 90</td>\n      <td>2.0</td>\n      <td>4.0</td>\n      <td>SemiAuto-8</td>\n      <td>4WD</td>\n      <td>Gasoline</td>\n      <td>CA</td>\n      <td>L3ULEV70</td>\n      <td>California LEV-III ULEV70</td>\n      <td>JVVXJ02.0B70</td>\n      <td>standard SUV</td>\n      <td>5</td>\n      <td>20</td>\n      <td>27</td>\n      <td>23</td>\n      <td>5</td>\n      <td>No</td>\n      <td>394</td>\n    </tr>\n    <tr>\n      <th>1608</th>\n      <td>VOLVO XC 90</td>\n      <td>2.0</td>\n      <td>4.0</td>\n      <td>SemiAuto-8</td>\n      <td>4WD</td>\n      <td>Gasoline</td>\n      <td>FA</td>\n      <td>T3B70</td>\n      <td>Federal Tier 3 Bin 70</td>\n      <td>JVVXJ02.0B70</td>\n      <td>standard SUV</td>\n      <td>5</td>\n      <td>20</td>\n      <td>27</td>\n      <td>23</td>\n      <td>5</td>\n      <td>No</td>\n      <td>394</td>\n    </tr>\n    <tr>\n      <th>1609</th>\n      <td>VOLVO XC 90</td>\n      <td>2.0</td>\n      <td>4.0</td>\n      <td>SemiAuto-8</td>\n      <td>4WD</td>\n      <td>Gasoline/Electricity</td>\n      <td>CA</td>\n      <td>L3SULEV30</td>\n      <td>California LEV-III SULEV30</td>\n      <td>JVVXJ02.0P30</td>\n      <td>standard SUV</td>\n      <td>7</td>\n      <td>26/63</td>\n      <td>30/61</td>\n      <td>27/62</td>\n      <td>10</td>\n      <td>Elite</td>\n      <td>187</td>\n    </tr>\n    <tr>\n      <th>1610</th>\n      <td>VOLVO XC 90</td>\n      <td>2.0</td>\n      <td>4.0</td>\n      <td>SemiAuto-8</td>\n      <td>4WD</td>\n      <td>Gasoline/Electricity</td>\n      <td>FA</td>\n      <td>T3B30</td>\n      <td>Federal Tier 3 Bin 30</td>\n      <td>JVVXJ02.0P30</td>\n      <td>standard SUV</td>\n      <td>7</td>\n      <td>26/63</td>\n      <td>30/61</td>\n      <td>27/62</td>\n      <td>10</td>\n      <td>Elite</td>\n      <td>187</td>\n    </tr>\n  </tbody>\n</table>\n<p>1611 rows × 18 columns</p>\n</div>"
     },
     "metadata": {},
     "execution_count": 5
    }
   ],
   "source": [
    "df_fule18"
   ]
  },
  {
   "cell_type": "code",
   "execution_count": 29,
   "metadata": {},
   "outputs": [
    {
     "output_type": "execute_result",
     "data": {
      "text/plain": [
       "             Displ          Cyl  Air Pollution Score  Greenhouse Gas Score\n",
       "count  1609.000000  1609.000000          1611.000000           1611.000000\n",
       "mean      3.055687     5.479180             3.958411              4.711359\n",
       "std       1.344574     1.749121             1.824303              1.657429\n",
       "min       1.200000     3.000000             1.000000              1.000000\n",
       "25%       2.000000     4.000000             3.000000              4.000000\n",
       "50%       3.000000     6.000000             3.000000              5.000000\n",
       "75%       3.600000     6.000000             5.000000              6.000000\n",
       "max       8.000000    16.000000            10.000000             10.000000"
      ],
      "text/html": "<div>\n<style scoped>\n    .dataframe tbody tr th:only-of-type {\n        vertical-align: middle;\n    }\n\n    .dataframe tbody tr th {\n        vertical-align: top;\n    }\n\n    .dataframe thead th {\n        text-align: right;\n    }\n</style>\n<table border=\"1\" class=\"dataframe\">\n  <thead>\n    <tr style=\"text-align: right;\">\n      <th></th>\n      <th>Displ</th>\n      <th>Cyl</th>\n      <th>Air Pollution Score</th>\n      <th>Greenhouse Gas Score</th>\n    </tr>\n  </thead>\n  <tbody>\n    <tr>\n      <th>count</th>\n      <td>1609.000000</td>\n      <td>1609.000000</td>\n      <td>1611.000000</td>\n      <td>1611.000000</td>\n    </tr>\n    <tr>\n      <th>mean</th>\n      <td>3.055687</td>\n      <td>5.479180</td>\n      <td>3.958411</td>\n      <td>4.711359</td>\n    </tr>\n    <tr>\n      <th>std</th>\n      <td>1.344574</td>\n      <td>1.749121</td>\n      <td>1.824303</td>\n      <td>1.657429</td>\n    </tr>\n    <tr>\n      <th>min</th>\n      <td>1.200000</td>\n      <td>3.000000</td>\n      <td>1.000000</td>\n      <td>1.000000</td>\n    </tr>\n    <tr>\n      <th>25%</th>\n      <td>2.000000</td>\n      <td>4.000000</td>\n      <td>3.000000</td>\n      <td>4.000000</td>\n    </tr>\n    <tr>\n      <th>50%</th>\n      <td>3.000000</td>\n      <td>6.000000</td>\n      <td>3.000000</td>\n      <td>5.000000</td>\n    </tr>\n    <tr>\n      <th>75%</th>\n      <td>3.600000</td>\n      <td>6.000000</td>\n      <td>5.000000</td>\n      <td>6.000000</td>\n    </tr>\n    <tr>\n      <th>max</th>\n      <td>8.000000</td>\n      <td>16.000000</td>\n      <td>10.000000</td>\n      <td>10.000000</td>\n    </tr>\n  </tbody>\n</table>\n</div>"
     },
     "metadata": {},
     "execution_count": 29
    }
   ],
   "source": [
    "df_fule18.describe()"
   ]
  },
  {
   "cell_type": "code",
   "execution_count": 30,
   "metadata": {},
   "outputs": [
    {
     "output_type": "stream",
     "name": "stdout",
     "text": [
      "<class 'pandas.core.frame.DataFrame'>\nRangeIndex: 1611 entries, 0 to 1610\nData columns (total 18 columns):\n #   Column                Non-Null Count  Dtype  \n---  ------                --------------  -----  \n 0   Model                 1611 non-null   object \n 1   Displ                 1609 non-null   float64\n 2   Cyl                   1609 non-null   float64\n 3   Trans                 1611 non-null   object \n 4   Drive                 1611 non-null   object \n 5   Fuel                  1611 non-null   object \n 6   Cert Region           1611 non-null   object \n 7   Stnd                  1611 non-null   object \n 8   Stnd Description      1611 non-null   object \n 9   Underhood ID          1611 non-null   object \n 10  Veh Class             1611 non-null   object \n 11  Air Pollution Score   1611 non-null   int64  \n 12  City MPG              1611 non-null   object \n 13  Hwy MPG               1611 non-null   object \n 14  Cmb MPG               1611 non-null   object \n 15  Greenhouse Gas Score  1611 non-null   int64  \n 16  SmartWay              1611 non-null   object \n 17  Comb CO2              1611 non-null   object \ndtypes: float64(2), int64(2), object(14)\nmemory usage: 226.7+ KB\n"
     ]
    }
   ],
   "source": [
    "df_fule18.info()"
   ]
  },
  {
   "cell_type": "code",
   "execution_count": 26,
   "metadata": {},
   "outputs": [
    {
     "output_type": "execute_result",
     "data": {
      "text/plain": [
       "2"
      ]
     },
     "metadata": {},
     "execution_count": 26
    }
   ],
   "source": [
    "df_fule18.isnull().any(axis=1).sum()"
   ]
  },
  {
   "cell_type": "code",
   "execution_count": 28,
   "metadata": {},
   "outputs": [
    {
     "output_type": "execute_result",
     "data": {
      "text/plain": [
       "0"
      ]
     },
     "metadata": {},
     "execution_count": 28
    }
   ],
   "source": [
    "df_fule18.duplicated().sum()"
   ]
  },
  {
   "cell_type": "code",
   "execution_count": 31,
   "metadata": {},
   "outputs": [
    {
     "output_type": "execute_result",
     "data": {
      "text/plain": [
       "            Model  Displ      Cyl    Trans Drive      Fuel Sales Area Stnd  \\\n",
       "0       ACURA MDX    3.7  (6 cyl)  Auto-S5   4WD  Gasoline         CA   U2   \n",
       "1       ACURA MDX    3.7  (6 cyl)  Auto-S5   4WD  Gasoline         FA   B5   \n",
       "2       ACURA RDX    2.3  (4 cyl)  Auto-S5   4WD  Gasoline         CA   U2   \n",
       "3       ACURA RDX    2.3  (4 cyl)  Auto-S5   4WD  Gasoline         FA   B5   \n",
       "4        ACURA RL    3.5  (6 cyl)  Auto-S5   4WD  Gasoline         CA   U2   \n",
       "...           ...    ...      ...      ...   ...       ...        ...  ...   \n",
       "2399  VOLVO XC 90    3.2  (6 cyl)  Auto-S6   4WD  Gasoline         CA   U2   \n",
       "2400  VOLVO XC 90    4.4  (8 cyl)  Auto-S6   4WD  Gasoline         CA   U2   \n",
       "2401  VOLVO XC 90    3.2  (6 cyl)  Auto-S6   2WD  Gasoline         FA   B5   \n",
       "2402  VOLVO XC 90    3.2  (6 cyl)  Auto-S6   4WD  Gasoline         FA   B5   \n",
       "2403  VOLVO XC 90    4.4  (8 cyl)  Auto-S6   4WD  Gasoline         FA   B5   \n",
       "\n",
       "      Underhood ID    Veh Class Air Pollution Score FE Calc Appr City MPG  \\\n",
       "0     8HNXT03.7PKR          SUV                   7          Drv       15   \n",
       "1     8HNXT03.7PKR          SUV                   6          Drv       15   \n",
       "2     8HNXT02.3DKR          SUV                   7          Drv       17   \n",
       "3     8HNXT02.3DKR          SUV                   6          Drv       17   \n",
       "4     8HNXV03.5HKR  midsize car                   7          Drv       16   \n",
       "...            ...          ...                 ...          ...      ...   \n",
       "2399  8VVXB03.2U2N          SUV                   7          Drv       14   \n",
       "2400  8VVXB04.4U2N          SUV                   7          Drv       13   \n",
       "2401  8VVXB03.2U2N          SUV                   6          Drv       14   \n",
       "2402  8VVXB03.2U2N          SUV                   6          Drv       14   \n",
       "2403  8VVXB04.4U2N          SUV                   6          Drv       13   \n",
       "\n",
       "     Hwy MPG Cmb MPG  Unadj Cmb MPG Greenhouse Gas Score SmartWay  \n",
       "0         20      17        22.0527                    4       no  \n",
       "1         20      17        22.0527                    4       no  \n",
       "2         22      19        24.1745                    5       no  \n",
       "3         22      19        24.1745                    5       no  \n",
       "4         24      19        24.5629                    5       no  \n",
       "...      ...     ...            ...                  ...      ...  \n",
       "2399      20      16        20.7134                    4       no  \n",
       "2400      19      15        19.4789                    3       no  \n",
       "2401      20      16        20.9644                    4       no  \n",
       "2402      20      16        20.7134                    4       no  \n",
       "2403      19      15        19.4789                    3       no  \n",
       "\n",
       "[2404 rows x 18 columns]"
      ],
      "text/html": "<div>\n<style scoped>\n    .dataframe tbody tr th:only-of-type {\n        vertical-align: middle;\n    }\n\n    .dataframe tbody tr th {\n        vertical-align: top;\n    }\n\n    .dataframe thead th {\n        text-align: right;\n    }\n</style>\n<table border=\"1\" class=\"dataframe\">\n  <thead>\n    <tr style=\"text-align: right;\">\n      <th></th>\n      <th>Model</th>\n      <th>Displ</th>\n      <th>Cyl</th>\n      <th>Trans</th>\n      <th>Drive</th>\n      <th>Fuel</th>\n      <th>Sales Area</th>\n      <th>Stnd</th>\n      <th>Underhood ID</th>\n      <th>Veh Class</th>\n      <th>Air Pollution Score</th>\n      <th>FE Calc Appr</th>\n      <th>City MPG</th>\n      <th>Hwy MPG</th>\n      <th>Cmb MPG</th>\n      <th>Unadj Cmb MPG</th>\n      <th>Greenhouse Gas Score</th>\n      <th>SmartWay</th>\n    </tr>\n  </thead>\n  <tbody>\n    <tr>\n      <th>0</th>\n      <td>ACURA MDX</td>\n      <td>3.7</td>\n      <td>(6 cyl)</td>\n      <td>Auto-S5</td>\n      <td>4WD</td>\n      <td>Gasoline</td>\n      <td>CA</td>\n      <td>U2</td>\n      <td>8HNXT03.7PKR</td>\n      <td>SUV</td>\n      <td>7</td>\n      <td>Drv</td>\n      <td>15</td>\n      <td>20</td>\n      <td>17</td>\n      <td>22.0527</td>\n      <td>4</td>\n      <td>no</td>\n    </tr>\n    <tr>\n      <th>1</th>\n      <td>ACURA MDX</td>\n      <td>3.7</td>\n      <td>(6 cyl)</td>\n      <td>Auto-S5</td>\n      <td>4WD</td>\n      <td>Gasoline</td>\n      <td>FA</td>\n      <td>B5</td>\n      <td>8HNXT03.7PKR</td>\n      <td>SUV</td>\n      <td>6</td>\n      <td>Drv</td>\n      <td>15</td>\n      <td>20</td>\n      <td>17</td>\n      <td>22.0527</td>\n      <td>4</td>\n      <td>no</td>\n    </tr>\n    <tr>\n      <th>2</th>\n      <td>ACURA RDX</td>\n      <td>2.3</td>\n      <td>(4 cyl)</td>\n      <td>Auto-S5</td>\n      <td>4WD</td>\n      <td>Gasoline</td>\n      <td>CA</td>\n      <td>U2</td>\n      <td>8HNXT02.3DKR</td>\n      <td>SUV</td>\n      <td>7</td>\n      <td>Drv</td>\n      <td>17</td>\n      <td>22</td>\n      <td>19</td>\n      <td>24.1745</td>\n      <td>5</td>\n      <td>no</td>\n    </tr>\n    <tr>\n      <th>3</th>\n      <td>ACURA RDX</td>\n      <td>2.3</td>\n      <td>(4 cyl)</td>\n      <td>Auto-S5</td>\n      <td>4WD</td>\n      <td>Gasoline</td>\n      <td>FA</td>\n      <td>B5</td>\n      <td>8HNXT02.3DKR</td>\n      <td>SUV</td>\n      <td>6</td>\n      <td>Drv</td>\n      <td>17</td>\n      <td>22</td>\n      <td>19</td>\n      <td>24.1745</td>\n      <td>5</td>\n      <td>no</td>\n    </tr>\n    <tr>\n      <th>4</th>\n      <td>ACURA RL</td>\n      <td>3.5</td>\n      <td>(6 cyl)</td>\n      <td>Auto-S5</td>\n      <td>4WD</td>\n      <td>Gasoline</td>\n      <td>CA</td>\n      <td>U2</td>\n      <td>8HNXV03.5HKR</td>\n      <td>midsize car</td>\n      <td>7</td>\n      <td>Drv</td>\n      <td>16</td>\n      <td>24</td>\n      <td>19</td>\n      <td>24.5629</td>\n      <td>5</td>\n      <td>no</td>\n    </tr>\n    <tr>\n      <th>...</th>\n      <td>...</td>\n      <td>...</td>\n      <td>...</td>\n      <td>...</td>\n      <td>...</td>\n      <td>...</td>\n      <td>...</td>\n      <td>...</td>\n      <td>...</td>\n      <td>...</td>\n      <td>...</td>\n      <td>...</td>\n      <td>...</td>\n      <td>...</td>\n      <td>...</td>\n      <td>...</td>\n      <td>...</td>\n      <td>...</td>\n    </tr>\n    <tr>\n      <th>2399</th>\n      <td>VOLVO XC 90</td>\n      <td>3.2</td>\n      <td>(6 cyl)</td>\n      <td>Auto-S6</td>\n      <td>4WD</td>\n      <td>Gasoline</td>\n      <td>CA</td>\n      <td>U2</td>\n      <td>8VVXB03.2U2N</td>\n      <td>SUV</td>\n      <td>7</td>\n      <td>Drv</td>\n      <td>14</td>\n      <td>20</td>\n      <td>16</td>\n      <td>20.7134</td>\n      <td>4</td>\n      <td>no</td>\n    </tr>\n    <tr>\n      <th>2400</th>\n      <td>VOLVO XC 90</td>\n      <td>4.4</td>\n      <td>(8 cyl)</td>\n      <td>Auto-S6</td>\n      <td>4WD</td>\n      <td>Gasoline</td>\n      <td>CA</td>\n      <td>U2</td>\n      <td>8VVXB04.4U2N</td>\n      <td>SUV</td>\n      <td>7</td>\n      <td>Drv</td>\n      <td>13</td>\n      <td>19</td>\n      <td>15</td>\n      <td>19.4789</td>\n      <td>3</td>\n      <td>no</td>\n    </tr>\n    <tr>\n      <th>2401</th>\n      <td>VOLVO XC 90</td>\n      <td>3.2</td>\n      <td>(6 cyl)</td>\n      <td>Auto-S6</td>\n      <td>2WD</td>\n      <td>Gasoline</td>\n      <td>FA</td>\n      <td>B5</td>\n      <td>8VVXB03.2U2N</td>\n      <td>SUV</td>\n      <td>6</td>\n      <td>Drv</td>\n      <td>14</td>\n      <td>20</td>\n      <td>16</td>\n      <td>20.9644</td>\n      <td>4</td>\n      <td>no</td>\n    </tr>\n    <tr>\n      <th>2402</th>\n      <td>VOLVO XC 90</td>\n      <td>3.2</td>\n      <td>(6 cyl)</td>\n      <td>Auto-S6</td>\n      <td>4WD</td>\n      <td>Gasoline</td>\n      <td>FA</td>\n      <td>B5</td>\n      <td>8VVXB03.2U2N</td>\n      <td>SUV</td>\n      <td>6</td>\n      <td>Drv</td>\n      <td>14</td>\n      <td>20</td>\n      <td>16</td>\n      <td>20.7134</td>\n      <td>4</td>\n      <td>no</td>\n    </tr>\n    <tr>\n      <th>2403</th>\n      <td>VOLVO XC 90</td>\n      <td>4.4</td>\n      <td>(8 cyl)</td>\n      <td>Auto-S6</td>\n      <td>4WD</td>\n      <td>Gasoline</td>\n      <td>FA</td>\n      <td>B5</td>\n      <td>8VVXB04.4U2N</td>\n      <td>SUV</td>\n      <td>6</td>\n      <td>Drv</td>\n      <td>13</td>\n      <td>19</td>\n      <td>15</td>\n      <td>19.4789</td>\n      <td>3</td>\n      <td>no</td>\n    </tr>\n  </tbody>\n</table>\n<p>2404 rows × 18 columns</p>\n</div>"
     },
     "metadata": {},
     "execution_count": 31
    }
   ],
   "source": [
    "df_fule08"
   ]
  },
  {
   "cell_type": "code",
   "execution_count": 72,
   "metadata": {},
   "outputs": [
    {
     "output_type": "execute_result",
     "data": {
      "text/plain": [
       "Empty DataFrame\n",
       "Columns: [Model, Displ, Cyl, Trans, Drive, Fuel, Sales Area, Stnd, Underhood ID, Veh Class, Air Pollution Score, FE Calc Appr, City MPG, Hwy MPG, Cmb MPG, Unadj Cmb MPG, Greenhouse Gas Score, SmartWay]\n",
       "Index: []"
      ],
      "text/html": "<div>\n<style scoped>\n    .dataframe tbody tr th:only-of-type {\n        vertical-align: middle;\n    }\n\n    .dataframe tbody tr th {\n        vertical-align: top;\n    }\n\n    .dataframe thead th {\n        text-align: right;\n    }\n</style>\n<table border=\"1\" class=\"dataframe\">\n  <thead>\n    <tr style=\"text-align: right;\">\n      <th></th>\n      <th>Model</th>\n      <th>Displ</th>\n      <th>Cyl</th>\n      <th>Trans</th>\n      <th>Drive</th>\n      <th>Fuel</th>\n      <th>Sales Area</th>\n      <th>Stnd</th>\n      <th>Underhood ID</th>\n      <th>Veh Class</th>\n      <th>Air Pollution Score</th>\n      <th>FE Calc Appr</th>\n      <th>City MPG</th>\n      <th>Hwy MPG</th>\n      <th>Cmb MPG</th>\n      <th>Unadj Cmb MPG</th>\n      <th>Greenhouse Gas Score</th>\n      <th>SmartWay</th>\n    </tr>\n  </thead>\n  <tbody>\n  </tbody>\n</table>\n</div>"
     },
     "metadata": {},
     "execution_count": 72
    }
   ],
   "source": [
    "f_string =\"Ethanol/Gas\"\n",
    "f_data   ='Fuel'\n",
    "df_loc_in = df_fule08\n",
    "#df_loc_in = df_fule18\n",
    "df_loc_in.loc[ df_loc_in[f_data] == f_string ]"
   ]
  },
  {
   "cell_type": "code",
   "execution_count": null,
   "metadata": {},
   "outputs": [],
   "source": []
  }
 ]
}