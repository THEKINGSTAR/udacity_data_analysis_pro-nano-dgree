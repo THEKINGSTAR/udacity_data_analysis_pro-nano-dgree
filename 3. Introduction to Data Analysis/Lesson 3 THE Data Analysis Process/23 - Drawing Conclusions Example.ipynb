{
 "metadata": {
  "language_info": {
   "codemirror_mode": {
    "name": "ipython",
    "version": 3
   },
   "file_extension": ".py",
   "mimetype": "text/x-python",
   "name": "python",
   "nbconvert_exporter": "python",
   "pygments_lexer": "ipython3",
   "version": "3.9.2-final"
  },
  "orig_nbformat": 2,
  "kernelspec": {
   "name": "python3",
   "display_name": "Python 3.9.2 64-bit",
   "metadata": {
    "interpreter": {
     "hash": "3368d0aa3c774501ff051a9507f411259529d8784e4aa3b7b7c380b63b651d6c"
    }
   }
  }
 },
 "nbformat": 4,
 "nbformat_minor": 2,
 "cells": [
  {
   "cell_type": "code",
   "execution_count": 1,
   "metadata": {},
   "outputs": [],
   "source": [
    "import numpy as np\n",
    "import pandas as pd"
   ]
  },
  {
   "cell_type": "code",
   "execution_count": 6,
   "metadata": {},
   "outputs": [
    {
     "output_type": "execute_result",
     "data": {
      "text/plain": [
       "         id diagnosis  radius    texture  perimeter    area  smoothness  \\\n",
       "0    842302         M   17.99  19.293431     122.80  1001.0    0.118400   \n",
       "1    842517         M   20.57  17.770000     132.90  1326.0    0.084740   \n",
       "2  84300903         M   19.69  21.250000     130.00  1203.0    0.109600   \n",
       "3  84348301         M   11.42  20.380000      77.58   386.1    0.096087   \n",
       "4  84358402         M   20.29  14.340000     135.10  1297.0    0.100300   \n",
       "5    843786         M   12.45  15.700000      82.57   477.1    0.127800   \n",
       "6    844359         M   18.25  19.980000     119.60  1040.0    0.094630   \n",
       "7  84458202         M   13.71  20.830000      90.20   577.9    0.118900   \n",
       "8    844981         M   13.00  21.820000      87.50   519.8    0.127300   \n",
       "9  84501001         M   12.46  24.040000      83.97   475.9    0.118600   \n",
       "\n",
       "   compactness  concavity  concave_points  symmetry  fractal_dimension  \n",
       "0      0.27760    0.30010         0.14710  0.241900            0.07871  \n",
       "1      0.07864    0.08690         0.07017  0.181200            0.05667  \n",
       "2      0.15990    0.19740         0.12790  0.206900            0.05999  \n",
       "3      0.28390    0.24140         0.10520  0.259700            0.09744  \n",
       "4      0.13280    0.19800         0.10430  0.180900            0.05883  \n",
       "5      0.17000    0.15780         0.08089  0.208700            0.07613  \n",
       "6      0.10900    0.11270         0.07400  0.181091            0.05742  \n",
       "7      0.16450    0.09366         0.05985  0.219600            0.07451  \n",
       "8      0.19320    0.18590         0.09353  0.235000            0.07389  \n",
       "9      0.23960    0.22730         0.08543  0.203000            0.08243  "
      ],
      "text/html": "<div>\n<style scoped>\n    .dataframe tbody tr th:only-of-type {\n        vertical-align: middle;\n    }\n\n    .dataframe tbody tr th {\n        vertical-align: top;\n    }\n\n    .dataframe thead th {\n        text-align: right;\n    }\n</style>\n<table border=\"1\" class=\"dataframe\">\n  <thead>\n    <tr style=\"text-align: right;\">\n      <th></th>\n      <th>id</th>\n      <th>diagnosis</th>\n      <th>radius</th>\n      <th>texture</th>\n      <th>perimeter</th>\n      <th>area</th>\n      <th>smoothness</th>\n      <th>compactness</th>\n      <th>concavity</th>\n      <th>concave_points</th>\n      <th>symmetry</th>\n      <th>fractal_dimension</th>\n    </tr>\n  </thead>\n  <tbody>\n    <tr>\n      <th>0</th>\n      <td>842302</td>\n      <td>M</td>\n      <td>17.99</td>\n      <td>19.293431</td>\n      <td>122.80</td>\n      <td>1001.0</td>\n      <td>0.118400</td>\n      <td>0.27760</td>\n      <td>0.30010</td>\n      <td>0.14710</td>\n      <td>0.241900</td>\n      <td>0.07871</td>\n    </tr>\n    <tr>\n      <th>1</th>\n      <td>842517</td>\n      <td>M</td>\n      <td>20.57</td>\n      <td>17.770000</td>\n      <td>132.90</td>\n      <td>1326.0</td>\n      <td>0.084740</td>\n      <td>0.07864</td>\n      <td>0.08690</td>\n      <td>0.07017</td>\n      <td>0.181200</td>\n      <td>0.05667</td>\n    </tr>\n    <tr>\n      <th>2</th>\n      <td>84300903</td>\n      <td>M</td>\n      <td>19.69</td>\n      <td>21.250000</td>\n      <td>130.00</td>\n      <td>1203.0</td>\n      <td>0.109600</td>\n      <td>0.15990</td>\n      <td>0.19740</td>\n      <td>0.12790</td>\n      <td>0.206900</td>\n      <td>0.05999</td>\n    </tr>\n    <tr>\n      <th>3</th>\n      <td>84348301</td>\n      <td>M</td>\n      <td>11.42</td>\n      <td>20.380000</td>\n      <td>77.58</td>\n      <td>386.1</td>\n      <td>0.096087</td>\n      <td>0.28390</td>\n      <td>0.24140</td>\n      <td>0.10520</td>\n      <td>0.259700</td>\n      <td>0.09744</td>\n    </tr>\n    <tr>\n      <th>4</th>\n      <td>84358402</td>\n      <td>M</td>\n      <td>20.29</td>\n      <td>14.340000</td>\n      <td>135.10</td>\n      <td>1297.0</td>\n      <td>0.100300</td>\n      <td>0.13280</td>\n      <td>0.19800</td>\n      <td>0.10430</td>\n      <td>0.180900</td>\n      <td>0.05883</td>\n    </tr>\n    <tr>\n      <th>5</th>\n      <td>843786</td>\n      <td>M</td>\n      <td>12.45</td>\n      <td>15.700000</td>\n      <td>82.57</td>\n      <td>477.1</td>\n      <td>0.127800</td>\n      <td>0.17000</td>\n      <td>0.15780</td>\n      <td>0.08089</td>\n      <td>0.208700</td>\n      <td>0.07613</td>\n    </tr>\n    <tr>\n      <th>6</th>\n      <td>844359</td>\n      <td>M</td>\n      <td>18.25</td>\n      <td>19.980000</td>\n      <td>119.60</td>\n      <td>1040.0</td>\n      <td>0.094630</td>\n      <td>0.10900</td>\n      <td>0.11270</td>\n      <td>0.07400</td>\n      <td>0.181091</td>\n      <td>0.05742</td>\n    </tr>\n    <tr>\n      <th>7</th>\n      <td>84458202</td>\n      <td>M</td>\n      <td>13.71</td>\n      <td>20.830000</td>\n      <td>90.20</td>\n      <td>577.9</td>\n      <td>0.118900</td>\n      <td>0.16450</td>\n      <td>0.09366</td>\n      <td>0.05985</td>\n      <td>0.219600</td>\n      <td>0.07451</td>\n    </tr>\n    <tr>\n      <th>8</th>\n      <td>844981</td>\n      <td>M</td>\n      <td>13.00</td>\n      <td>21.820000</td>\n      <td>87.50</td>\n      <td>519.8</td>\n      <td>0.127300</td>\n      <td>0.19320</td>\n      <td>0.18590</td>\n      <td>0.09353</td>\n      <td>0.235000</td>\n      <td>0.07389</td>\n    </tr>\n    <tr>\n      <th>9</th>\n      <td>84501001</td>\n      <td>M</td>\n      <td>12.46</td>\n      <td>24.040000</td>\n      <td>83.97</td>\n      <td>475.9</td>\n      <td>0.118600</td>\n      <td>0.23960</td>\n      <td>0.22730</td>\n      <td>0.08543</td>\n      <td>0.203000</td>\n      <td>0.08243</td>\n    </tr>\n  </tbody>\n</table>\n</div>"
     },
     "metadata": {},
     "execution_count": 6
    }
   ],
   "source": [
    "df_cancer = pd.read_csv(\"cancer_data_edited.csv\")\n",
    "df_cancer.head(10)"
   ]
  },
  {
   "cell_type": "code",
   "execution_count": 8,
   "metadata": {},
   "outputs": [
    {
     "output_type": "stream",
     "name": "stdout",
     "text": [
      "0       True\n1       True\n2       True\n3       True\n4       True\n       ...  \n559     True\n560     True\n561     True\n562     True\n563    False\nName: diagnosis, Length: 564, dtype: bool\n"
     ]
    }
   ],
   "source": [
    "mask = df_cancer[\"diagnosis\"] ==\"M\"\n",
    "print(mask)"
   ]
  },
  {
   "cell_type": "code",
   "execution_count": 7,
   "metadata": {},
   "outputs": [
    {
     "output_type": "execute_result",
     "data": {
      "text/plain": [
       "         id diagnosis  radius    texture  perimeter    area  smoothness  \\\n",
       "0    842302         M   17.99  19.293431     122.80  1001.0    0.118400   \n",
       "1    842517         M   20.57  17.770000     132.90  1326.0    0.084740   \n",
       "2  84300903         M   19.69  21.250000     130.00  1203.0    0.109600   \n",
       "3  84348301         M   11.42  20.380000      77.58   386.1    0.096087   \n",
       "4  84358402         M   20.29  14.340000     135.10  1297.0    0.100300   \n",
       "5    843786         M   12.45  15.700000      82.57   477.1    0.127800   \n",
       "6    844359         M   18.25  19.980000     119.60  1040.0    0.094630   \n",
       "7  84458202         M   13.71  20.830000      90.20   577.9    0.118900   \n",
       "8    844981         M   13.00  21.820000      87.50   519.8    0.127300   \n",
       "9  84501001         M   12.46  24.040000      83.97   475.9    0.118600   \n",
       "\n",
       "   compactness  concavity  concave_points  symmetry  fractal_dimension  \n",
       "0      0.27760    0.30010         0.14710  0.241900            0.07871  \n",
       "1      0.07864    0.08690         0.07017  0.181200            0.05667  \n",
       "2      0.15990    0.19740         0.12790  0.206900            0.05999  \n",
       "3      0.28390    0.24140         0.10520  0.259700            0.09744  \n",
       "4      0.13280    0.19800         0.10430  0.180900            0.05883  \n",
       "5      0.17000    0.15780         0.08089  0.208700            0.07613  \n",
       "6      0.10900    0.11270         0.07400  0.181091            0.05742  \n",
       "7      0.16450    0.09366         0.05985  0.219600            0.07451  \n",
       "8      0.19320    0.18590         0.09353  0.235000            0.07389  \n",
       "9      0.23960    0.22730         0.08543  0.203000            0.08243  "
      ],
      "text/html": "<div>\n<style scoped>\n    .dataframe tbody tr th:only-of-type {\n        vertical-align: middle;\n    }\n\n    .dataframe tbody tr th {\n        vertical-align: top;\n    }\n\n    .dataframe thead th {\n        text-align: right;\n    }\n</style>\n<table border=\"1\" class=\"dataframe\">\n  <thead>\n    <tr style=\"text-align: right;\">\n      <th></th>\n      <th>id</th>\n      <th>diagnosis</th>\n      <th>radius</th>\n      <th>texture</th>\n      <th>perimeter</th>\n      <th>area</th>\n      <th>smoothness</th>\n      <th>compactness</th>\n      <th>concavity</th>\n      <th>concave_points</th>\n      <th>symmetry</th>\n      <th>fractal_dimension</th>\n    </tr>\n  </thead>\n  <tbody>\n    <tr>\n      <th>0</th>\n      <td>842302</td>\n      <td>M</td>\n      <td>17.99</td>\n      <td>19.293431</td>\n      <td>122.80</td>\n      <td>1001.0</td>\n      <td>0.118400</td>\n      <td>0.27760</td>\n      <td>0.30010</td>\n      <td>0.14710</td>\n      <td>0.241900</td>\n      <td>0.07871</td>\n    </tr>\n    <tr>\n      <th>1</th>\n      <td>842517</td>\n      <td>M</td>\n      <td>20.57</td>\n      <td>17.770000</td>\n      <td>132.90</td>\n      <td>1326.0</td>\n      <td>0.084740</td>\n      <td>0.07864</td>\n      <td>0.08690</td>\n      <td>0.07017</td>\n      <td>0.181200</td>\n      <td>0.05667</td>\n    </tr>\n    <tr>\n      <th>2</th>\n      <td>84300903</td>\n      <td>M</td>\n      <td>19.69</td>\n      <td>21.250000</td>\n      <td>130.00</td>\n      <td>1203.0</td>\n      <td>0.109600</td>\n      <td>0.15990</td>\n      <td>0.19740</td>\n      <td>0.12790</td>\n      <td>0.206900</td>\n      <td>0.05999</td>\n    </tr>\n    <tr>\n      <th>3</th>\n      <td>84348301</td>\n      <td>M</td>\n      <td>11.42</td>\n      <td>20.380000</td>\n      <td>77.58</td>\n      <td>386.1</td>\n      <td>0.096087</td>\n      <td>0.28390</td>\n      <td>0.24140</td>\n      <td>0.10520</td>\n      <td>0.259700</td>\n      <td>0.09744</td>\n    </tr>\n    <tr>\n      <th>4</th>\n      <td>84358402</td>\n      <td>M</td>\n      <td>20.29</td>\n      <td>14.340000</td>\n      <td>135.10</td>\n      <td>1297.0</td>\n      <td>0.100300</td>\n      <td>0.13280</td>\n      <td>0.19800</td>\n      <td>0.10430</td>\n      <td>0.180900</td>\n      <td>0.05883</td>\n    </tr>\n    <tr>\n      <th>5</th>\n      <td>843786</td>\n      <td>M</td>\n      <td>12.45</td>\n      <td>15.700000</td>\n      <td>82.57</td>\n      <td>477.1</td>\n      <td>0.127800</td>\n      <td>0.17000</td>\n      <td>0.15780</td>\n      <td>0.08089</td>\n      <td>0.208700</td>\n      <td>0.07613</td>\n    </tr>\n    <tr>\n      <th>6</th>\n      <td>844359</td>\n      <td>M</td>\n      <td>18.25</td>\n      <td>19.980000</td>\n      <td>119.60</td>\n      <td>1040.0</td>\n      <td>0.094630</td>\n      <td>0.10900</td>\n      <td>0.11270</td>\n      <td>0.07400</td>\n      <td>0.181091</td>\n      <td>0.05742</td>\n    </tr>\n    <tr>\n      <th>7</th>\n      <td>84458202</td>\n      <td>M</td>\n      <td>13.71</td>\n      <td>20.830000</td>\n      <td>90.20</td>\n      <td>577.9</td>\n      <td>0.118900</td>\n      <td>0.16450</td>\n      <td>0.09366</td>\n      <td>0.05985</td>\n      <td>0.219600</td>\n      <td>0.07451</td>\n    </tr>\n    <tr>\n      <th>8</th>\n      <td>844981</td>\n      <td>M</td>\n      <td>13.00</td>\n      <td>21.820000</td>\n      <td>87.50</td>\n      <td>519.8</td>\n      <td>0.127300</td>\n      <td>0.19320</td>\n      <td>0.18590</td>\n      <td>0.09353</td>\n      <td>0.235000</td>\n      <td>0.07389</td>\n    </tr>\n    <tr>\n      <th>9</th>\n      <td>84501001</td>\n      <td>M</td>\n      <td>12.46</td>\n      <td>24.040000</td>\n      <td>83.97</td>\n      <td>475.9</td>\n      <td>0.118600</td>\n      <td>0.23960</td>\n      <td>0.22730</td>\n      <td>0.08543</td>\n      <td>0.203000</td>\n      <td>0.08243</td>\n    </tr>\n  </tbody>\n</table>\n</div>"
     },
     "metadata": {},
     "execution_count": 7
    }
   ],
   "source": [
    "df_m =  df_cancer [ df_cancer[\"diagnosis\"]==\"M\" ]\n",
    "df_m.head(10)"
   ]
  },
  {
   "cell_type": "code",
   "execution_count": 11,
   "metadata": {},
   "outputs": [
    {
     "output_type": "execute_result",
     "data": {
      "text/plain": [
       "           id diagnosis  radius    texture  perimeter    area  smoothness  \\\n",
       "0      842302         M   17.99  19.293431     122.80  1001.0    0.118400   \n",
       "1      842517         M   20.57  17.770000     132.90  1326.0    0.084740   \n",
       "2    84300903         M   19.69  21.250000     130.00  1203.0    0.109600   \n",
       "3    84348301         M   11.42  20.380000      77.58   386.1    0.096087   \n",
       "4    84358402         M   20.29  14.340000     135.10  1297.0    0.100300   \n",
       "..        ...       ...     ...        ...        ...     ...         ...   \n",
       "558    926125         M   20.92  25.090000     143.00  1347.0    0.109900   \n",
       "559    926424         M   21.56  22.390000     142.00  1479.0    0.111000   \n",
       "560    926682         M   20.13  28.250000     131.20  1261.0    0.097800   \n",
       "561    926954         M   16.60  28.080000     108.30   858.1    0.084550   \n",
       "562    927241         M   20.60  29.330000     140.10  1265.0    0.117800   \n",
       "\n",
       "     compactness  concavity  concave_points  symmetry  fractal_dimension  \n",
       "0        0.27760    0.30010         0.14710    0.2419            0.07871  \n",
       "1        0.07864    0.08690         0.07017    0.1812            0.05667  \n",
       "2        0.15990    0.19740         0.12790    0.2069            0.05999  \n",
       "3        0.28390    0.24140         0.10520    0.2597            0.09744  \n",
       "4        0.13280    0.19800         0.10430    0.1809            0.05883  \n",
       "..           ...        ...             ...       ...                ...  \n",
       "558      0.22360    0.31740         0.14740    0.2149            0.06879  \n",
       "559      0.11590    0.24390         0.13890    0.1726            0.05623  \n",
       "560      0.10340    0.14400         0.09791    0.1752            0.05533  \n",
       "561      0.10230    0.09251         0.05302    0.1590            0.05648  \n",
       "562      0.27700    0.35140         0.15200    0.2397            0.07016  \n",
       "\n",
       "[210 rows x 12 columns]"
      ],
      "text/html": "<div>\n<style scoped>\n    .dataframe tbody tr th:only-of-type {\n        vertical-align: middle;\n    }\n\n    .dataframe tbody tr th {\n        vertical-align: top;\n    }\n\n    .dataframe thead th {\n        text-align: right;\n    }\n</style>\n<table border=\"1\" class=\"dataframe\">\n  <thead>\n    <tr style=\"text-align: right;\">\n      <th></th>\n      <th>id</th>\n      <th>diagnosis</th>\n      <th>radius</th>\n      <th>texture</th>\n      <th>perimeter</th>\n      <th>area</th>\n      <th>smoothness</th>\n      <th>compactness</th>\n      <th>concavity</th>\n      <th>concave_points</th>\n      <th>symmetry</th>\n      <th>fractal_dimension</th>\n    </tr>\n  </thead>\n  <tbody>\n    <tr>\n      <th>0</th>\n      <td>842302</td>\n      <td>M</td>\n      <td>17.99</td>\n      <td>19.293431</td>\n      <td>122.80</td>\n      <td>1001.0</td>\n      <td>0.118400</td>\n      <td>0.27760</td>\n      <td>0.30010</td>\n      <td>0.14710</td>\n      <td>0.2419</td>\n      <td>0.07871</td>\n    </tr>\n    <tr>\n      <th>1</th>\n      <td>842517</td>\n      <td>M</td>\n      <td>20.57</td>\n      <td>17.770000</td>\n      <td>132.90</td>\n      <td>1326.0</td>\n      <td>0.084740</td>\n      <td>0.07864</td>\n      <td>0.08690</td>\n      <td>0.07017</td>\n      <td>0.1812</td>\n      <td>0.05667</td>\n    </tr>\n    <tr>\n      <th>2</th>\n      <td>84300903</td>\n      <td>M</td>\n      <td>19.69</td>\n      <td>21.250000</td>\n      <td>130.00</td>\n      <td>1203.0</td>\n      <td>0.109600</td>\n      <td>0.15990</td>\n      <td>0.19740</td>\n      <td>0.12790</td>\n      <td>0.2069</td>\n      <td>0.05999</td>\n    </tr>\n    <tr>\n      <th>3</th>\n      <td>84348301</td>\n      <td>M</td>\n      <td>11.42</td>\n      <td>20.380000</td>\n      <td>77.58</td>\n      <td>386.1</td>\n      <td>0.096087</td>\n      <td>0.28390</td>\n      <td>0.24140</td>\n      <td>0.10520</td>\n      <td>0.2597</td>\n      <td>0.09744</td>\n    </tr>\n    <tr>\n      <th>4</th>\n      <td>84358402</td>\n      <td>M</td>\n      <td>20.29</td>\n      <td>14.340000</td>\n      <td>135.10</td>\n      <td>1297.0</td>\n      <td>0.100300</td>\n      <td>0.13280</td>\n      <td>0.19800</td>\n      <td>0.10430</td>\n      <td>0.1809</td>\n      <td>0.05883</td>\n    </tr>\n    <tr>\n      <th>...</th>\n      <td>...</td>\n      <td>...</td>\n      <td>...</td>\n      <td>...</td>\n      <td>...</td>\n      <td>...</td>\n      <td>...</td>\n      <td>...</td>\n      <td>...</td>\n      <td>...</td>\n      <td>...</td>\n      <td>...</td>\n    </tr>\n    <tr>\n      <th>558</th>\n      <td>926125</td>\n      <td>M</td>\n      <td>20.92</td>\n      <td>25.090000</td>\n      <td>143.00</td>\n      <td>1347.0</td>\n      <td>0.109900</td>\n      <td>0.22360</td>\n      <td>0.31740</td>\n      <td>0.14740</td>\n      <td>0.2149</td>\n      <td>0.06879</td>\n    </tr>\n    <tr>\n      <th>559</th>\n      <td>926424</td>\n      <td>M</td>\n      <td>21.56</td>\n      <td>22.390000</td>\n      <td>142.00</td>\n      <td>1479.0</td>\n      <td>0.111000</td>\n      <td>0.11590</td>\n      <td>0.24390</td>\n      <td>0.13890</td>\n      <td>0.1726</td>\n      <td>0.05623</td>\n    </tr>\n    <tr>\n      <th>560</th>\n      <td>926682</td>\n      <td>M</td>\n      <td>20.13</td>\n      <td>28.250000</td>\n      <td>131.20</td>\n      <td>1261.0</td>\n      <td>0.097800</td>\n      <td>0.10340</td>\n      <td>0.14400</td>\n      <td>0.09791</td>\n      <td>0.1752</td>\n      <td>0.05533</td>\n    </tr>\n    <tr>\n      <th>561</th>\n      <td>926954</td>\n      <td>M</td>\n      <td>16.60</td>\n      <td>28.080000</td>\n      <td>108.30</td>\n      <td>858.1</td>\n      <td>0.084550</td>\n      <td>0.10230</td>\n      <td>0.09251</td>\n      <td>0.05302</td>\n      <td>0.1590</td>\n      <td>0.05648</td>\n    </tr>\n    <tr>\n      <th>562</th>\n      <td>927241</td>\n      <td>M</td>\n      <td>20.60</td>\n      <td>29.330000</td>\n      <td>140.10</td>\n      <td>1265.0</td>\n      <td>0.117800</td>\n      <td>0.27700</td>\n      <td>0.35140</td>\n      <td>0.15200</td>\n      <td>0.2397</td>\n      <td>0.07016</td>\n    </tr>\n  </tbody>\n</table>\n<p>210 rows × 12 columns</p>\n</div>"
     },
     "metadata": {},
     "execution_count": 11
    }
   ],
   "source": [
    "df_m = df_cancer[mask]\n",
    "df_m"
   ]
  },
  {
   "cell_type": "code",
   "execution_count": 12,
   "metadata": {},
   "outputs": [
    {
     "output_type": "execute_result",
     "data": {
      "text/plain": [
       "count     210.000000\n",
       "mean      976.582857\n",
       "std       365.494289\n",
       "min       361.600000\n",
       "25%       706.850000\n",
       "50%       932.000000\n",
       "75%      1200.750000\n",
       "max      2501.000000\n",
       "Name: area, dtype: float64"
      ]
     },
     "metadata": {},
     "execution_count": 12
    }
   ],
   "source": [
    "df_m[\"area\"].describe()"
   ]
  },
  {
   "cell_type": "code",
   "execution_count": 15,
   "metadata": {},
   "outputs": [
    {
     "output_type": "execute_result",
     "data": {
      "text/plain": [
       "           id diagnosis  radius  texture  perimeter   area  smoothness  \\\n",
       "19    8510426         B  13.540    14.36      87.46  566.3     0.09779   \n",
       "20    8510653         B  13.080    15.71      85.63  520.0     0.10750   \n",
       "21    8510824         B   9.504    12.44      60.34  273.9     0.10240   \n",
       "37     854941         B  13.030    18.42      82.61  523.8     0.08983   \n",
       "40   89511502         B  12.670    17.30      81.25  489.9     0.10280   \n",
       "..        ...       ...     ...      ...        ...    ...         ...   \n",
       "553    925236         B   9.423    27.88      59.26  271.3     0.08123   \n",
       "554    925291         B  11.510    23.93      74.52  403.5     0.09261   \n",
       "555    925292         B  14.050    27.15      91.38  600.4     0.09929   \n",
       "556    925311         B  11.200    29.37      70.67  386.0     0.07449   \n",
       "563     92751         B   7.760    24.54      47.92  181.0     0.05263   \n",
       "\n",
       "     compactness  concavity  concave_points  symmetry  fractal_dimension  \n",
       "19       0.08129    0.06664         0.04781    0.1885            0.05766  \n",
       "20       0.12700    0.04568         0.03110    0.1967            0.06811  \n",
       "21       0.06492    0.02956         0.02076    0.1815            0.06905  \n",
       "37       0.03766    0.02562         0.02923    0.1467            0.05863  \n",
       "40       0.07664    0.03193         0.02107    0.1707            0.05984  \n",
       "..           ...        ...             ...       ...                ...  \n",
       "553      0.04971    0.00000         0.00000    0.1742            0.06059  \n",
       "554      0.10210    0.11120         0.04105    0.1388            0.06570  \n",
       "555      0.11260    0.04462         0.04304    0.1537            0.06171  \n",
       "556      0.03558    0.00000         0.00000    0.1060            0.05502  \n",
       "563      0.04362    0.00000         0.00000    0.1587            0.05884  \n",
       "\n",
       "[354 rows x 12 columns]"
      ],
      "text/html": "<div>\n<style scoped>\n    .dataframe tbody tr th:only-of-type {\n        vertical-align: middle;\n    }\n\n    .dataframe tbody tr th {\n        vertical-align: top;\n    }\n\n    .dataframe thead th {\n        text-align: right;\n    }\n</style>\n<table border=\"1\" class=\"dataframe\">\n  <thead>\n    <tr style=\"text-align: right;\">\n      <th></th>\n      <th>id</th>\n      <th>diagnosis</th>\n      <th>radius</th>\n      <th>texture</th>\n      <th>perimeter</th>\n      <th>area</th>\n      <th>smoothness</th>\n      <th>compactness</th>\n      <th>concavity</th>\n      <th>concave_points</th>\n      <th>symmetry</th>\n      <th>fractal_dimension</th>\n    </tr>\n  </thead>\n  <tbody>\n    <tr>\n      <th>19</th>\n      <td>8510426</td>\n      <td>B</td>\n      <td>13.540</td>\n      <td>14.36</td>\n      <td>87.46</td>\n      <td>566.3</td>\n      <td>0.09779</td>\n      <td>0.08129</td>\n      <td>0.06664</td>\n      <td>0.04781</td>\n      <td>0.1885</td>\n      <td>0.05766</td>\n    </tr>\n    <tr>\n      <th>20</th>\n      <td>8510653</td>\n      <td>B</td>\n      <td>13.080</td>\n      <td>15.71</td>\n      <td>85.63</td>\n      <td>520.0</td>\n      <td>0.10750</td>\n      <td>0.12700</td>\n      <td>0.04568</td>\n      <td>0.03110</td>\n      <td>0.1967</td>\n      <td>0.06811</td>\n    </tr>\n    <tr>\n      <th>21</th>\n      <td>8510824</td>\n      <td>B</td>\n      <td>9.504</td>\n      <td>12.44</td>\n      <td>60.34</td>\n      <td>273.9</td>\n      <td>0.10240</td>\n      <td>0.06492</td>\n      <td>0.02956</td>\n      <td>0.02076</td>\n      <td>0.1815</td>\n      <td>0.06905</td>\n    </tr>\n    <tr>\n      <th>37</th>\n      <td>854941</td>\n      <td>B</td>\n      <td>13.030</td>\n      <td>18.42</td>\n      <td>82.61</td>\n      <td>523.8</td>\n      <td>0.08983</td>\n      <td>0.03766</td>\n      <td>0.02562</td>\n      <td>0.02923</td>\n      <td>0.1467</td>\n      <td>0.05863</td>\n    </tr>\n    <tr>\n      <th>40</th>\n      <td>89511502</td>\n      <td>B</td>\n      <td>12.670</td>\n      <td>17.30</td>\n      <td>81.25</td>\n      <td>489.9</td>\n      <td>0.10280</td>\n      <td>0.07664</td>\n      <td>0.03193</td>\n      <td>0.02107</td>\n      <td>0.1707</td>\n      <td>0.05984</td>\n    </tr>\n    <tr>\n      <th>...</th>\n      <td>...</td>\n      <td>...</td>\n      <td>...</td>\n      <td>...</td>\n      <td>...</td>\n      <td>...</td>\n      <td>...</td>\n      <td>...</td>\n      <td>...</td>\n      <td>...</td>\n      <td>...</td>\n      <td>...</td>\n    </tr>\n    <tr>\n      <th>553</th>\n      <td>925236</td>\n      <td>B</td>\n      <td>9.423</td>\n      <td>27.88</td>\n      <td>59.26</td>\n      <td>271.3</td>\n      <td>0.08123</td>\n      <td>0.04971</td>\n      <td>0.00000</td>\n      <td>0.00000</td>\n      <td>0.1742</td>\n      <td>0.06059</td>\n    </tr>\n    <tr>\n      <th>554</th>\n      <td>925291</td>\n      <td>B</td>\n      <td>11.510</td>\n      <td>23.93</td>\n      <td>74.52</td>\n      <td>403.5</td>\n      <td>0.09261</td>\n      <td>0.10210</td>\n      <td>0.11120</td>\n      <td>0.04105</td>\n      <td>0.1388</td>\n      <td>0.06570</td>\n    </tr>\n    <tr>\n      <th>555</th>\n      <td>925292</td>\n      <td>B</td>\n      <td>14.050</td>\n      <td>27.15</td>\n      <td>91.38</td>\n      <td>600.4</td>\n      <td>0.09929</td>\n      <td>0.11260</td>\n      <td>0.04462</td>\n      <td>0.04304</td>\n      <td>0.1537</td>\n      <td>0.06171</td>\n    </tr>\n    <tr>\n      <th>556</th>\n      <td>925311</td>\n      <td>B</td>\n      <td>11.200</td>\n      <td>29.37</td>\n      <td>70.67</td>\n      <td>386.0</td>\n      <td>0.07449</td>\n      <td>0.03558</td>\n      <td>0.00000</td>\n      <td>0.00000</td>\n      <td>0.1060</td>\n      <td>0.05502</td>\n    </tr>\n    <tr>\n      <th>563</th>\n      <td>92751</td>\n      <td>B</td>\n      <td>7.760</td>\n      <td>24.54</td>\n      <td>47.92</td>\n      <td>181.0</td>\n      <td>0.05263</td>\n      <td>0.04362</td>\n      <td>0.00000</td>\n      <td>0.00000</td>\n      <td>0.1587</td>\n      <td>0.05884</td>\n    </tr>\n  </tbody>\n</table>\n<p>354 rows × 12 columns</p>\n</div>"
     },
     "metadata": {},
     "execution_count": 15
    }
   ],
   "source": [
    "df_b = df_cancer [ df_cancer[\"diagnosis\"]==\"B\" ]\n",
    "df_b"
   ]
  },
  {
   "cell_type": "code",
   "execution_count": 16,
   "metadata": {},
   "outputs": [
    {
     "output_type": "execute_result",
     "data": {
      "text/plain": [
       "count    354.000000\n",
       "mean     462.712429\n",
       "std      134.769158\n",
       "min      143.500000\n",
       "25%      374.975000\n",
       "50%      458.150000\n",
       "75%      551.550000\n",
       "max      992.100000\n",
       "Name: area, dtype: float64"
      ]
     },
     "metadata": {},
     "execution_count": 16
    }
   ],
   "source": [
    "df_b[\"area\"].describe()"
   ]
  },
  {
   "cell_type": "code",
   "execution_count": 35,
   "metadata": {},
   "outputs": [
    {
     "output_type": "stream",
     "name": "stdout",
     "text": [
      "The main of M 976.5829 , while the maen of B is 462.7124 \n"
     ]
    }
   ],
   "source": [
    "## : .4f == the first 4 DIGIT FROM THE RETURNED FLOAT\r\n",
    "print( \"The main of M {0:.4f} , while the maen of B is {1:.4f} \".format( df_m[\"area\"].mean()  ,  df_b[\"area\"].mean() )  )"
   ]
  },
  {
   "cell_type": "code",
   "execution_count": null,
   "metadata": {},
   "outputs": [],
   "source": []
  }
 ]
}