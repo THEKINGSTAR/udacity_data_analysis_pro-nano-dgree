{
 "cells": [
  {
   "cell_type": "markdown",
   "metadata": {},
   "source": [
    "# Cleaning Example\n",
    "Let's explore ways of fixing some common issues in data. Here's a toy dataset I created for this lesson. It has eleven instances of user-product interactions online, recording whether the user liked the product, how long they viewed the product, whether it was on a website or through a mobile app, and what time they started viewing the product. Can you spot any potential issues in this data?"
   ]
  },
  {
   "cell_type": "code",
   "execution_count": 10,
   "metadata": {
    "collapsed": true
   },
   "outputs": [
    {
     "output_type": "execute_result",
     "data": {
      "text/plain": [
       "    user_id  product_id  liked  view_duration  source  \\\n",
       "0      3987      997021   True       1.048242     web   \n",
       "1      6300      865003   True       1.688173     web   \n",
       "2      6451      712951  False            NaN  mobile   \n",
       "3      7782      283235   True       0.194162  mobile   \n",
       "4      7782      283235   True       0.194162  mobile   \n",
       "5      5700      587019  False       0.493194     web   \n",
       "6      3400      505123   True            NaN     web   \n",
       "7      8403      459916  False       0.675041  mobile   \n",
       "8      8965      943363  False            NaN     web   \n",
       "9      9693      787546   True       0.101743     web   \n",
       "10     4107      811855  False       3.112086     web   \n",
       "\n",
       "                     timestamp  \n",
       "0   2017-09-23 00:18:29.056895  \n",
       "1   2017-09-21 02:20:22.022096  \n",
       "2   2017-09-07 11:57:50.044683  \n",
       "3   2017-09-17 03:48:20.019677  \n",
       "4   2017-09-17 03:48:20.019677  \n",
       "5   2017-09-07 00:25:07.019097  \n",
       "6   2017-09-07 13:53:21.008403  \n",
       "7   2017-09-25 21:54:00.028323  \n",
       "8   2017-09-17 15:12:21.059489  \n",
       "9   2017-09-26 12:34:46.012559  \n",
       "10  2017-09-01 10:50:07.042593  "
      ],
      "text/html": "<div>\n<style scoped>\n    .dataframe tbody tr th:only-of-type {\n        vertical-align: middle;\n    }\n\n    .dataframe tbody tr th {\n        vertical-align: top;\n    }\n\n    .dataframe thead th {\n        text-align: right;\n    }\n</style>\n<table border=\"1\" class=\"dataframe\">\n  <thead>\n    <tr style=\"text-align: right;\">\n      <th></th>\n      <th>user_id</th>\n      <th>product_id</th>\n      <th>liked</th>\n      <th>view_duration</th>\n      <th>source</th>\n      <th>timestamp</th>\n    </tr>\n  </thead>\n  <tbody>\n    <tr>\n      <th>0</th>\n      <td>3987</td>\n      <td>997021</td>\n      <td>True</td>\n      <td>1.048242</td>\n      <td>web</td>\n      <td>2017-09-23 00:18:29.056895</td>\n    </tr>\n    <tr>\n      <th>1</th>\n      <td>6300</td>\n      <td>865003</td>\n      <td>True</td>\n      <td>1.688173</td>\n      <td>web</td>\n      <td>2017-09-21 02:20:22.022096</td>\n    </tr>\n    <tr>\n      <th>2</th>\n      <td>6451</td>\n      <td>712951</td>\n      <td>False</td>\n      <td>NaN</td>\n      <td>mobile</td>\n      <td>2017-09-07 11:57:50.044683</td>\n    </tr>\n    <tr>\n      <th>3</th>\n      <td>7782</td>\n      <td>283235</td>\n      <td>True</td>\n      <td>0.194162</td>\n      <td>mobile</td>\n      <td>2017-09-17 03:48:20.019677</td>\n    </tr>\n    <tr>\n      <th>4</th>\n      <td>7782</td>\n      <td>283235</td>\n      <td>True</td>\n      <td>0.194162</td>\n      <td>mobile</td>\n      <td>2017-09-17 03:48:20.019677</td>\n    </tr>\n    <tr>\n      <th>5</th>\n      <td>5700</td>\n      <td>587019</td>\n      <td>False</td>\n      <td>0.493194</td>\n      <td>web</td>\n      <td>2017-09-07 00:25:07.019097</td>\n    </tr>\n    <tr>\n      <th>6</th>\n      <td>3400</td>\n      <td>505123</td>\n      <td>True</td>\n      <td>NaN</td>\n      <td>web</td>\n      <td>2017-09-07 13:53:21.008403</td>\n    </tr>\n    <tr>\n      <th>7</th>\n      <td>8403</td>\n      <td>459916</td>\n      <td>False</td>\n      <td>0.675041</td>\n      <td>mobile</td>\n      <td>2017-09-25 21:54:00.028323</td>\n    </tr>\n    <tr>\n      <th>8</th>\n      <td>8965</td>\n      <td>943363</td>\n      <td>False</td>\n      <td>NaN</td>\n      <td>web</td>\n      <td>2017-09-17 15:12:21.059489</td>\n    </tr>\n    <tr>\n      <th>9</th>\n      <td>9693</td>\n      <td>787546</td>\n      <td>True</td>\n      <td>0.101743</td>\n      <td>web</td>\n      <td>2017-09-26 12:34:46.012559</td>\n    </tr>\n    <tr>\n      <th>10</th>\n      <td>4107</td>\n      <td>811855</td>\n      <td>False</td>\n      <td>3.112086</td>\n      <td>web</td>\n      <td>2017-09-01 10:50:07.042593</td>\n    </tr>\n  </tbody>\n</table>\n</div>"
     },
     "metadata": {},
     "execution_count": 10
    }
   ],
   "source": [
    "import pandas as pd\n",
    "\n",
    "df = pd.read_csv('product_view_data.csv')\n",
    "df"
   ]
  },
  {
   "cell_type": "code",
   "execution_count": 2,
   "metadata": {
    "collapsed": true
   },
   "outputs": [
    {
     "output_type": "stream",
     "name": "stdout",
     "text": [
      "<class 'pandas.core.frame.DataFrame'>\nRangeIndex: 11 entries, 0 to 10\nData columns (total 6 columns):\n #   Column         Non-Null Count  Dtype  \n---  ------         --------------  -----  \n 0   user_id        11 non-null     int64  \n 1   product_id     11 non-null     int64  \n 2   liked          11 non-null     bool   \n 3   view_duration  8 non-null      float64\n 4   source         11 non-null     object \n 5   timestamp      11 non-null     object \ndtypes: bool(1), float64(1), int64(2), object(2)\nmemory usage: 579.0+ bytes\n"
     ]
    }
   ],
   "source": [
    "df.info()"
   ]
  },
  {
   "cell_type": "markdown",
   "metadata": {},
   "source": [
    "## Let's address three issues in this dataset that are quite common in the real world\n",
    "- Missing data (in the `view_duration` columns)\n",
    "- Duplicates (rows 3 and 4)\n",
    "- Incorrect Datatypes (`timestamp` is represented as a string)"
   ]
  },
  {
   "cell_type": "markdown",
   "metadata": {},
   "source": [
    "## Filling null values\n",
    "In the dataframe above, you can see null values represented as `NaN`, which stands for not a number. From the output of `df.info()` you can see that there are 8 non-null values, which leaves 3 null values of the 11 entries. [Missing data](https://en.wikipedia.org/wiki/Missing_data) is an issue that should be handled differently depending on several factors, such as the reason those values are missing and whether the occurrences seem random. One way of handling them is [imputing](https://en.wikipedia.org/wiki/Imputation_(statistics) them with the mean. You can do this quickly and efficiently with a convenient function from Pandas."
   ]
  },
  {
   "cell_type": "code",
   "execution_count": 3,
   "metadata": {
    "collapsed": true
   },
   "outputs": [
    {
     "output_type": "stream",
     "name": "stdout",
     "text": [
      "0.9383504902905304\n"
     ]
    }
   ],
   "source": [
    "# get the mean of the column with missing data\n",
    "mean = df['view_duration'].mean()\n",
    "print(mean)"
   ]
  },
  {
   "cell_type": "code",
   "execution_count": 4,
   "metadata": {},
   "outputs": [
    {
     "output_type": "stream",
     "name": "stdout",
     "text": [
      "0.9383504902905304\n"
     ]
    }
   ],
   "source": [
    "mean = df[\"view_duration\"].mean()\n",
    "print(mean)"
   ]
  },
  {
   "cell_type": "code",
   "execution_count": 5,
   "metadata": {
    "collapsed": true
   },
   "outputs": [
    {
     "output_type": "execute_result",
     "data": {
      "text/plain": [
       "0     1.048242\n",
       "1     1.688173\n",
       "2     0.938350\n",
       "3     0.194162\n",
       "4     0.194162\n",
       "5     0.493194\n",
       "6     0.938350\n",
       "7     0.675041\n",
       "8     0.938350\n",
       "9     0.101743\n",
       "10    3.112086\n",
       "Name: view_duration, dtype: float64"
      ]
     },
     "metadata": {},
     "execution_count": 5
    }
   ],
   "source": [
    "# replace NaN values with the mean\n",
    "df['view_duration'].fillna(mean)"
   ]
  },
  {
   "cell_type": "code",
   "execution_count": 6,
   "metadata": {},
   "outputs": [
    {
     "output_type": "execute_result",
     "data": {
      "text/plain": [
       "    user_id  product_id  liked  view_duration  source  \\\n",
       "0      3987      997021   True       1.048242     web   \n",
       "1      6300      865003   True       1.688173     web   \n",
       "2      6451      712951  False       0.938350  mobile   \n",
       "3      7782      283235   True       0.194162  mobile   \n",
       "4      7782      283235   True       0.194162  mobile   \n",
       "5      5700      587019  False       0.493194     web   \n",
       "6      3400      505123   True       0.938350     web   \n",
       "7      8403      459916  False       0.675041  mobile   \n",
       "8      8965      943363  False       0.938350     web   \n",
       "9      9693      787546   True       0.101743     web   \n",
       "10     4107      811855  False       3.112086     web   \n",
       "\n",
       "                     timestamp  \n",
       "0   2017-09-23 00:18:29.056895  \n",
       "1   2017-09-21 02:20:22.022096  \n",
       "2   2017-09-07 11:57:50.044683  \n",
       "3   2017-09-17 03:48:20.019677  \n",
       "4   2017-09-17 03:48:20.019677  \n",
       "5   2017-09-07 00:25:07.019097  \n",
       "6   2017-09-07 13:53:21.008403  \n",
       "7   2017-09-25 21:54:00.028323  \n",
       "8   2017-09-17 15:12:21.059489  \n",
       "9   2017-09-26 12:34:46.012559  \n",
       "10  2017-09-01 10:50:07.042593  "
      ],
      "text/html": "<div>\n<style scoped>\n    .dataframe tbody tr th:only-of-type {\n        vertical-align: middle;\n    }\n\n    .dataframe tbody tr th {\n        vertical-align: top;\n    }\n\n    .dataframe thead th {\n        text-align: right;\n    }\n</style>\n<table border=\"1\" class=\"dataframe\">\n  <thead>\n    <tr style=\"text-align: right;\">\n      <th></th>\n      <th>user_id</th>\n      <th>product_id</th>\n      <th>liked</th>\n      <th>view_duration</th>\n      <th>source</th>\n      <th>timestamp</th>\n    </tr>\n  </thead>\n  <tbody>\n    <tr>\n      <th>0</th>\n      <td>3987</td>\n      <td>997021</td>\n      <td>True</td>\n      <td>1.048242</td>\n      <td>web</td>\n      <td>2017-09-23 00:18:29.056895</td>\n    </tr>\n    <tr>\n      <th>1</th>\n      <td>6300</td>\n      <td>865003</td>\n      <td>True</td>\n      <td>1.688173</td>\n      <td>web</td>\n      <td>2017-09-21 02:20:22.022096</td>\n    </tr>\n    <tr>\n      <th>2</th>\n      <td>6451</td>\n      <td>712951</td>\n      <td>False</td>\n      <td>0.938350</td>\n      <td>mobile</td>\n      <td>2017-09-07 11:57:50.044683</td>\n    </tr>\n    <tr>\n      <th>3</th>\n      <td>7782</td>\n      <td>283235</td>\n      <td>True</td>\n      <td>0.194162</td>\n      <td>mobile</td>\n      <td>2017-09-17 03:48:20.019677</td>\n    </tr>\n    <tr>\n      <th>4</th>\n      <td>7782</td>\n      <td>283235</td>\n      <td>True</td>\n      <td>0.194162</td>\n      <td>mobile</td>\n      <td>2017-09-17 03:48:20.019677</td>\n    </tr>\n    <tr>\n      <th>5</th>\n      <td>5700</td>\n      <td>587019</td>\n      <td>False</td>\n      <td>0.493194</td>\n      <td>web</td>\n      <td>2017-09-07 00:25:07.019097</td>\n    </tr>\n    <tr>\n      <th>6</th>\n      <td>3400</td>\n      <td>505123</td>\n      <td>True</td>\n      <td>0.938350</td>\n      <td>web</td>\n      <td>2017-09-07 13:53:21.008403</td>\n    </tr>\n    <tr>\n      <th>7</th>\n      <td>8403</td>\n      <td>459916</td>\n      <td>False</td>\n      <td>0.675041</td>\n      <td>mobile</td>\n      <td>2017-09-25 21:54:00.028323</td>\n    </tr>\n    <tr>\n      <th>8</th>\n      <td>8965</td>\n      <td>943363</td>\n      <td>False</td>\n      <td>0.938350</td>\n      <td>web</td>\n      <td>2017-09-17 15:12:21.059489</td>\n    </tr>\n    <tr>\n      <th>9</th>\n      <td>9693</td>\n      <td>787546</td>\n      <td>True</td>\n      <td>0.101743</td>\n      <td>web</td>\n      <td>2017-09-26 12:34:46.012559</td>\n    </tr>\n    <tr>\n      <th>10</th>\n      <td>4107</td>\n      <td>811855</td>\n      <td>False</td>\n      <td>3.112086</td>\n      <td>web</td>\n      <td>2017-09-01 10:50:07.042593</td>\n    </tr>\n  </tbody>\n</table>\n</div>"
     },
     "metadata": {},
     "execution_count": 6
    }
   ],
   "source": [
    "# df['view_duration'] = df['view_duration'].fillna(mean)\n",
    "### OR\n",
    "df['view_duration'].fillna(mean,inplace=True)\n",
    "df"
   ]
  },
  {
   "cell_type": "markdown",
   "metadata": {},
   "source": [
    "Let's look at the dataframe now - did this fix the problem?"
   ]
  },
  {
   "cell_type": "code",
   "execution_count": 7,
   "metadata": {
    "collapsed": true
   },
   "outputs": [
    {
     "output_type": "execute_result",
     "data": {
      "text/plain": [
       "    user_id  product_id  liked  view_duration  source  \\\n",
       "0      3987      997021   True       1.048242     web   \n",
       "1      6300      865003   True       1.688173     web   \n",
       "2      6451      712951  False       0.938350  mobile   \n",
       "3      7782      283235   True       0.194162  mobile   \n",
       "4      7782      283235   True       0.194162  mobile   \n",
       "5      5700      587019  False       0.493194     web   \n",
       "6      3400      505123   True       0.938350     web   \n",
       "7      8403      459916  False       0.675041  mobile   \n",
       "8      8965      943363  False       0.938350     web   \n",
       "9      9693      787546   True       0.101743     web   \n",
       "10     4107      811855  False       3.112086     web   \n",
       "\n",
       "                     timestamp  \n",
       "0   2017-09-23 00:18:29.056895  \n",
       "1   2017-09-21 02:20:22.022096  \n",
       "2   2017-09-07 11:57:50.044683  \n",
       "3   2017-09-17 03:48:20.019677  \n",
       "4   2017-09-17 03:48:20.019677  \n",
       "5   2017-09-07 00:25:07.019097  \n",
       "6   2017-09-07 13:53:21.008403  \n",
       "7   2017-09-25 21:54:00.028323  \n",
       "8   2017-09-17 15:12:21.059489  \n",
       "9   2017-09-26 12:34:46.012559  \n",
       "10  2017-09-01 10:50:07.042593  "
      ],
      "text/html": "<div>\n<style scoped>\n    .dataframe tbody tr th:only-of-type {\n        vertical-align: middle;\n    }\n\n    .dataframe tbody tr th {\n        vertical-align: top;\n    }\n\n    .dataframe thead th {\n        text-align: right;\n    }\n</style>\n<table border=\"1\" class=\"dataframe\">\n  <thead>\n    <tr style=\"text-align: right;\">\n      <th></th>\n      <th>user_id</th>\n      <th>product_id</th>\n      <th>liked</th>\n      <th>view_duration</th>\n      <th>source</th>\n      <th>timestamp</th>\n    </tr>\n  </thead>\n  <tbody>\n    <tr>\n      <th>0</th>\n      <td>3987</td>\n      <td>997021</td>\n      <td>True</td>\n      <td>1.048242</td>\n      <td>web</td>\n      <td>2017-09-23 00:18:29.056895</td>\n    </tr>\n    <tr>\n      <th>1</th>\n      <td>6300</td>\n      <td>865003</td>\n      <td>True</td>\n      <td>1.688173</td>\n      <td>web</td>\n      <td>2017-09-21 02:20:22.022096</td>\n    </tr>\n    <tr>\n      <th>2</th>\n      <td>6451</td>\n      <td>712951</td>\n      <td>False</td>\n      <td>0.938350</td>\n      <td>mobile</td>\n      <td>2017-09-07 11:57:50.044683</td>\n    </tr>\n    <tr>\n      <th>3</th>\n      <td>7782</td>\n      <td>283235</td>\n      <td>True</td>\n      <td>0.194162</td>\n      <td>mobile</td>\n      <td>2017-09-17 03:48:20.019677</td>\n    </tr>\n    <tr>\n      <th>4</th>\n      <td>7782</td>\n      <td>283235</td>\n      <td>True</td>\n      <td>0.194162</td>\n      <td>mobile</td>\n      <td>2017-09-17 03:48:20.019677</td>\n    </tr>\n    <tr>\n      <th>5</th>\n      <td>5700</td>\n      <td>587019</td>\n      <td>False</td>\n      <td>0.493194</td>\n      <td>web</td>\n      <td>2017-09-07 00:25:07.019097</td>\n    </tr>\n    <tr>\n      <th>6</th>\n      <td>3400</td>\n      <td>505123</td>\n      <td>True</td>\n      <td>0.938350</td>\n      <td>web</td>\n      <td>2017-09-07 13:53:21.008403</td>\n    </tr>\n    <tr>\n      <th>7</th>\n      <td>8403</td>\n      <td>459916</td>\n      <td>False</td>\n      <td>0.675041</td>\n      <td>mobile</td>\n      <td>2017-09-25 21:54:00.028323</td>\n    </tr>\n    <tr>\n      <th>8</th>\n      <td>8965</td>\n      <td>943363</td>\n      <td>False</td>\n      <td>0.938350</td>\n      <td>web</td>\n      <td>2017-09-17 15:12:21.059489</td>\n    </tr>\n    <tr>\n      <th>9</th>\n      <td>9693</td>\n      <td>787546</td>\n      <td>True</td>\n      <td>0.101743</td>\n      <td>web</td>\n      <td>2017-09-26 12:34:46.012559</td>\n    </tr>\n    <tr>\n      <th>10</th>\n      <td>4107</td>\n      <td>811855</td>\n      <td>False</td>\n      <td>3.112086</td>\n      <td>web</td>\n      <td>2017-09-01 10:50:07.042593</td>\n    </tr>\n  </tbody>\n</table>\n</div>"
     },
     "metadata": {},
     "execution_count": 7
    }
   ],
   "source": [
    "df"
   ]
  },
  {
   "cell_type": "markdown",
   "metadata": {},
   "source": [
    "Instead of making changes to the original column, it just returned a new column with the changes, which we didn't store anywhere. To keep the changes, make sure to assign it to the original like this:\n",
    "\n",
    "`df['view_duration'] = df['view_duration'].fillna(mean)`\n",
    "\n",
    "Alternatively, you can use an extra parameter as shown in the cell below."
   ]
  },
  {
   "cell_type": "code",
   "execution_count": 16,
   "metadata": {
    "collapsed": true
   },
   "outputs": [],
   "source": [
    "# replace NaN values and make changes in place\n",
    "df['view_duration'].fillna(mean, inplace=True)"
   ]
  },
  {
   "cell_type": "code",
   "execution_count": 17,
   "metadata": {
    "collapsed": true
   },
   "outputs": [
    {
     "output_type": "execute_result",
     "data": {
      "text/plain": [
       "    Unnamed: 0  user_id  product_id  liked  view_duration  source  \\\n",
       "0            0     3987      997021   True       1.048242     web   \n",
       "1            1     6300      865003   True       1.688173     web   \n",
       "2            2     6451      712951  False       0.938350  mobile   \n",
       "3            3     7782      283235   True       0.194162  mobile   \n",
       "4            4     7782      283235   True       0.194162  mobile   \n",
       "5            5     5700      587019  False       0.493194     web   \n",
       "6            6     3400      505123   True       0.938350     web   \n",
       "7            7     8403      459916  False       0.675041  mobile   \n",
       "8            8     8965      943363  False       0.938350     web   \n",
       "9            9     9693      787546   True       0.101743     web   \n",
       "10          10     4107      811855  False       3.112086     web   \n",
       "\n",
       "                     timestamp  \n",
       "0   2017-09-23 00:18:29.056895  \n",
       "1   2017-09-21 02:20:22.022096  \n",
       "2   2017-09-07 11:57:50.044683  \n",
       "3   2017-09-17 03:48:20.019677  \n",
       "4   2017-09-17 03:48:20.019677  \n",
       "5   2017-09-07 00:25:07.019097  \n",
       "6   2017-09-07 13:53:21.008403  \n",
       "7   2017-09-25 21:54:00.028323  \n",
       "8   2017-09-17 15:12:21.059489  \n",
       "9   2017-09-26 12:34:46.012559  \n",
       "10  2017-09-01 10:50:07.042593  "
      ],
      "text/html": "<div>\n<style scoped>\n    .dataframe tbody tr th:only-of-type {\n        vertical-align: middle;\n    }\n\n    .dataframe tbody tr th {\n        vertical-align: top;\n    }\n\n    .dataframe thead th {\n        text-align: right;\n    }\n</style>\n<table border=\"1\" class=\"dataframe\">\n  <thead>\n    <tr style=\"text-align: right;\">\n      <th></th>\n      <th>Unnamed: 0</th>\n      <th>user_id</th>\n      <th>product_id</th>\n      <th>liked</th>\n      <th>view_duration</th>\n      <th>source</th>\n      <th>timestamp</th>\n    </tr>\n  </thead>\n  <tbody>\n    <tr>\n      <th>0</th>\n      <td>0</td>\n      <td>3987</td>\n      <td>997021</td>\n      <td>True</td>\n      <td>1.048242</td>\n      <td>web</td>\n      <td>2017-09-23 00:18:29.056895</td>\n    </tr>\n    <tr>\n      <th>1</th>\n      <td>1</td>\n      <td>6300</td>\n      <td>865003</td>\n      <td>True</td>\n      <td>1.688173</td>\n      <td>web</td>\n      <td>2017-09-21 02:20:22.022096</td>\n    </tr>\n    <tr>\n      <th>2</th>\n      <td>2</td>\n      <td>6451</td>\n      <td>712951</td>\n      <td>False</td>\n      <td>0.938350</td>\n      <td>mobile</td>\n      <td>2017-09-07 11:57:50.044683</td>\n    </tr>\n    <tr>\n      <th>3</th>\n      <td>3</td>\n      <td>7782</td>\n      <td>283235</td>\n      <td>True</td>\n      <td>0.194162</td>\n      <td>mobile</td>\n      <td>2017-09-17 03:48:20.019677</td>\n    </tr>\n    <tr>\n      <th>4</th>\n      <td>4</td>\n      <td>7782</td>\n      <td>283235</td>\n      <td>True</td>\n      <td>0.194162</td>\n      <td>mobile</td>\n      <td>2017-09-17 03:48:20.019677</td>\n    </tr>\n    <tr>\n      <th>5</th>\n      <td>5</td>\n      <td>5700</td>\n      <td>587019</td>\n      <td>False</td>\n      <td>0.493194</td>\n      <td>web</td>\n      <td>2017-09-07 00:25:07.019097</td>\n    </tr>\n    <tr>\n      <th>6</th>\n      <td>6</td>\n      <td>3400</td>\n      <td>505123</td>\n      <td>True</td>\n      <td>0.938350</td>\n      <td>web</td>\n      <td>2017-09-07 13:53:21.008403</td>\n    </tr>\n    <tr>\n      <th>7</th>\n      <td>7</td>\n      <td>8403</td>\n      <td>459916</td>\n      <td>False</td>\n      <td>0.675041</td>\n      <td>mobile</td>\n      <td>2017-09-25 21:54:00.028323</td>\n    </tr>\n    <tr>\n      <th>8</th>\n      <td>8</td>\n      <td>8965</td>\n      <td>943363</td>\n      <td>False</td>\n      <td>0.938350</td>\n      <td>web</td>\n      <td>2017-09-17 15:12:21.059489</td>\n    </tr>\n    <tr>\n      <th>9</th>\n      <td>9</td>\n      <td>9693</td>\n      <td>787546</td>\n      <td>True</td>\n      <td>0.101743</td>\n      <td>web</td>\n      <td>2017-09-26 12:34:46.012559</td>\n    </tr>\n    <tr>\n      <th>10</th>\n      <td>10</td>\n      <td>4107</td>\n      <td>811855</td>\n      <td>False</td>\n      <td>3.112086</td>\n      <td>web</td>\n      <td>2017-09-01 10:50:07.042593</td>\n    </tr>\n  </tbody>\n</table>\n</div>"
     },
     "metadata": {},
     "execution_count": 17
    }
   ],
   "source": [
    "df"
   ]
  },
  {
   "cell_type": "markdown",
   "metadata": {},
   "source": [
    "Success!"
   ]
  },
  {
   "cell_type": "markdown",
   "metadata": {},
   "source": [
    "## Dropping Duplicates\n",
    "There are multiple reasons you may end up with duplicated data, like combined data sources or human error. Here's a simple scenario where two rows (3 and 4) are identical. This toy dataset is small enough for us to count visually. For bigger datasets, you can use this function to see which rows are duplicates."
   ]
  },
  {
   "cell_type": "code",
   "execution_count": 18,
   "metadata": {
    "collapsed": true
   },
   "outputs": [
    {
     "output_type": "execute_result",
     "data": {
      "text/plain": [
       "0     False\n",
       "1     False\n",
       "2     False\n",
       "3     False\n",
       "4     False\n",
       "5     False\n",
       "6     False\n",
       "7     False\n",
       "8     False\n",
       "9     False\n",
       "10    False\n",
       "dtype: bool"
      ]
     },
     "metadata": {},
     "execution_count": 18
    }
   ],
   "source": [
    "# By default, this marks duplicates as True excluding the first instance,\n",
    "# and it considers a row to be a duplicate only if the values in all\n",
    "# columns match. You can change both of these with its parameters.\n",
    "df.duplicated()"
   ]
  },
  {
   "cell_type": "code",
   "execution_count": 19,
   "metadata": {
    "collapsed": true
   },
   "outputs": [
    {
     "output_type": "execute_result",
     "data": {
      "text/plain": [
       "0"
      ]
     },
     "metadata": {},
     "execution_count": 19
    }
   ],
   "source": [
    "# For larger datasets, it would probably be more helpful to get a count\n",
    "# of duplicates in the dataset like this\n",
    "sum(df.duplicated())"
   ]
  },
  {
   "cell_type": "code",
   "execution_count": 20,
   "metadata": {
    "collapsed": true
   },
   "outputs": [],
   "source": [
    "# You can drop duplicated data with this function. Remember to use\n",
    "# assigned it to the original dataframe or use inplace to keep changes!\n",
    "df.drop_duplicates(inplace=True)"
   ]
  },
  {
   "cell_type": "code",
   "execution_count": 21,
   "metadata": {
    "collapsed": true
   },
   "outputs": [
    {
     "output_type": "execute_result",
     "data": {
      "text/plain": [
       "    Unnamed: 0  user_id  product_id  liked  view_duration  source  \\\n",
       "0            0     3987      997021   True       1.048242     web   \n",
       "1            1     6300      865003   True       1.688173     web   \n",
       "2            2     6451      712951  False       0.938350  mobile   \n",
       "3            3     7782      283235   True       0.194162  mobile   \n",
       "4            4     7782      283235   True       0.194162  mobile   \n",
       "5            5     5700      587019  False       0.493194     web   \n",
       "6            6     3400      505123   True       0.938350     web   \n",
       "7            7     8403      459916  False       0.675041  mobile   \n",
       "8            8     8965      943363  False       0.938350     web   \n",
       "9            9     9693      787546   True       0.101743     web   \n",
       "10          10     4107      811855  False       3.112086     web   \n",
       "\n",
       "                     timestamp  \n",
       "0   2017-09-23 00:18:29.056895  \n",
       "1   2017-09-21 02:20:22.022096  \n",
       "2   2017-09-07 11:57:50.044683  \n",
       "3   2017-09-17 03:48:20.019677  \n",
       "4   2017-09-17 03:48:20.019677  \n",
       "5   2017-09-07 00:25:07.019097  \n",
       "6   2017-09-07 13:53:21.008403  \n",
       "7   2017-09-25 21:54:00.028323  \n",
       "8   2017-09-17 15:12:21.059489  \n",
       "9   2017-09-26 12:34:46.012559  \n",
       "10  2017-09-01 10:50:07.042593  "
      ],
      "text/html": "<div>\n<style scoped>\n    .dataframe tbody tr th:only-of-type {\n        vertical-align: middle;\n    }\n\n    .dataframe tbody tr th {\n        vertical-align: top;\n    }\n\n    .dataframe thead th {\n        text-align: right;\n    }\n</style>\n<table border=\"1\" class=\"dataframe\">\n  <thead>\n    <tr style=\"text-align: right;\">\n      <th></th>\n      <th>Unnamed: 0</th>\n      <th>user_id</th>\n      <th>product_id</th>\n      <th>liked</th>\n      <th>view_duration</th>\n      <th>source</th>\n      <th>timestamp</th>\n    </tr>\n  </thead>\n  <tbody>\n    <tr>\n      <th>0</th>\n      <td>0</td>\n      <td>3987</td>\n      <td>997021</td>\n      <td>True</td>\n      <td>1.048242</td>\n      <td>web</td>\n      <td>2017-09-23 00:18:29.056895</td>\n    </tr>\n    <tr>\n      <th>1</th>\n      <td>1</td>\n      <td>6300</td>\n      <td>865003</td>\n      <td>True</td>\n      <td>1.688173</td>\n      <td>web</td>\n      <td>2017-09-21 02:20:22.022096</td>\n    </tr>\n    <tr>\n      <th>2</th>\n      <td>2</td>\n      <td>6451</td>\n      <td>712951</td>\n      <td>False</td>\n      <td>0.938350</td>\n      <td>mobile</td>\n      <td>2017-09-07 11:57:50.044683</td>\n    </tr>\n    <tr>\n      <th>3</th>\n      <td>3</td>\n      <td>7782</td>\n      <td>283235</td>\n      <td>True</td>\n      <td>0.194162</td>\n      <td>mobile</td>\n      <td>2017-09-17 03:48:20.019677</td>\n    </tr>\n    <tr>\n      <th>4</th>\n      <td>4</td>\n      <td>7782</td>\n      <td>283235</td>\n      <td>True</td>\n      <td>0.194162</td>\n      <td>mobile</td>\n      <td>2017-09-17 03:48:20.019677</td>\n    </tr>\n    <tr>\n      <th>5</th>\n      <td>5</td>\n      <td>5700</td>\n      <td>587019</td>\n      <td>False</td>\n      <td>0.493194</td>\n      <td>web</td>\n      <td>2017-09-07 00:25:07.019097</td>\n    </tr>\n    <tr>\n      <th>6</th>\n      <td>6</td>\n      <td>3400</td>\n      <td>505123</td>\n      <td>True</td>\n      <td>0.938350</td>\n      <td>web</td>\n      <td>2017-09-07 13:53:21.008403</td>\n    </tr>\n    <tr>\n      <th>7</th>\n      <td>7</td>\n      <td>8403</td>\n      <td>459916</td>\n      <td>False</td>\n      <td>0.675041</td>\n      <td>mobile</td>\n      <td>2017-09-25 21:54:00.028323</td>\n    </tr>\n    <tr>\n      <th>8</th>\n      <td>8</td>\n      <td>8965</td>\n      <td>943363</td>\n      <td>False</td>\n      <td>0.938350</td>\n      <td>web</td>\n      <td>2017-09-17 15:12:21.059489</td>\n    </tr>\n    <tr>\n      <th>9</th>\n      <td>9</td>\n      <td>9693</td>\n      <td>787546</td>\n      <td>True</td>\n      <td>0.101743</td>\n      <td>web</td>\n      <td>2017-09-26 12:34:46.012559</td>\n    </tr>\n    <tr>\n      <th>10</th>\n      <td>10</td>\n      <td>4107</td>\n      <td>811855</td>\n      <td>False</td>\n      <td>3.112086</td>\n      <td>web</td>\n      <td>2017-09-01 10:50:07.042593</td>\n    </tr>\n  </tbody>\n</table>\n</div>"
     },
     "metadata": {},
     "execution_count": 21
    }
   ],
   "source": [
    "df"
   ]
  },
  {
   "cell_type": "markdown",
   "metadata": {},
   "source": [
    "Awesome! You can see we've dropped row 4 - the row marked as a duplicate. This was a simple situation where the entire row was identical. You could imagine duplicated data scenarios that are a bit more complicated.\n",
    "\n",
    "For example, let's say we had data on patients from a hospital. What happens when you come across two rows with the same patient id but different data on medical exam results? Do you combine them? Only keep the latest one? This is a situation you'd have to investigate more. For this scenario, you'd likely identify duplicates only based on the column recording the patient's id. You can use the `subset` paramater in [duplicated()](https://pandas.pydata.org/pandas-docs/stable/generated/pandas.DataFrame.duplicated.html) and [drop_duplicates()](http://pandas.pydata.org/pandas-docs/version/0.17.1/generated/pandas.DataFrame.drop_duplicates.html) to do this."
   ]
  },
  {
   "cell_type": "markdown",
   "metadata": {},
   "source": [
    "## Converting to datetime\n",
    "Incorrect datatypes is also a problem data analysts frequently come across. In this case, the timestamps are represented as strings instead of datetimes. This isn't critical, but datetimes are much more convenient to work with if you want to extract specific information from them or filter them more easily."
   ]
  },
  {
   "cell_type": "code",
   "execution_count": 22,
   "metadata": {
    "collapsed": true
   },
   "outputs": [
    {
     "output_type": "stream",
     "name": "stdout",
     "text": [
      "<class 'pandas.core.frame.DataFrame'>\nInt64Index: 11 entries, 0 to 10\nData columns (total 7 columns):\n #   Column         Non-Null Count  Dtype  \n---  ------         --------------  -----  \n 0   Unnamed: 0     11 non-null     int64  \n 1   user_id        11 non-null     int64  \n 2   product_id     11 non-null     int64  \n 3   liked          11 non-null     bool   \n 4   view_duration  11 non-null     float64\n 5   source         11 non-null     object \n 6   timestamp      11 non-null     object \ndtypes: bool(1), float64(1), int64(3), object(2)\nmemory usage: 627.0+ bytes\n"
     ]
    }
   ],
   "source": [
    "# This shows the datatype of timestamp is not yet datetime\n",
    "df.info()"
   ]
  },
  {
   "cell_type": "code",
   "execution_count": 23,
   "metadata": {
    "collapsed": true
   },
   "outputs": [],
   "source": [
    "# Let's use this awesome function to convert this column to datetime\n",
    "df['timestamp'] = pd.to_datetime(df['timestamp'])"
   ]
  },
  {
   "cell_type": "code",
   "execution_count": 24,
   "metadata": {
    "collapsed": true
   },
   "outputs": [
    {
     "output_type": "stream",
     "name": "stdout",
     "text": [
      "<class 'pandas.core.frame.DataFrame'>\nInt64Index: 11 entries, 0 to 10\nData columns (total 7 columns):\n #   Column         Non-Null Count  Dtype         \n---  ------         --------------  -----         \n 0   Unnamed: 0     11 non-null     int64         \n 1   user_id        11 non-null     int64         \n 2   product_id     11 non-null     int64         \n 3   liked          11 non-null     bool          \n 4   view_duration  11 non-null     float64       \n 5   source         11 non-null     object        \n 6   timestamp      11 non-null     datetime64[ns]\ndtypes: bool(1), datetime64[ns](1), float64(1), int64(3), object(1)\nmemory usage: 627.0+ bytes\n"
     ]
    }
   ],
   "source": [
    "# Now we can see timestamp is represented as a datetime\n",
    "df.info()"
   ]
  },
  {
   "cell_type": "markdown",
   "metadata": {},
   "source": [
    "Note that even if you save this to a csv file after making this change, it will be read as a string by default the next time you open it. You'll still have to convert it after opening the csv file, or use parameters like `parse_dates` in the [read_csv()](https://pandas.pydata.org/pandas-docs/stable/generated/pandas.read_csv.html) function. [to_datetime()](https://pandas.pydata.org/pandas-docs/stable/generated/pandas.to_datetime.html) provides parameters for more options if the strings you have to parse are formatted unconventionally."
   ]
  },
  {
   "cell_type": "code",
   "execution_count": 39,
   "metadata": {},
   "outputs": [],
   "source": [
    "#df[\"view_duration\"] = df[\"view_duration\"].fillna(mean)\n",
    "df['timestamp'] = pd.to_datetime(df['timestamp'])\n",
    "df.to_csv('product_view_data_edit.csv')"
   ]
  },
  {
   "cell_type": "code",
   "execution_count": 40,
   "metadata": {},
   "outputs": [
    {
     "output_type": "execute_result",
     "data": {
      "text/plain": [
       "    Unnamed: 0  Unnamed: 0.1  Unnamed: 0.1.1  user_id  product_id  liked  \\\n",
       "0            0             0               0     3987      997021   True   \n",
       "1            1             1               1     6300      865003   True   \n",
       "2            2             2               2     6451      712951  False   \n",
       "3            3             3               3     7782      283235   True   \n",
       "4            4             4               4     7782      283235   True   \n",
       "5            5             5               5     5700      587019  False   \n",
       "6            6             6               6     3400      505123   True   \n",
       "7            7             7               7     8403      459916  False   \n",
       "8            8             8               8     8965      943363  False   \n",
       "9            9             9               9     9693      787546   True   \n",
       "10          10            10              10     4107      811855  False   \n",
       "\n",
       "    view_duration  source                   timestamp  \n",
       "0        1.048242     web  2017-09-23 00:18:29.056895  \n",
       "1        1.688173     web  2017-09-21 02:20:22.022096  \n",
       "2        0.938350  mobile  2017-09-07 11:57:50.044683  \n",
       "3        0.194162  mobile  2017-09-17 03:48:20.019677  \n",
       "4        0.194162  mobile  2017-09-17 03:48:20.019677  \n",
       "5        0.493194     web  2017-09-07 00:25:07.019097  \n",
       "6        0.938350     web  2017-09-07 13:53:21.008403  \n",
       "7        0.675041  mobile  2017-09-25 21:54:00.028323  \n",
       "8        0.938350     web  2017-09-17 15:12:21.059489  \n",
       "9        0.101743     web  2017-09-26 12:34:46.012559  \n",
       "10       3.112086     web  2017-09-01 10:50:07.042593  "
      ],
      "text/html": "<div>\n<style scoped>\n    .dataframe tbody tr th:only-of-type {\n        vertical-align: middle;\n    }\n\n    .dataframe tbody tr th {\n        vertical-align: top;\n    }\n\n    .dataframe thead th {\n        text-align: right;\n    }\n</style>\n<table border=\"1\" class=\"dataframe\">\n  <thead>\n    <tr style=\"text-align: right;\">\n      <th></th>\n      <th>Unnamed: 0</th>\n      <th>Unnamed: 0.1</th>\n      <th>Unnamed: 0.1.1</th>\n      <th>user_id</th>\n      <th>product_id</th>\n      <th>liked</th>\n      <th>view_duration</th>\n      <th>source</th>\n      <th>timestamp</th>\n    </tr>\n  </thead>\n  <tbody>\n    <tr>\n      <th>0</th>\n      <td>0</td>\n      <td>0</td>\n      <td>0</td>\n      <td>3987</td>\n      <td>997021</td>\n      <td>True</td>\n      <td>1.048242</td>\n      <td>web</td>\n      <td>2017-09-23 00:18:29.056895</td>\n    </tr>\n    <tr>\n      <th>1</th>\n      <td>1</td>\n      <td>1</td>\n      <td>1</td>\n      <td>6300</td>\n      <td>865003</td>\n      <td>True</td>\n      <td>1.688173</td>\n      <td>web</td>\n      <td>2017-09-21 02:20:22.022096</td>\n    </tr>\n    <tr>\n      <th>2</th>\n      <td>2</td>\n      <td>2</td>\n      <td>2</td>\n      <td>6451</td>\n      <td>712951</td>\n      <td>False</td>\n      <td>0.938350</td>\n      <td>mobile</td>\n      <td>2017-09-07 11:57:50.044683</td>\n    </tr>\n    <tr>\n      <th>3</th>\n      <td>3</td>\n      <td>3</td>\n      <td>3</td>\n      <td>7782</td>\n      <td>283235</td>\n      <td>True</td>\n      <td>0.194162</td>\n      <td>mobile</td>\n      <td>2017-09-17 03:48:20.019677</td>\n    </tr>\n    <tr>\n      <th>4</th>\n      <td>4</td>\n      <td>4</td>\n      <td>4</td>\n      <td>7782</td>\n      <td>283235</td>\n      <td>True</td>\n      <td>0.194162</td>\n      <td>mobile</td>\n      <td>2017-09-17 03:48:20.019677</td>\n    </tr>\n    <tr>\n      <th>5</th>\n      <td>5</td>\n      <td>5</td>\n      <td>5</td>\n      <td>5700</td>\n      <td>587019</td>\n      <td>False</td>\n      <td>0.493194</td>\n      <td>web</td>\n      <td>2017-09-07 00:25:07.019097</td>\n    </tr>\n    <tr>\n      <th>6</th>\n      <td>6</td>\n      <td>6</td>\n      <td>6</td>\n      <td>3400</td>\n      <td>505123</td>\n      <td>True</td>\n      <td>0.938350</td>\n      <td>web</td>\n      <td>2017-09-07 13:53:21.008403</td>\n    </tr>\n    <tr>\n      <th>7</th>\n      <td>7</td>\n      <td>7</td>\n      <td>7</td>\n      <td>8403</td>\n      <td>459916</td>\n      <td>False</td>\n      <td>0.675041</td>\n      <td>mobile</td>\n      <td>2017-09-25 21:54:00.028323</td>\n    </tr>\n    <tr>\n      <th>8</th>\n      <td>8</td>\n      <td>8</td>\n      <td>8</td>\n      <td>8965</td>\n      <td>943363</td>\n      <td>False</td>\n      <td>0.938350</td>\n      <td>web</td>\n      <td>2017-09-17 15:12:21.059489</td>\n    </tr>\n    <tr>\n      <th>9</th>\n      <td>9</td>\n      <td>9</td>\n      <td>9</td>\n      <td>9693</td>\n      <td>787546</td>\n      <td>True</td>\n      <td>0.101743</td>\n      <td>web</td>\n      <td>2017-09-26 12:34:46.012559</td>\n    </tr>\n    <tr>\n      <th>10</th>\n      <td>10</td>\n      <td>10</td>\n      <td>10</td>\n      <td>4107</td>\n      <td>811855</td>\n      <td>False</td>\n      <td>3.112086</td>\n      <td>web</td>\n      <td>2017-09-01 10:50:07.042593</td>\n    </tr>\n  </tbody>\n</table>\n</div>"
     },
     "metadata": {},
     "execution_count": 40
    }
   ],
   "source": [
    "df=pd.read_csv('product_view_data_edit.csv')\n",
    "df"
   ]
  },
  {
   "cell_type": "code",
   "execution_count": 41,
   "metadata": {},
   "outputs": [
    {
     "output_type": "stream",
     "name": "stdout",
     "text": [
      "<class 'pandas.core.frame.DataFrame'>\nRangeIndex: 11 entries, 0 to 10\nData columns (total 9 columns):\n #   Column          Non-Null Count  Dtype  \n---  ------          --------------  -----  \n 0   Unnamed: 0      11 non-null     int64  \n 1   Unnamed: 0.1    11 non-null     int64  \n 2   Unnamed: 0.1.1  11 non-null     int64  \n 3   user_id         11 non-null     int64  \n 4   product_id      11 non-null     int64  \n 5   liked           11 non-null     bool   \n 6   view_duration   11 non-null     float64\n 7   source          11 non-null     object \n 8   timestamp       11 non-null     object \ndtypes: bool(1), float64(1), int64(5), object(2)\nmemory usage: 843.0+ bytes\n"
     ]
    }
   ],
   "source": [
    "df.info()"
   ]
  },
  {
   "cell_type": "code",
   "execution_count": null,
   "metadata": {},
   "outputs": [],
   "source": []
  }
 ],
 "metadata": {
  "kernelspec": {
   "display_name": "Python 3",
   "language": "python",
   "name": "python3"
  },
  "language_info": {
   "codemirror_mode": {
    "name": "ipython",
    "version": 3
   },
   "file_extension": ".py",
   "mimetype": "text/x-python",
   "name": "python",
   "nbconvert_exporter": "python",
   "pygments_lexer": "ipython3",
   "version": "3.8.8-final"
  }
 },
 "nbformat": 4,
 "nbformat_minor": 2
}