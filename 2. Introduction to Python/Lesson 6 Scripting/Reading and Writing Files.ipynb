{
 "metadata": {
  "language_info": {
   "codemirror_mode": {
    "name": "ipython",
    "version": 3
   },
   "file_extension": ".py",
   "mimetype": "text/x-python",
   "name": "python",
   "nbconvert_exporter": "python",
   "pygments_lexer": "ipython3",
   "version": "3.9.1"
  },
  "orig_nbformat": 2,
  "kernelspec": {
   "name": "python3",
   "display_name": "Python 3.9.1 64-bit (windows store)",
   "metadata": {
    "interpreter": {
     "hash": "3368d0aa3c774501ff051a9507f411259529d8784e4aa3b7b7c380b63b651d6c"
    }
   }
  }
 },
 "nbformat": 4,
 "nbformat_minor": 2,
 "cells": [
  {
   "cell_type": "code",
   "execution_count": 5,
   "metadata": {},
   "outputs": [
    {
     "output_type": "stream",
     "name": "stdout",
     "text": [
      "c:\\Users\\KING\\git\\udacity_data_analysis_pro\\Lesson 6 Scripting\n\n\n"
     ]
    }
   ],
   "source": [
    "import os\n",
    "file_location = os.getcwd()\n",
    "print(file_location)\n",
    "\n",
    "oppend_file = open(file_location+ \"\\\\\" +\"test.txt\", \"a+\" )\n",
    "\n",
    "file_data = oppend_file.read()\n",
    "\n",
    "print(file_data)\n",
    "\n",
    "for i in range (1,3):\n",
    "    oppend_file.write(\"\\n Writing frompython editor %d\\r\\n\"%i)\n",
    "    \n",
    "print(file_data)\n",
    "\n",
    "oppend_file.close()\n"
   ]
  },
  {
   "cell_type": "code",
   "execution_count": 11,
   "metadata": {},
   "outputs": [
    {
     "output_type": "stream",
     "name": "stdout",
     "text": [
      "c:\\Users\\KING\\git\\udacity_data_analysis_pro\\Lesson 6 Scripting\n"
     ]
    }
   ],
   "source": [
    "import os\n",
    "file_location = os.getcwd()\n",
    "print(file_location)\n",
    "\n",
    "oppend_file = open(file_location+ \"\\\\\" +\"my_file.txt\", \"w\" )\n",
    "oppend_file.write(\"Hello there!\")\n",
    "oppend_file.close()"
   ]
  },
  {
   "cell_type": "code",
   "execution_count": null,
   "metadata": {},
   "outputs": [],
   "source": []
  }
 ]
}