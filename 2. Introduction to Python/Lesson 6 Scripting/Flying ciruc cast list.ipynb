{
 "metadata": {
  "language_info": {
   "codemirror_mode": {
    "name": "ipython",
    "version": 3
   },
   "file_extension": ".py",
   "mimetype": "text/x-python",
   "name": "python",
   "nbconvert_exporter": "python",
   "pygments_lexer": "ipython3",
   "version": "3.9.1"
  },
  "orig_nbformat": 2,
  "kernelspec": {
   "name": "python3",
   "display_name": "Python 3.9.1 64-bit (windows store)",
   "metadata": {
    "interpreter": {
     "hash": "3368d0aa3c774501ff051a9507f411259529d8784e4aa3b7b7c380b63b651d6c"
    }
   }
  }
 },
 "nbformat": 4,
 "nbformat_minor": 2,
 "cells": [
  {
   "cell_type": "code",
   "execution_count": null,
   "metadata": {},
   "outputs": [],
   "source": [
    "def create_cast_list(filename):\n",
    "    cast_list = []\n",
    "    with open(filename) as f:\n",
    "        for line in f:\n",
    "            name = line.split(\",\")[0]\n",
    "            cast_list.append(name)\n",
    "\n",
    "    return cast_list\n",
    "\n",
    "cast_list = create_cast_list('flying_circus_cast.txt')\n",
    "for actor in cast_list:\n",
    "    print(actor)"
   ]
  },
  {
   "cell_type": "code",
   "execution_count": null,
   "metadata": {},
   "outputs": [],
   "source": [
    "import os\n",
    "\n",
    "file_location = os.getcwd()\n",
    "filename = \"flowers.txt\"\n",
    "# HINT: create a dictionary from flowers.txt\n",
    "flowers_dictionary={}\n",
    "\n",
    "\n",
    "with open(file_location + \"\\\\\" + filename, \"r\") as oppend_file:\n",
    "    file_data = oppend_file.read()\n",
    "    for line in file_data.splitlines():\n",
    "        temp_list = []\n",
    "        temp_list = line.split(\":\")\n",
    "        print(temp_list)\n",
    "        flowers_dictionary[temp_list[0]]=[temp_list[1]]\n",
    "\n",
    "print(flowers_dictionary)\n"
   ]
  },
  {
   "cell_type": "code",
   "execution_count": 2,
   "metadata": {},
   "outputs": [
    {
     "output_type": "error",
     "ename": "KeyError",
     "evalue": "'['",
     "traceback": [
      "\u001b[1;31m---------------------------------------------------------------------------\u001b[0m",
      "\u001b[1;31mKeyError\u001b[0m                                  Traceback (most recent call last)",
      "\u001b[1;32m<ipython-input-2-ca80ced38a32>\u001b[0m in \u001b[0;36m<module>\u001b[1;34m\u001b[0m\n\u001b[0;32m     27\u001b[0m \u001b[0mfirst_name\u001b[0m \u001b[1;33m=\u001b[0m \u001b[0minput\u001b[0m \u001b[1;33m(\u001b[0m\u001b[1;34m\"Enter your First [space] Last name only: \"\u001b[0m\u001b[1;33m)\u001b[0m\u001b[1;33m\u001b[0m\u001b[1;33m\u001b[0m\u001b[0m\n\u001b[0;32m     28\u001b[0m \u001b[1;31m# print the desired output\u001b[0m\u001b[1;33m\u001b[0m\u001b[1;33m\u001b[0m\u001b[1;33m\u001b[0m\u001b[0m\n\u001b[1;32m---> 29\u001b[1;33m \u001b[0mseparate\u001b[0m\u001b[1;33m(\u001b[0m\u001b[0mfirst_name\u001b[0m\u001b[1;33m.\u001b[0m\u001b[0msplit\u001b[0m\u001b[1;33m(\u001b[0m\u001b[1;34m\",\"\u001b[0m\u001b[1;33m[\u001b[0m\u001b[1;36m0\u001b[0m\u001b[1;33m]\u001b[0m\u001b[1;33m)\u001b[0m\u001b[1;33m)\u001b[0m\u001b[1;33m\u001b[0m\u001b[1;33m\u001b[0m\u001b[0m\n\u001b[0m\u001b[0;32m     30\u001b[0m \u001b[1;33m\u001b[0m\u001b[0m\n",
      "\u001b[1;32m<ipython-input-2-ca80ced38a32>\u001b[0m in \u001b[0;36mseparate\u001b[1;34m(first)\u001b[0m\n\u001b[0;32m     23\u001b[0m         \u001b[0mname\u001b[0m\u001b[1;33m=\u001b[0m \u001b[0mname\u001b[0m\u001b[1;33m.\u001b[0m\u001b[0mupper\u001b[0m\u001b[1;33m(\u001b[0m\u001b[1;33m)\u001b[0m\u001b[1;33m\u001b[0m\u001b[1;33m\u001b[0m\u001b[0m\n\u001b[0;32m     24\u001b[0m \u001b[1;33m\u001b[0m\u001b[0m\n\u001b[1;32m---> 25\u001b[1;33m     \u001b[0mprint\u001b[0m\u001b[1;33m(\u001b[0m\u001b[1;34m\"Unique flower name with the first letter: {}\"\u001b[0m\u001b[1;33m.\u001b[0m\u001b[0mformat\u001b[0m\u001b[1;33m(\u001b[0m\u001b[0mflowers_dictionary\u001b[0m\u001b[1;33m[\u001b[0m\u001b[0mname\u001b[0m\u001b[1;33m[\u001b[0m\u001b[1;36m0\u001b[0m\u001b[1;33m]\u001b[0m\u001b[1;33m]\u001b[0m\u001b[1;33m)\u001b[0m\u001b[1;33m)\u001b[0m\u001b[1;33m\u001b[0m\u001b[1;33m\u001b[0m\u001b[0m\n\u001b[0m\u001b[0;32m     26\u001b[0m \u001b[1;33m\u001b[0m\u001b[0m\n\u001b[0;32m     27\u001b[0m \u001b[0mfirst_name\u001b[0m \u001b[1;33m=\u001b[0m \u001b[0minput\u001b[0m \u001b[1;33m(\u001b[0m\u001b[1;34m\"Enter your First [space] Last name only: \"\u001b[0m\u001b[1;33m)\u001b[0m\u001b[1;33m\u001b[0m\u001b[1;33m\u001b[0m\u001b[0m\n",
      "\u001b[1;31mKeyError\u001b[0m: '['"
     ]
    }
   ],
   "source": [
    "import os\n",
    "\n",
    "file_location = os.getcwd()\n",
    "filename = \"flowers.txt\"\n",
    "# HINT: create a dictionary from flowers.txt\n",
    "flowers_dictionary={}\n",
    "\n",
    "\n",
    "def create_dictionary ():\n",
    "    with open(file_location + \"\\\\\" + filename, \"r\") as oppend_file:\n",
    "        file_data = oppend_file.read()\n",
    "        for line in file_data.splitlines():\n",
    "            temp_list = []\n",
    "            temp_list = line.split(\":\")\n",
    "            #print(temp_list)\n",
    "            flowers_dictionary[temp_list[0]] = [temp_list[1]]\n",
    "\n",
    "\n",
    "def separate(first):\n",
    "    create_dictionary()\n",
    "    name=str(first)\n",
    "    if name.islower() :\n",
    "        name= name.upper()\n",
    "\n",
    "    print(\"Unique flower name with the first letter: {}\".format(flowers_dictionary[name[0]]))\n",
    "\n",
    "first_name = input (\"Enter your First [space] Last name only: \")\n",
    "# print the desired output\n",
    "separate(first_name.split(\",\")[0])\n",
    "\n"
   ]
  },
  {
   "cell_type": "code",
   "execution_count": null,
   "metadata": {},
   "outputs": [],
   "source": []
  }
 ]
}