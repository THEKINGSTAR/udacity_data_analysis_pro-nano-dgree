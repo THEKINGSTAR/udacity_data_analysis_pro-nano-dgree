{
 "cells": [
  {
   "cell_type": "code",
   "execution_count": 4,
   "metadata": {},
   "outputs": [],
   "source": [
    "import pandas as pd\n",
    "import numpy as np\n",
    "\n",
    "# DO NOT CHANGE THE VARIABLE NAMES\n",
    "\n",
    "# Set the precision of our dataframes to one decimal place.\n",
    "pd.set_option('precision', 1)\n",
    "\n",
    "# Create a Pandas DataFrame that contains the ratings some users have given to a series of books. \n",
    "# The ratings given are in the range from 1 to 5, with 5 being the best score. \n",
    "# The names of the books, the corresponding authors, and the ratings of each user are given below:\n",
    "\n",
    "books = pd.Series(data = ['Great Expectations', 'Of Mice and Men', 'Romeo and Juliet', 'The Time Machine', 'Alice in Wonderland' ])\n",
    "authors = pd.Series(data = ['Charles Dickens', 'John Steinbeck', 'William Shakespeare', ' H. G. Wells', 'Lewis Carroll' ])\n",
    "\n",
    "# User ratings are in the order of the book titles mentioned above\n",
    "# If a user has not rated all books, Pandas will automatically consider the missing values as NaN.\n",
    "# If a user has mentioned `np.nan` value, then also it means that the user has not yet rated that book.\n",
    "user_1 = pd.Series(data = [3.2, np.nan ,2.5])\n",
    "user_2 = pd.Series(data = [5., 1.3, 4.0, 3.8])\n",
    "user_3 = pd.Series(data = [2.0, 2.3, np.nan, 4])\n",
    "user_4 = pd.Series(data = [4, 3.5, 4, 5, 4.2])\n",
    "\n",
    "\n",
    "# Use the data above to create a Pandas DataFrame that has the following column\n",
    "# labels: 'Author', 'Book Title', 'User 1', 'User 2', 'User 3', 'User 4'. \n",
    "# Let Pandas automatically assign numerical row indices to the DataFrame. \n",
    "\n",
    "\n",
    "\n",
    "\n",
    "\n"
   ]
  },
  {
   "cell_type": "code",
   "execution_count": 1,
   "metadata": {},
   "outputs": [
    {
     "ename": "NameError",
     "evalue": "name 'pd' is not defined",
     "output_type": "error",
     "traceback": [
      "\u001b[1;31m---------------------------------------------------------------------------\u001b[0m",
      "\u001b[1;31mNameError\u001b[0m                                 Traceback (most recent call last)",
      "\u001b[1;32m<ipython-input-1-c4a732e70fa7>\u001b[0m in \u001b[0;36m<module>\u001b[1;34m\u001b[0m\n\u001b[0;32m      1\u001b[0m \u001b[1;31m# TO DO: Create a dictionary with the data given above\u001b[0m\u001b[1;33m\u001b[0m\u001b[1;33m\u001b[0m\u001b[1;33m\u001b[0m\u001b[0m\n\u001b[1;32m----> 2\u001b[1;33m \u001b[0mdat\u001b[0m \u001b[1;33m=\u001b[0m \u001b[0mpd\u001b[0m\u001b[1;33m.\u001b[0m\u001b[0mDataFrame\u001b[0m\u001b[1;33m(\u001b[0m\u001b[0mauthors\u001b[0m\u001b[1;33m,\u001b[0m\u001b[0mbooks\u001b[0m\u001b[1;33m,\u001b[0m\u001b[0muser_1\u001b[0m\u001b[1;33m,\u001b[0m\u001b[0muser_2\u001b[0m\u001b[1;33m,\u001b[0m\u001b[0muser_3\u001b[0m\u001b[1;33m,\u001b[0m\u001b[0muser_4\u001b[0m\u001b[1;33m)\u001b[0m\u001b[1;33m\u001b[0m\u001b[1;33m\u001b[0m\u001b[0m\n\u001b[0m\u001b[0;32m      3\u001b[0m \u001b[0mdat\u001b[0m\u001b[1;33m\u001b[0m\u001b[1;33m\u001b[0m\u001b[0m\n",
      "\u001b[1;31mNameError\u001b[0m: name 'pd' is not defined"
     ]
    }
   ],
   "source": [
    "# TO DO: Create a dictionary with the data given above\n",
    "dat = pd.DataFrame(authors,books,user_1,user_2,user_3,user_4)\n",
    "dat\n"
   ]
  },
  {
   "cell_type": "code",
   "execution_count": null,
   "metadata": {},
   "outputs": [],
   "source": [
    "# TO DO: Create a Pandas DataFrame using the dictionary created above\n",
    "book_ratings = \n"
   ]
  },
  {
   "cell_type": "code",
   "execution_count": null,
   "metadata": {},
   "outputs": [],
   "source": [
    "\n",
    "# TO DO:\n",
    "# If you created the dictionary correctly you should have a Pandas DataFrame\n",
    "# that has column labels: \n",
    "# 'Author', 'Book Title', 'User 1', 'User 2', 'User 3', 'User 4' \n",
    "# and row indices 0 through 4.\n",
    "\n",
    "# Now replace all the NaN values in your DataFrame with the average rating in\n",
    "# each column. Replace the NaN values in place. \n",
    "# HINT: Use the `pandas.DataFrame.fillna(value, inplace = True)` function for substituting the NaN values. \n",
    "# Write your code below:\n"
   ]
  }
 ],
 "metadata": {
  "kernelspec": {
   "display_name": "Python 3",
   "language": "python",
   "name": "python3"
  },
  "language_info": {
   "codemirror_mode": {
    "name": "ipython",
    "version": 3
   },
   "file_extension": ".py",
   "mimetype": "text/x-python",
   "name": "python",
   "nbconvert_exporter": "python",
   "pygments_lexer": "ipython3",
   "version": "3.9.1"
  }
 },
 "nbformat": 4,
 "nbformat_minor": 2
}
