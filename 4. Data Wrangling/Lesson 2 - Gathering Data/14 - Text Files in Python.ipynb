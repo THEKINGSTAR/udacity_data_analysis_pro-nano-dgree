{
 "cells": [
  {
   "cell_type": "markdown",
   "metadata": {},
   "source": [
    "## Quiz"
   ]
  },
  {
   "cell_type": "code",
   "execution_count": 1,
   "metadata": {},
   "outputs": [],
   "source": [
    "import glob\n",
    "import pandas as pd"
   ]
  },
  {
   "cell_type": "code",
   "execution_count": 9,
   "metadata": {},
   "outputs": [],
   "source": [
    "# List of dictionaries to build file by file and later convert to a DataFrame\n",
    "df_list = []\n",
    "for ebert_review in glob.glob('ebert_reviews/*.txt'):\n",
    "    with open(ebert_review, encoding='utf-8') as file:\n",
    "        title = file.readline()[:-1]\n",
    "        # Your code here\n",
    "        review_url = file.readline()[:-1]\n",
    "        review_text = file.read()\n",
    "        \n",
    "        \"\"\"   \n",
    "        print(review_url)\n",
    "        print(review_text)\n",
    "        break\n",
    "         \"\"\"\n",
    "        # Append to list of dictionaries\n",
    "        df_list.append({'title': title,\n",
    "                        'review_url': review_url,\n",
    "                        'review_text': review_text})\n",
    "df = pd.DataFrame(df_list, columns = ['title', 'review_url', 'review_text'])"
   ]
  },
  {
   "cell_type": "code",
   "execution_count": 10,
   "metadata": {},
   "outputs": [
    {
     "output_type": "execute_result",
     "data": {
      "text/plain": [
       "                                title  \\\n",
       "0             The Wizard of Oz (1939)   \n",
       "1                   Metropolis (1927)   \n",
       "2          Battleship Potemkin (1925)   \n",
       "3   E.T. The Extra-Terrestrial (1982)   \n",
       "4                 Modern Times (1936)   \n",
       "..                                ...   \n",
       "83         The Grapes of Wrath (1940)   \n",
       "84                 Man on Wire (2008)   \n",
       "85                        Jaws (1975)   \n",
       "86                   Toy Story (1995)   \n",
       "87      The Godfather, Part II (1974)   \n",
       "\n",
       "                                           review_url  \\\n",
       "0   http://www.rogerebert.com/reviews/great-movie-...   \n",
       "1   http://www.rogerebert.com/reviews/great-movie-...   \n",
       "2   http://www.rogerebert.com/reviews/great-movie-...   \n",
       "3   http://www.rogerebert.com/reviews/great-movie-...   \n",
       "4   http://www.rogerebert.com/reviews/modern-times...   \n",
       "..                                                ...   \n",
       "83  http://www.rogerebert.com/reviews/great-movie-...   \n",
       "84  http://www.rogerebert.com/reviews/man-on-wire-...   \n",
       "85  http://www.rogerebert.com/reviews/great-movie-...   \n",
       "86   http://www.rogerebert.com/reviews/toy-story-1995   \n",
       "87  http://www.rogerebert.com/reviews/great-movie-...   \n",
       "\n",
       "                                          review_text  \n",
       "0   As a child I simply did not notice whether a m...  \n",
       "1   The opening shots of the restored “Metropolis”...  \n",
       "2   \"The Battleship Potemkin” has been so famous f...  \n",
       "3   Dear Raven and Emil:\\n\\nSunday we sat on the b...  \n",
       "4   A lot of movies are said to be timeless, but s...  \n",
       "..                                                ...  \n",
       "83  John Ford's \"The Grapes of Wrath\" is a left-wi...  \n",
       "84  I am afraid of heights. Now you know. That is ...  \n",
       "85  \"You're going to need a bigger boat.\"\\n\\nSo th...  \n",
       "86  \"Toy Story\" creates a universe out of a couple...  \n",
       "87  The musical score plays an even greater role i...  \n",
       "\n",
       "[88 rows x 3 columns]"
      ],
      "text/html": "<div>\n<style scoped>\n    .dataframe tbody tr th:only-of-type {\n        vertical-align: middle;\n    }\n\n    .dataframe tbody tr th {\n        vertical-align: top;\n    }\n\n    .dataframe thead th {\n        text-align: right;\n    }\n</style>\n<table border=\"1\" class=\"dataframe\">\n  <thead>\n    <tr style=\"text-align: right;\">\n      <th></th>\n      <th>title</th>\n      <th>review_url</th>\n      <th>review_text</th>\n    </tr>\n  </thead>\n  <tbody>\n    <tr>\n      <th>0</th>\n      <td>The Wizard of Oz (1939)</td>\n      <td>http://www.rogerebert.com/reviews/great-movie-...</td>\n      <td>As a child I simply did not notice whether a m...</td>\n    </tr>\n    <tr>\n      <th>1</th>\n      <td>Metropolis (1927)</td>\n      <td>http://www.rogerebert.com/reviews/great-movie-...</td>\n      <td>The opening shots of the restored “Metropolis”...</td>\n    </tr>\n    <tr>\n      <th>2</th>\n      <td>Battleship Potemkin (1925)</td>\n      <td>http://www.rogerebert.com/reviews/great-movie-...</td>\n      <td>\"The Battleship Potemkin” has been so famous f...</td>\n    </tr>\n    <tr>\n      <th>3</th>\n      <td>E.T. The Extra-Terrestrial (1982)</td>\n      <td>http://www.rogerebert.com/reviews/great-movie-...</td>\n      <td>Dear Raven and Emil:\\n\\nSunday we sat on the b...</td>\n    </tr>\n    <tr>\n      <th>4</th>\n      <td>Modern Times (1936)</td>\n      <td>http://www.rogerebert.com/reviews/modern-times...</td>\n      <td>A lot of movies are said to be timeless, but s...</td>\n    </tr>\n    <tr>\n      <th>...</th>\n      <td>...</td>\n      <td>...</td>\n      <td>...</td>\n    </tr>\n    <tr>\n      <th>83</th>\n      <td>The Grapes of Wrath (1940)</td>\n      <td>http://www.rogerebert.com/reviews/great-movie-...</td>\n      <td>John Ford's \"The Grapes of Wrath\" is a left-wi...</td>\n    </tr>\n    <tr>\n      <th>84</th>\n      <td>Man on Wire (2008)</td>\n      <td>http://www.rogerebert.com/reviews/man-on-wire-...</td>\n      <td>I am afraid of heights. Now you know. That is ...</td>\n    </tr>\n    <tr>\n      <th>85</th>\n      <td>Jaws (1975)</td>\n      <td>http://www.rogerebert.com/reviews/great-movie-...</td>\n      <td>\"You're going to need a bigger boat.\"\\n\\nSo th...</td>\n    </tr>\n    <tr>\n      <th>86</th>\n      <td>Toy Story (1995)</td>\n      <td>http://www.rogerebert.com/reviews/toy-story-1995</td>\n      <td>\"Toy Story\" creates a universe out of a couple...</td>\n    </tr>\n    <tr>\n      <th>87</th>\n      <td>The Godfather, Part II (1974)</td>\n      <td>http://www.rogerebert.com/reviews/great-movie-...</td>\n      <td>The musical score plays an even greater role i...</td>\n    </tr>\n  </tbody>\n</table>\n<p>88 rows × 3 columns</p>\n</div>"
     },
     "metadata": {},
     "execution_count": 10
    }
   ],
   "source": [
    "df"
   ]
  },
  {
   "cell_type": "code",
   "execution_count": 11,
   "metadata": {},
   "outputs": [],
   "source": [
    "df.to_csv(\"ebert_reviews.csv\",index=False)\n"
   ]
  },
  {
   "cell_type": "code",
   "execution_count": 12,
   "metadata": {},
   "outputs": [
    {
     "output_type": "execute_result",
     "data": {
      "text/plain": [
       "                                title  \\\n",
       "0             The Wizard of Oz (1939)   \n",
       "1                   Metropolis (1927)   \n",
       "2          Battleship Potemkin (1925)   \n",
       "3   E.T. The Extra-Terrestrial (1982)   \n",
       "4                 Modern Times (1936)   \n",
       "..                                ...   \n",
       "83         The Grapes of Wrath (1940)   \n",
       "84                 Man on Wire (2008)   \n",
       "85                        Jaws (1975)   \n",
       "86                   Toy Story (1995)   \n",
       "87      The Godfather, Part II (1974)   \n",
       "\n",
       "                                           review_url  \\\n",
       "0   http://www.rogerebert.com/reviews/great-movie-...   \n",
       "1   http://www.rogerebert.com/reviews/great-movie-...   \n",
       "2   http://www.rogerebert.com/reviews/great-movie-...   \n",
       "3   http://www.rogerebert.com/reviews/great-movie-...   \n",
       "4   http://www.rogerebert.com/reviews/modern-times...   \n",
       "..                                                ...   \n",
       "83  http://www.rogerebert.com/reviews/great-movie-...   \n",
       "84  http://www.rogerebert.com/reviews/man-on-wire-...   \n",
       "85  http://www.rogerebert.com/reviews/great-movie-...   \n",
       "86   http://www.rogerebert.com/reviews/toy-story-1995   \n",
       "87  http://www.rogerebert.com/reviews/great-movie-...   \n",
       "\n",
       "                                          review_text  \n",
       "0   As a child I simply did not notice whether a m...  \n",
       "1   The opening shots of the restored “Metropolis”...  \n",
       "2   \"The Battleship Potemkin” has been so famous f...  \n",
       "3   Dear Raven and Emil:\\n\\nSunday we sat on the b...  \n",
       "4   A lot of movies are said to be timeless, but s...  \n",
       "..                                                ...  \n",
       "83  John Ford's \"The Grapes of Wrath\" is a left-wi...  \n",
       "84  I am afraid of heights. Now you know. That is ...  \n",
       "85  \"You're going to need a bigger boat.\"\\n\\nSo th...  \n",
       "86  \"Toy Story\" creates a universe out of a couple...  \n",
       "87  The musical score plays an even greater role i...  \n",
       "\n",
       "[88 rows x 3 columns]"
      ],
      "text/html": "<div>\n<style scoped>\n    .dataframe tbody tr th:only-of-type {\n        vertical-align: middle;\n    }\n\n    .dataframe tbody tr th {\n        vertical-align: top;\n    }\n\n    .dataframe thead th {\n        text-align: right;\n    }\n</style>\n<table border=\"1\" class=\"dataframe\">\n  <thead>\n    <tr style=\"text-align: right;\">\n      <th></th>\n      <th>title</th>\n      <th>review_url</th>\n      <th>review_text</th>\n    </tr>\n  </thead>\n  <tbody>\n    <tr>\n      <th>0</th>\n      <td>The Wizard of Oz (1939)</td>\n      <td>http://www.rogerebert.com/reviews/great-movie-...</td>\n      <td>As a child I simply did not notice whether a m...</td>\n    </tr>\n    <tr>\n      <th>1</th>\n      <td>Metropolis (1927)</td>\n      <td>http://www.rogerebert.com/reviews/great-movie-...</td>\n      <td>The opening shots of the restored “Metropolis”...</td>\n    </tr>\n    <tr>\n      <th>2</th>\n      <td>Battleship Potemkin (1925)</td>\n      <td>http://www.rogerebert.com/reviews/great-movie-...</td>\n      <td>\"The Battleship Potemkin” has been so famous f...</td>\n    </tr>\n    <tr>\n      <th>3</th>\n      <td>E.T. The Extra-Terrestrial (1982)</td>\n      <td>http://www.rogerebert.com/reviews/great-movie-...</td>\n      <td>Dear Raven and Emil:\\n\\nSunday we sat on the b...</td>\n    </tr>\n    <tr>\n      <th>4</th>\n      <td>Modern Times (1936)</td>\n      <td>http://www.rogerebert.com/reviews/modern-times...</td>\n      <td>A lot of movies are said to be timeless, but s...</td>\n    </tr>\n    <tr>\n      <th>...</th>\n      <td>...</td>\n      <td>...</td>\n      <td>...</td>\n    </tr>\n    <tr>\n      <th>83</th>\n      <td>The Grapes of Wrath (1940)</td>\n      <td>http://www.rogerebert.com/reviews/great-movie-...</td>\n      <td>John Ford's \"The Grapes of Wrath\" is a left-wi...</td>\n    </tr>\n    <tr>\n      <th>84</th>\n      <td>Man on Wire (2008)</td>\n      <td>http://www.rogerebert.com/reviews/man-on-wire-...</td>\n      <td>I am afraid of heights. Now you know. That is ...</td>\n    </tr>\n    <tr>\n      <th>85</th>\n      <td>Jaws (1975)</td>\n      <td>http://www.rogerebert.com/reviews/great-movie-...</td>\n      <td>\"You're going to need a bigger boat.\"\\n\\nSo th...</td>\n    </tr>\n    <tr>\n      <th>86</th>\n      <td>Toy Story (1995)</td>\n      <td>http://www.rogerebert.com/reviews/toy-story-1995</td>\n      <td>\"Toy Story\" creates a universe out of a couple...</td>\n    </tr>\n    <tr>\n      <th>87</th>\n      <td>The Godfather, Part II (1974)</td>\n      <td>http://www.rogerebert.com/reviews/great-movie-...</td>\n      <td>The musical score plays an even greater role i...</td>\n    </tr>\n  </tbody>\n</table>\n<p>88 rows × 3 columns</p>\n</div>"
     },
     "metadata": {},
     "execution_count": 12
    }
   ],
   "source": [
    "df_read = pd.read_csv(\"ebert_reviews.csv\")\n",
    "df_read"
   ]
  },
  {
   "cell_type": "markdown",
   "metadata": {},
   "source": [
    "## Solution Test\n",
    "Run the cell below the see if your solution is correct. If an `AssertionError` is thrown, your solution is incorrect. If no error is thrown, your solution is correct."
   ]
  },
  {
   "cell_type": "code",
   "execution_count": 15,
   "metadata": {},
   "outputs": [],
   "source": [
    "df_solution = pd.read_pickle('df_solution.pkl')\n",
    "df.sort_values('title', inplace = True)\n",
    "df.reset_index(inplace = True, drop = True)\n",
    "df_solution.sort_values('title', inplace = True)\n",
    "df_solution.reset_index(inplace = True, drop = True)\n",
    "pd.testing.assert_frame_equal(df, df_solution)"
   ]
  },
  {
   "cell_type": "code",
   "execution_count": 16,
   "metadata": {},
   "outputs": [
    {
     "output_type": "execute_result",
     "data": {
      "text/plain": [
       "                                title  \\\n",
       "0             The Wizard of Oz (1939)   \n",
       "1                   Metropolis (1927)   \n",
       "2          Battleship Potemkin (1925)   \n",
       "3   E.T. The Extra-Terrestrial (1982)   \n",
       "4                 Modern Times (1936)   \n",
       "..                                ...   \n",
       "83         The Grapes of Wrath (1940)   \n",
       "84                 Man on Wire (2008)   \n",
       "85                        Jaws (1975)   \n",
       "86                   Toy Story (1995)   \n",
       "87      The Godfather, Part II (1974)   \n",
       "\n",
       "                                           review_url  \\\n",
       "0   http://www.rogerebert.com/reviews/great-movie-...   \n",
       "1   http://www.rogerebert.com/reviews/great-movie-...   \n",
       "2   http://www.rogerebert.com/reviews/great-movie-...   \n",
       "3   http://www.rogerebert.com/reviews/great-movie-...   \n",
       "4   http://www.rogerebert.com/reviews/modern-times...   \n",
       "..                                                ...   \n",
       "83  http://www.rogerebert.com/reviews/great-movie-...   \n",
       "84  http://www.rogerebert.com/reviews/man-on-wire-...   \n",
       "85  http://www.rogerebert.com/reviews/great-movie-...   \n",
       "86   http://www.rogerebert.com/reviews/toy-story-1995   \n",
       "87  http://www.rogerebert.com/reviews/great-movie-...   \n",
       "\n",
       "                                          review_text  \n",
       "0   As a child I simply did not notice whether a m...  \n",
       "1   The opening shots of the restored “Metropolis”...  \n",
       "2   \"The Battleship Potemkin” has been so famous f...  \n",
       "3   Dear Raven and Emil:\\n\\nSunday we sat on the b...  \n",
       "4   A lot of movies are said to be timeless, but s...  \n",
       "..                                                ...  \n",
       "83  John Ford's \"The Grapes of Wrath\" is a left-wi...  \n",
       "84  I am afraid of heights. Now you know. That is ...  \n",
       "85  \"You're going to need a bigger boat.\"\\n\\nSo th...  \n",
       "86  \"Toy Story\" creates a universe out of a couple...  \n",
       "87  The musical score plays an even greater role i...  \n",
       "\n",
       "[88 rows x 3 columns]"
      ],
      "text/html": "<div>\n<style scoped>\n    .dataframe tbody tr th:only-of-type {\n        vertical-align: middle;\n    }\n\n    .dataframe tbody tr th {\n        vertical-align: top;\n    }\n\n    .dataframe thead th {\n        text-align: right;\n    }\n</style>\n<table border=\"1\" class=\"dataframe\">\n  <thead>\n    <tr style=\"text-align: right;\">\n      <th></th>\n      <th>title</th>\n      <th>review_url</th>\n      <th>review_text</th>\n    </tr>\n  </thead>\n  <tbody>\n    <tr>\n      <th>0</th>\n      <td>The Wizard of Oz (1939)</td>\n      <td>http://www.rogerebert.com/reviews/great-movie-...</td>\n      <td>As a child I simply did not notice whether a m...</td>\n    </tr>\n    <tr>\n      <th>1</th>\n      <td>Metropolis (1927)</td>\n      <td>http://www.rogerebert.com/reviews/great-movie-...</td>\n      <td>The opening shots of the restored “Metropolis”...</td>\n    </tr>\n    <tr>\n      <th>2</th>\n      <td>Battleship Potemkin (1925)</td>\n      <td>http://www.rogerebert.com/reviews/great-movie-...</td>\n      <td>\"The Battleship Potemkin” has been so famous f...</td>\n    </tr>\n    <tr>\n      <th>3</th>\n      <td>E.T. The Extra-Terrestrial (1982)</td>\n      <td>http://www.rogerebert.com/reviews/great-movie-...</td>\n      <td>Dear Raven and Emil:\\n\\nSunday we sat on the b...</td>\n    </tr>\n    <tr>\n      <th>4</th>\n      <td>Modern Times (1936)</td>\n      <td>http://www.rogerebert.com/reviews/modern-times...</td>\n      <td>A lot of movies are said to be timeless, but s...</td>\n    </tr>\n    <tr>\n      <th>...</th>\n      <td>...</td>\n      <td>...</td>\n      <td>...</td>\n    </tr>\n    <tr>\n      <th>83</th>\n      <td>The Grapes of Wrath (1940)</td>\n      <td>http://www.rogerebert.com/reviews/great-movie-...</td>\n      <td>John Ford's \"The Grapes of Wrath\" is a left-wi...</td>\n    </tr>\n    <tr>\n      <th>84</th>\n      <td>Man on Wire (2008)</td>\n      <td>http://www.rogerebert.com/reviews/man-on-wire-...</td>\n      <td>I am afraid of heights. Now you know. That is ...</td>\n    </tr>\n    <tr>\n      <th>85</th>\n      <td>Jaws (1975)</td>\n      <td>http://www.rogerebert.com/reviews/great-movie-...</td>\n      <td>\"You're going to need a bigger boat.\"\\n\\nSo th...</td>\n    </tr>\n    <tr>\n      <th>86</th>\n      <td>Toy Story (1995)</td>\n      <td>http://www.rogerebert.com/reviews/toy-story-1995</td>\n      <td>\"Toy Story\" creates a universe out of a couple...</td>\n    </tr>\n    <tr>\n      <th>87</th>\n      <td>The Godfather, Part II (1974)</td>\n      <td>http://www.rogerebert.com/reviews/great-movie-...</td>\n      <td>The musical score plays an even greater role i...</td>\n    </tr>\n  </tbody>\n</table>\n<p>88 rows × 3 columns</p>\n</div>"
     },
     "metadata": {},
     "execution_count": 16
    }
   ],
   "source": [
    "read_df= pd.read_csv(\"ebert_reviews.csv\")\n",
    "read_df"
   ]
  },
  {
   "cell_type": "code",
   "execution_count": null,
   "metadata": {},
   "outputs": [],
   "source": []
  }
 ],
 "metadata": {
  "kernelspec": {
   "display_name": "Python 3",
   "language": "python",
   "name": "python3"
  },
  "language_info": {
   "codemirror_mode": {
    "name": "ipython",
    "version": 3
   },
   "file_extension": ".py",
   "mimetype": "text/x-python",
   "name": "python",
   "nbconvert_exporter": "python",
   "pygments_lexer": "ipython3",
   "version": "3.8.5-final"
  }
 },
 "nbformat": 4,
 "nbformat_minor": 2
}