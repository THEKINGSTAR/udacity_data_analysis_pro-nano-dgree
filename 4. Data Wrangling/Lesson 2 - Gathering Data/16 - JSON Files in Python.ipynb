{
 "cells": [
  {
   "cell_type": "code",
   "execution_count": 2,
   "metadata": {},
   "outputs": [],
   "source": [
    "import wptools"
   ]
  },
  {
   "cell_type": "code",
   "execution_count": 3,
   "metadata": {},
   "outputs": [
    {
     "output_type": "stream",
     "name": "stderr",
     "text": [
      "en.wikipedia.org (query) E.T._the_Extra-Terrestrial\n",
      "en.wikipedia.org (query) E.T. the Extra-Terrestrial (&plcontinue=...\n",
      "en.wikipedia.org (parse) 73441\n",
      "www.wikidata.org (wikidata) Q11621\n",
      "www.wikidata.org (labels) P8033|P6584|Q676094|Q586356|P1431|Q1041...\n",
      "www.wikidata.org (labels) P227|P244|P86|P2704|P5693|P161|Q8395520...\n",
      "www.wikidata.org (labels) P6145|P3135|Q76757691|P4839|P3302|Q6062...\n",
      "www.wikidata.org (labels) P135|Q230390|Q103360|Q952914|P7299|Q816...\n",
      "www.wikidata.org (labels) Q4165246|P1712|Q1270715|Q41417|Q2064479...\n",
      "en.wikipedia.org (restbase) /page/summary/E.T._the_Extra-Terrestrial\n",
      "en.wikipedia.org (imageinfo) File:ET logo 3.svg|File:E t the extr...\n",
      "E.T. the Extra-Terrestrial (en) data\n",
      "{\n",
      "  WARNINGS: <dict(1)> extracts\n",
      "  aliases: <list(2)> E.T., ET\n",
      "  assessments: <dict(4)> United States, Film, Science Fiction, Lib...\n",
      "  claims: <dict(120)> P1562, P57, P272, P345, P31, P161, P373, P48...\n",
      "  description: 1982 film by Steven Spielberg\n",
      "  exhtml: <str(370)> <p><i><b>E.T. the Extra-Terrestrial</b></i> i...\n",
      "  exrest: <str(349)> E.T. the Extra-Terrestrial is a 1982 American...\n",
      "  extext: <str(1629)> _**E.T. the Extra-Terrestrial**_ is a 1982 A...\n",
      "  extract: <str(1729)> <p class=\"mw-empty-elt\"></p><p><i><b>E.T. t...\n",
      "  image: <list(4)> {'kind': 'parse-image', 'file': 'File:E t the e...\n",
      "  infobox: <dict(18)> name, image, caption, director, producers, w...\n",
      "  iwlinks: <list(6)> https://commons.wikimedia.org/wiki/Category:E...\n",
      "  label: E.T. the Extra-Terrestrial\n",
      "  labels: <dict(237)> P8033, P6584, Q676094, Q586356, P1431, Q1041...\n",
      "  length: 94,361\n",
      "  links: <list(560)> 12 Angry Men (1957 film), 12 Monkeys, 12 Year...\n",
      "  modified: <dict(2)> page, wikidata\n",
      "  pageid: 73441\n",
      "  parsetree: <str(115781)> <root><template><title>Redirect</title>...\n",
      "  random: Please Don't Talk About Me When I'm Gone\n",
      "  redirects: <list(37)> {'pageid': 177061, 'ns': 0, 'title': 'E.T....\n",
      "  requests: <list(11)> query, query, parse, wikidata, labels, labe...\n",
      "  title: E.T._the_Extra-Terrestrial\n",
      "  url: https://en.wikipedia.org/wiki/E.T._the_Extra-Terrestrial\n",
      "  url_raw: <str(67)> https://en.wikipedia.org/wiki/E.T._the_Extra-...\n",
      "  watchers: 337\n",
      "  what: film\n",
      "  wikibase: Q11621\n",
      "  wikidata: <dict(120)> AllMovie title ID (P1562), director (P57),...\n",
      "  wikidata_pageid: 13150\n",
      "  wikidata_url: https://www.wikidata.org/wiki/Q11621\n",
      "  wikitext: <str(94034)> {{Redirect|E.T.|other uses|ET (disambigua...\n",
      "}\n"
     ]
    }
   ],
   "source": [
    "page = wptools.page('E.T._the_Extra-Terrestrial').get()"
   ]
  },
  {
   "cell_type": "markdown",
   "metadata": {},
   "source": [
    "## Quiz 1\n",
    "Access the first image in the images attribute, which is a JSON array."
   ]
  },
  {
   "cell_type": "code",
   "execution_count": 8,
   "metadata": {},
   "outputs": [
    {
     "output_type": "execute_result",
     "data": {
      "text/plain": [
       "'https://upload.wikimedia.org/wikipedia/en/6/66/E_t_the_extra_terrestrial_ver3.jpg'"
      ]
     },
     "metadata": {},
     "execution_count": 8
    }
   ],
   "source": [
    "page.data[\"image\"][0][\"url\"]"
   ]
  },
  {
   "cell_type": "markdown",
   "metadata": {},
   "source": [
    "## Quiz 2\n",
    "Access the director key of the infobox attribute, which is a JSON object."
   ]
  },
  {
   "cell_type": "code",
   "execution_count": 5,
   "metadata": {},
   "outputs": [
    {
     "output_type": "execute_result",
     "data": {
      "text/plain": [
       "<bound method WPTools.info of <wptools.page.WPToolsPage object at 0x000001EDE1EC47C0>>"
      ]
     },
     "metadata": {},
     "execution_count": 5
    }
   ],
   "source": [
    "page.info"
   ]
  },
  {
   "cell_type": "code",
   "execution_count": null,
   "metadata": {
    "collapsed": true
   },
   "outputs": [],
   "source": [
    "page.data[\"\"]"
   ]
  }
 ],
 "metadata": {
  "kernelspec": {
   "display_name": "Python 3",
   "language": "python",
   "name": "python3"
  },
  "language_info": {
   "codemirror_mode": {
    "name": "ipython",
    "version": 3
   },
   "file_extension": ".py",
   "mimetype": "text/x-python",
   "name": "python",
   "nbconvert_exporter": "python",
   "pygments_lexer": "ipython3",
   "version": "3.8.5-final"
  }
 },
 "nbformat": 4,
 "nbformat_minor": 2
}