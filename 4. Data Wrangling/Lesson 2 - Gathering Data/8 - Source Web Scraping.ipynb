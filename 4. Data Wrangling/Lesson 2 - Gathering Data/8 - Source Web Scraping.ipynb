{
 "cells": [
  {
   "cell_type": "code",
   "execution_count": null,
   "metadata": {},
   "outputs": [],
   "source": [
    "import pandas as pd"
   ]
  },
  {
   "cell_type": "code",
   "execution_count": null,
   "metadata": {},
   "outputs": [],
   "source": [
    "# Import the Rotten Tomatoes bestofrt TSV file into a DataFrame\n",
    "df = pd.read_csv(\"bestofrt.tsv\",sep=\"\\t\")"
   ]
  },
  {
   "cell_type": "code",
   "execution_count": null,
   "metadata": {},
   "outputs": [],
   "source": [
    "# Check to see if the file was imported correctly\n",
    "df.head()"
   ]
  },
  {
   "cell_type": "code",
   "execution_count": null,
   "metadata": {},
   "outputs": [],
   "source": [
    "import requests"
   ]
  },
  {
   "cell_type": "code",
   "execution_count": null,
   "metadata": {},
   "outputs": [],
   "source": [
    "url = 'https://www.rottentomatoes.com/m/et_the_extraterrestrial'\n",
    "response = requests.get(url)"
   ]
  },
  {
   "cell_type": "code",
   "execution_count": null,
   "metadata": {},
   "outputs": [],
   "source": [
    "with open (\"et_the_extraterrestrial\",mode=\"wb\") as file:\n",
    "    file.write(response.content)"
   ]
  },
  {
   "cell_type": "code",
   "execution_count": 22,
   "metadata": {},
   "outputs": [],
   "source": [
    "from bs4 import BeautifulSoup\n",
    "soap = BeautifulSoup(response.content,'xml')"
   ]
  },
  {
   "cell_type": "code",
   "execution_count": 23,
   "metadata": {},
   "outputs": [
    {
     "output_type": "execute_result",
     "data": {
      "text/plain": [
       "te(4.988 2.11) translate(0 22.638)'/%3E%3C/g%3E%3C/g%3E%3C/g%3E%3C/svg%3E%0A\");background-size:72px;background-repeat:no-repeat;width:72px;height:81px;margin:auto}.submission-drawer__title{font-family:'Franklin Gothic FS Med','Helvetica Neue',Helvetica,Arial,sans-serif;font-size:16px;font-weight:500;line-height:1.25;text-align:center;color:#2a2c32;text-transform:none;padding:0;margin:10px 0 0}.submission-drawer__copy{font-family:'Franklin Gothic FS Book','Helvetica Neue',Helvetica,Arial,sans-serif;font-size:14px;font-weight:400;line-height:1.29;text-align:center;color:#2a2c32;margin:10px 0 0;padding:0 32px}.submission-drawer__social-share{font-family:'Franklin Gothic FS Med','Helvetica Neue',Helvetica,Arial,sans-serif;display:flex;align-items:center;justify-content:flex-start;margin:40px auto 10px;width:236px;height:40px;border-radius:5px;font-size:14px}.submission-drawer__social-share:last-child{margin-top:0;margin-bottom:0}.submission-drawer__twitter-share{background-color:#1da1f2;color:#fff}.submission-drawer__facebook-share{background-color:#4267b2;color:#fff}.submission-drawer__social-share span:first-child{background-size:18px;background-repeat:no-repeat;content:\"\";width:18px;margin:0 16px}.submission-drawer__twitter-icon{background-image:url(\"data:image/svg+xml,%3C%3Fxml version='1.0' encoding='UTF-8'%3F%3E%3Csvg width='18px' height='15px' viewBox='0 0 18 15' version='1.1' xmlns='http://www.w3.org/2000/svg' xmlns:xlink='http://www.w3.org/1999/xlink'%3E%3C!-- Generator: Sketch 63.1 (92452) - https://sketch.com --%3E%3Ctitle%3ETwitter_Social_Icon_Circle_Color%3C/title%3E%3Cdesc%3ECreated with Sketch.%3C/desc%3E%3Cg id='Mobile-(Tomorrow)' stroke='none' stroke-width='1' fill='none' fill-rule='evenodd'%3E%3Cg id='AMC-Share' transform='translate(-82.000000, -567.000000)' fill='%23FFFFFF' fill-rule='nonzero'%3E%3Cg id='Group-4' transform='translate(0.000000, 267.000000)'%3E%3Cg id='Group-3' transform='translate(70.000000, 237.000000)'%3E%3Cg id='Facebook-button-Copy' transform='translate(0.000000, 50.000000)'%3E%3Cg id='Group-2'%3E%3Cg id='Twitter_Social_Icon_Circle_Color' transform='translate(12.000000, 13.000000)'%3E%3Cg id='Logo__x2014__FIXED'%3E%3Cpath d='M5.62118644,14.6004808 C12.3864407,14.6004808 16.0855932,8.98197115 16.0855932,4.11259615 C16.0855932,3.95206731 16.0855932,3.79153846 16.0779661,3.63865385 C16.7949153,3.11884615 17.420339,2.46908654 17.9161017,1.72759615 C17.2601695,2.01807692 16.5508475,2.21682692 15.8033898,2.30855769 C16.5661017,1.84990385 17.1457627,1.13134615 17.420339,0.267548077 C16.7110169,0.687980769 15.9254237,0.99375 15.0864407,1.16192308 C14.4152542,0.443365385 13.4618644,0 12.4016949,0 C10.3728814,0 8.72542373,1.65115385 8.72542373,3.68451923 C8.72542373,3.975 8.7559322,4.25783654 8.82457627,4.52538462 C5.76610169,4.3725 3.05847458,2.90480769 1.24322034,0.672692308 C0.930508475,1.21543269 0.747457627,1.84990385 0.747457627,2.52259615 C0.747457627,3.79918269 1.39576271,4.93052885 2.38728814,5.58793269 C1.78474576,5.57264423 1.22033898,5.40447115 0.724576271,5.12927885 C0.724576271,5.14456731 0.724576271,5.15985577 0.724576271,5.17514423 C0.724576271,6.96389423 1.99067797,8.446875 3.67627119,8.79086538 C3.37118644,8.87495192 3.04322034,8.92081731 2.70762712,8.92081731 C2.47118644,8.92081731 2.24237288,8.89788462 2.01355932,8.85201923 C2.47881356,10.3197115 3.83644068,11.3822596 5.44576271,11.4128365 C4.18728814,12.3989423 2.60084746,12.9875481 0.877118644,12.9875481 C0.579661017,12.9875481 0.289830508,12.9722596 0,12.9340385 C1.60932203,13.9889423 3.54661017,14.6004808 5.62118644,14.6004808' id='Path'%3E%3C/path%3E%3C/g%3E%3C/g%3E%3C/g%3E%3C/g%3E%3C/g%3E%3C/g%3E%3C/g%3E%3C/g%3E%3C/svg%3E\");height:15px}.submission-drawer__facebook-icon{background-image:url(/assets/pizza-pie/stylesheets/roma/common/rateAndReview/drawers/images/vendor/facebook/f_logo_white.png);height:18px}@media (min-width:768px){.submission-drawer__icon{background-size:99px;width:99px;height:110px}.submission-drawer__title{font-size:20px}.submission-drawer__copy{font-size:16px;padding:0}}.amc-help-drawer__icon{width:100%;margin:0 auto}.mobile-drawer.mobile-drawer--responsive .amc-help-drawer__content.mobile-drawer__content{padding:72px 40px;max-height:100%}.amc-help-drawer__copy{font-family:'Franklin Gothic FS Book','Helvetica Neue',Helvetica,Arial,sans-serif;font-size:16px;line-height:1.25;color:#2a2c32;text-align:center}@media (min-width:768px){.amc-help-drawer__icon{width:260px}.mobile-drawer.mobile-drawer--responsive .amc-help-drawer__content.mobile-drawer__content{padding:54px 121px;height:470px;overflow:hidden}}.user-rating-error{position:relative;padding:24px;border-radius:4px;border:solid 1px #e9e9ea;max-width:524px;width:94%;margin:0 auto 28px}.user-rating-error__close-button{background-image:transparent url(\"data:image/svg+xml,%3C%3Fxml version='1.0' encoding='UTF-8'%3F%3E%3Csvg viewBox='0 0 24 24' version='1.1' xmlns='http://www.w3.org/2000/svg' x='0px' y='0px' width='24px' height='24px' xml:space='preserve' role='img'%3E%3Ctitle%3Erticon-close%3C/title%3E%3Cpath d='M17.1798075,4.42379374 C17.7448658,3.85873542 18.6610064,3.85873542 19.2260647,4.42379374 C19.791123,4.98885206 19.791123,5.90499262 19.2260647,6.47005094 L13.8711864,11.8249292 L19.2260647,17.1798075 C19.791123,17.7448658 19.791123,18.6610064 19.2260647,19.2260647 C18.6610064,19.791123 17.7448658,19.791123 17.1798075,19.2260647 L11.8249292,13.8711864 L6.47005094,19.2260647 C5.90499262,19.791123 4.98885206,19.791123 4.42379374,19.2260647 C3.85873542,18.6610064 3.85873542,17.7448658 4.42379374,17.1798075 L9.77867202,11.8249292 L4.42379374,6.47005094 C3.85873542,5.90499262 3.85873542,4.98885206 4.42379374,4.42379374 C4.98885206,3.85873542 5.90499262,3.85873542 6.47005094,4.42379374 L11.8249292,9.77867202 L17.1798075,4.42379374 Z' fill='%23BCBDBE'%3E%3C/path%3E%3C/svg%3E%0A\");background-color:transparent;width:20px;height:20px;position:absolute;right:27px;top:27px;transform:translateY(-50%);border:none}h3.user-rating-error__header{font-family:'Franklin Gothic FS Book',Helvetica,sans-serif;font-weight:700;font-size:16px;letter-spacing:.11px;color:#202226}.user-rating-error__body{font-family:'Franklin Gothic FS Book',Helvetica,sans-serif;font-size:14px;line-height:1.43;letter-spacing:.22px;color:#202226}@media (min-width:728px){.user-rating-error{float:right}}@font-face{font-family:\"Franklin Gothic\";src:url(/assets/pizza-pie/stylesheets/roma/common/modules/whatToKnow/fonts/FranklinGothicFS-Book.eot);src:url(/assets/pizza-pie/stylesheets/roma/common/modules/whatToKnow/fonts/FranklinGothicFS-Book.eot) format(\"embedded-opentype\"),url(/assets/pizza-pie/stylesheets/roma/common/modules/whatToKnow/fonts/FranklinGothicFS-Book.woff2) format(\"woff2\"),url(/assets/pizza-pie/stylesheets/roma/common/modules/whatToKnow/fonts/FranklinGothicFS-Book.woff) format(\"woff\"),url(/assets/pizza-pie/stylesheets/roma/common/modules/whatToKnow/fonts/FranklinGothicFS-Book.ttf) format(\"truetype\"),url(/assets/pizza-pie/stylesheets/roma/common/modules/whatToKnow/fonts/FranklinGothicFS-Book) format(\"svg\");font-weight:400;font-style:normal}@font-face{font-family:\"Franklin Gothic\";src:url(/assets/pizza-pie/stylesheets/roma/common/modules/whatToKnow/fonts/FranklinGothicFS-Med.eot);src:url(/assets/pizza-pie/stylesheets/roma/common/modules/whatToKnow/fonts/FranklinGothicFS-Med.eot) format(\"embedded-opentype\"),url(/assets/pizza-pie/stylesheets/roma/common/modules/whatToKnow/fonts/FranklinGothicFS-Med.woff2) format(\"woff2\"),url(/assets/pizza-pie/stylesheets/roma/common/modules/whatToKnow/fonts/FranklinGothicFS-Med.woff) format(\"woff\"),url(/assets/pizza-pie/stylesheets/roma/common/modules/whatToKnow/fonts/FranklinGothicFS-Med.ttf) format(\"truetype\"),url(/assets/pizza-pie/stylesheets/roma/common/modules/whatToKnow/fonts/FranklinGothicFS-Med) format(\"svg\");font-weight:500;font-style:normal}@font-face{font-family:\"Franklin Gothic\";src:url(/assets/pizza-pie/stylesheets/roma/common/modules/whatToKnow/fonts/FranklinGothicFS-Demi.eot);src:url(/assets/pizza-pie/stylesheets/roma/common/modules/whatToKnow/fonts/FranklinGothicFS-Demi.eot) format(\"embedded-opentype\"),url(/assets/pizza-pie/stylesheets/roma/common/modules/whatToKnow/fonts/FranklinGothicFS-Demi.woff2) format(\"woff2\"),url(/assets/pizza-pie/stylesheets/roma/common/modules/whatToKnow/fonts/FranklinGothicFS-Demi.woff) format(\"woff\"),url(/assets/pizza-pie/stylesheets/roma/common/modules/whatToKnow/fonts/FranklinGothicFS-Demi.ttf) format(\"truetype\"),url(/assets/pizza-pie/stylesheets/roma/common/modules/whatToKnow/fonts/FranklinGothicFS-Demi) format(\"svg\");font-weight:600;font-style:normal}@font-face{font-family:\"Franklin Gothic\";src:url(/assets/pizza-pie/stylesheets/roma/common/modules/whatToKnow/fonts/FranklinGothicFS-Book.eot);src:url(/assets/pizza-pie/stylesheets/roma/common/modules/whatToKnow/fonts/FranklinGothicFS-Book.eot) format(\"embedded-opentype\"),url(/assets/pizza-pie/stylesheets/roma/common/modules/whatToKnow/fonts/FranklinGothicFS-Book.woff2) format(\"woff2\"),url(/assets/pizza-pie/stylesheets/roma/common/modules/whatToKnow/fonts/FranklinGothicFS-Book.woff) format(\"woff\"),url(/assets/pizza-pie/stylesheets/roma/common/modules/whatToKnow/fonts/FranklinGothicFS-Book.ttf) format(\"truetype\"),url(/assets/pizza-pie/stylesheets/roma/common/modules/whatToKnow/fonts/FranklinGothicFS-Book) format(\"svg\");font-weight:400;font-style:normal}@font-face{font-family:\"Franklin Gothic\";src:url(/assets/pizza-pie/stylesheets/roma/common/modules/whatToKnow/fonts/FranklinGothicFS-Med.eot);src:url(/assets/pizza-pie/stylesheets/roma/common/modules/whatToKnow/fonts/FranklinGothicFS-Med.eot) format(\"embedded-opentype\"),url(/assets/pizza-pie/stylesheets/roma/common/modules/whatToKnow/fonts/FranklinGothicFS-Med.woff2) format(\"woff2\"),url(/assets/pizza-pie/stylesheets/roma/common/modules/whatToKnow/fonts/FranklinGothicFS-Med.woff) format(\"woff\"),url(/assets/pizza-pie/stylesheets/roma/common/modules/whatToKnow/fonts/FranklinGothicFS-Med.ttf) format(\"truetype\"),url(/assets/pizza-pie/stylesheets/roma/common/modules/whatToKnow/fonts/FranklinGothicFS-Med) format(\"svg\");font-weight:500;font-style:normal}@font-face{font-family:\"Franklin Gothic\";src:url(/assets/pizza-pie/stylesheets/roma/common/modules/whatToKnow/fonts/FranklinGothicFS-Demi.eot);src:url(/assets/pizza-pie/stylesheets/roma/common/modules/whatToKnow/fonts/FranklinGothicFS-Demi.eot) format(\"embedded-opentype\"),url(/assets/pizza-pie/stylesheets/roma/common/modules/whatToKnow/fonts/FranklinGothicFS-Demi.woff2) format(\"woff2\"),url(/assets/pizza-pie/stylesheets/roma/common/modules/whatToKnow/fonts/FranklinGothicFS-Demi.woff) format(\"woff\"),url(/assets/pizza-pie/stylesheets/roma/common/modules/whatToKnow/fonts/FranklinGothicFS-Demi.ttf) format(\"truetype\"),url(/assets/pizza-pie/stylesheets/roma/common/modules/whatToKnow/fonts/FranklinGothicFS-Demi) format(\"svg\");font-weight:600;font-style:normal}@font-face{font-family:\"Franklin Gothic\";src:url(/assets/pizza-pie/stylesheets/roma/common/modules/whatToKnow/fonts/FranklinGothicFS-Book.eot);src:url(/assets/pizza-pie/stylesheets/roma/common/modules/whatToKnow/fonts/FranklinGothicFS-Book.eot) format(\"embedded-opentype\"),url(/assets/pizza-pie/stylesheets/roma/common/modules/whatToKnow/fonts/FranklinGothicFS-Book.woff2) format(\"woff2\"),url(/assets/pizza-pie/stylesheets/roma/common/modules/whatToKnow/fonts/FranklinGothicFS-Book.woff) format(\"woff\"),url(/assets/pizza-pie/stylesheets/roma/common/modules/whatToKnow/fonts/FranklinGothicFS-Book.ttf) format(\"truetype\"),url(/assets/pizza-pie/stylesheets/roma/common/modules/whatToKnow/fonts/FranklinGothicFS-Book) format(\"svg\");font-weight:400;font-style:normal}@font-face{font-family:\"Franklin Gothic\";src:url(/assets/pizza-pie/stylesheets/roma/common/modules/whatToKnow/fonts/FranklinGothicFS-Med.eot);src:url(/assets/pizza-pie/stylesheets/roma/common/modules/whatToKnow/fonts/FranklinGothicFS-Med.eot) format(\"embedded-opentype\"),url(/assets/pizza-pie/stylesheets/roma/common/modules/whatToKnow/fonts/FranklinGothicFS-Med.woff2) format(\"woff2\"),url(/assets/pizza-pie/stylesheets/roma/common/modules/whatToKnow/fonts/FranklinGothicFS-Med.woff) format(\"woff\"),url(/assets/pizza-pie/stylesheets/roma/common/modules/whatToKnow/fonts/FranklinGothicFS-Med.ttf) format(\"truetype\"),url(/assets/pizza-pie/stylesheets/roma/common/modules/whatToKnow/fonts/FranklinGothicFS-Med) format(\"svg\");font-weight:500;font-style:normal}@font-face{font-family:\"Franklin Gothic\";src:url(/assets/pizza-pie/stylesheets/roma/common/modules/whatToKnow/fonts/FranklinGothicFS-Demi.eot);src:url(/assets/pizza-pie/stylesheets/roma/common/modules/whatToKnow/fonts/FranklinGothicFS-Demi.eot) format(\"embedded-opentype\"),url(/assets/pizza-pie/stylesheets/roma/common/modules/whatToKnow/fonts/FranklinGothicFS-Demi.woff2) format(\"woff2\"),url(/assets/pizza-pie/stylesheets/roma/common/modules/whatToKnow/fonts/FranklinGothicFS-Demi.woff) format(\"woff\"),url(/assets/pizza-pie/stylesheets/roma/common/modules/whatToKnow/fonts/FranklinGothicFS-Demi.ttf) format(\"truetype\"),url(/assets/pizza-pie/stylesheets/roma/common/modules/whatToKnow/fonts/FranklinGothicFS-Demi) format(\"svg\");font-weight:600;font-style:normal}@font-face{font-family:\"Franklin Gothic\";src:url(/assets/pizza-pie/stylesheets/roma/common/modules/whatToKnow/fonts/FranklinGothicFS-Book.eot);src:url(/assets/pizza-pie/stylesheets/roma/common/modules/whatToKnow/fonts/FranklinGothicFS-Book.eot) format(\"embedded-opentype\"),url(/assets/pizza-pie/stylesheets/roma/common/modules/whatToKnow/fonts/FranklinGothicFS-Book.woff2) format(\"woff2\"),url(/assets/pizza-pie/stylesheets/roma/common/modules/whatToKnow/fonts/FranklinGothicFS-Book.woff) format(\"woff\"),url(/assets/pizza-pie/stylesheets/roma/common/modules/whatToKnow/fonts/FranklinGothicFS-Book.ttf) format(\"truetype\"),url(/assets/pizza-pie/stylesheets/roma/common/modules/whatToKnow/fonts/FranklinGothicFS-Book) format(\"svg\");font-weight:400;font-style:normal}@font-face{font-family:\"Franklin Gothic\";src:url(/assets/pizza-pie/stylesheets/roma/common/modules/whatToKnow/fonts/FranklinGothicFS-Med.eot);src:url(/assets/pizza-pie/stylesheets/roma/common/modules/whatToKnow/fonts/FranklinGothicFS-Med.eot) format(\"embedded-opentype\"),url(/assets/pizza-pie/stylesheets/roma/common/modules/whatToKnow/fonts/FranklinGothicFS-Med.woff2) format(\"woff2\"),url(/assets/pizza-pie/stylesheets/roma/common/modules/whatToKnow/fonts/FranklinGothicFS-Med.woff) format(\"woff\"),url(/assets/pizza-pie/stylesheets/roma/common/modules/whatToKnow/fonts/FranklinGothicFS-Med.ttf) format(\"truetype\"),url(/assets/pizza-pie/stylesheets/roma/common/modules/whatToKnow/fonts/FranklinGothicFS-Med) format(\"svg\");font-weight:500;font-style:normal}@font-face{font-family:\"Franklin Gothic\";src:url(/assets/pizza-pie/stylesheets/roma/common/modules/whatToKnow/fonts/FranklinGothicFS-Demi.eot);src:url(/assets/pizza-pie/stylesheets/roma/common/modules/whatToKnow/fonts/FranklinGothicFS-Demi.eot) format(\"embedded-opentype\"),url(/assets/pizza-pie/stylesheets/roma/common/modules/whatToKnow/fonts/FranklinGothicFS-Demi.woff2) format(\"woff2\"),url(/assets/pizza-pie/stylesheets/roma/common/modules/whatToKnow/fonts/FranklinGothicFS-Demi.woff) format(\"woff\"),url(/assets/pizza-pie/stylesheets/roma/common/modules/whatToKnow/fonts/FranklinGothicFS-Demi.ttf) format(\"truetype\"),url(/assets/pizza-pie/stylesheets/roma/common/modules/whatToKnow/fonts/FranklinGothicFS-Demi) format(\"svg\");font-weight:600;font-style:normal}</style>\n",
       "<!-- /END: critical-->\n",
       "<link as=\"style\" href=\"/assets/pizza-pie/stylesheets/bundles/global.ba9b8e272c2.css\" onload=\"this.onload=null;this.rel='stylesheet'\" rel=\"preload\">\n",
       "<link as=\"style\" href=\"/assets/pizza-pie/stylesheets/bundles/movie-details.9dd980e544d.css\" onload=\"this.onload=null;this.rel='stylesheet'\" rel=\"preload\">\n",
       "<script>\n",
       "        !function(t){\"use strict\";t.loadCSS||(t.loadCSS=function(){});var e=loadCSS.relpreload={};if(e.support=function(){var e;try{e=t.document.createElement(\"link\").relList.supports(\"preload\")}catch(t){e=!1}return function(){return e}}(),e.bindMediaToggle=function(t){var e=t.media||\"all\";function a(){t.media=e}t.addEventListener?t.addEventListener(\"load\",a):t.attachEvent(\"onload\",a),setTimeout(function(){t.rel=\"stylesheet\",t.media=\"only x\"}),setTimeout(a,3e3)},e.poly=function(){if(!e.support())for(var a=t.document.getElementsByTagName(\"link\"),n=0;n<a.length>;n++){var o=a[n];\"preload\"!==o.rel||\"style\"!==o.getAttribute(\"as\")||o.getAttribute(\"data-loadcss\")||(o.setAttribute(\"data-loadcss\",!0),e.bindMediaToggle(o))}},!e.support()){e.poly();var a=t.setInterval(e.poly,500);t.addEventListener?t.addEventListener(\"load\",function(){e.poly(),t.clearInterval(a)}):t.attachEvent(\"onload\",function(){e.poly(),t.clearInterval(a)})}\"undefined\"!=typeof exports?exports.loadCSS=loadCSS:t.loadCSS=loadCSS}(\"undefined\"!=typeof global?global:this);\n",
       "        </a.length>\n",
       "<script>window.RottenTomatoes = {};</script>\n",
       "<script>window.RTLocals = {};</script>\n",
       "<script>var dataLayer = dataLayer || [];</script>\n",
       "<script id=\"mps-page-integration\">\n",
       "      window.mpscall = {\"adunits\":\"Multi Logo|Box Ad|Marquee Banner|Top Banner\",\"cag[score]\":\"98\",\"cag[certified_fresh]\":\"1\",\"cag[fresh_rotten]\":\"fresh\",\"cag[rating]\":\"PG\",\"cag[release]\":\"1982\",\"cag[movieshow]\":\"E.T. The Extra-Terrestrial\",\"cag[genre]\":\"Kids  Family|Science Fiction  Fantasy\",\"cag[urlid]\":\"et_the_extraterrestrial\",\"cat\":\"movie|movie_page\",\"field[env]\":\"production\",\"field[rtid]\":\"10489\",\"path\":\"/m/et_the_extraterrestrial\",\"site\":\"rottentomatoes-web\",\"title\":\"E.T. The Extra-Terrestrial\",\"type\":\"movie_page\"};\n",
       "      var mpsopts={'host':'mps.nbcuni.com', 'updatecorrelator':1};\n",
       "      var mps=mps||{};mps._ext=mps._ext||{};mps._adsheld=[];mps._queue=mps._queue||{};mps._queue.mpsloaded=mps._queue.mpsloaded||[];mps._queue.mpsinit=mps._queue.mpsinit||[];mps._queue.gptloaded=mps._queue.gptloaded||[];mps._queue.adload=mps._queue.adload||[];mps._queue.adclone=mps._queue.adclone||[];mps._queue.adview=mps._queue.adview||[];mps._queue.refreshads=mps._queue.refreshads||[];mps.__timer=Date.now||function(){return+new Date};mps.__intcode=\"v2\";if(typeof mps.getAd!=\"function\")mps.getAd=function(adunit){if(typeof adunit!=\"string\")return false;var slotid=\"mps-getad-\"+adunit.replace(/\\W/g,\"\");if(!mps._ext||!mps._ext.loaded){mps._queue.gptloaded.push(function(){typeof mps._gptfirst==\"function\"(adunit,slotid);mps.insertAd(\"#\"+slotid,adunit)});mps._adsheld.push(adunit)}return'<div class=\"mps-wrapper\" data-mps-fill-slot=\"'+adunit+'\" id=\"'+slotid+'\"/>'};(function(){head=document.head||document.getElementsByTagName(\"head\")[0],mpsload=document.createElement(\"script\");mpsload.src=\"//\"+mpsopts.host+\"/fetch/ext/load-\"+mpscall.site+\".js?nowrite=2\";mpsload.id=\"mps-load\";head.insertBefore(mpsload,head.firstChild)})();\n",
       "    </script>\n",
       "<script>\n",
       "        function endsWith(str, suffix) {\n",
       "            return str.indexOf(suffix, str.length - suffix.length) !== -1;\n",
       "        }\n",
       "    \n",
       "        //--Ad Unit Loaded (called for each ad loaded)\n",
       "        var mps = mps||{}; mps._queue = mps._queue||{}; mps._queue.adload = mps._queue.adload||[];\n",
       "        mps._queue.adload.push(function (eo) {\n",
       "            if (!eo.isEmpty) {\n",
       "                var slotName = eo._mps._slot;\n",
       "    \n",
       "                if ('topbanner' === slotName) {\n",
       "                    var leaderboardHeight = eo.size[1];\n",
       "                    if (leaderboardHeight &gt; 50){\n",
       "                        \n",
       "                            $('#header-main').removeClass('header_main_scroll');\n",
       "                            $('#header-main').css('margin-top', leaderboardHeight + 10);\n",
       "                            var bannerEl = $('#header_and_leaderboard');\n",
       "                            bannerEl.addClass('header_and_leaderboard_scroll');\n",
       "                        \n",
       "                        if (leaderboardHeight </script></script></link></link></meta></meta></link></link></link></link></meta></meta></meta></meta></meta></meta></meta></meta></meta></meta></meta></meta></meta></meta></link></link></meta></meta></meta></head></html>"
      ]
     },
     "metadata": {},
     "execution_count": 23
    }
   ],
   "source": [
    "soap"
   ]
  },
  {
   "cell_type": "code",
   "execution_count": 24,
   "metadata": {},
   "outputs": [
    {
     "output_type": "execute_result",
     "data": {
      "text/plain": [
       "<title>E.T. the Extra-Terrestrial (1982) - Rotten Tomatoes</title>"
      ]
     },
     "metadata": {},
     "execution_count": 24
    }
   ],
   "source": [
    "soap.find('title')"
   ]
  },
  {
   "cell_type": "code",
   "execution_count": 25,
   "metadata": {},
   "outputs": [
    {
     "output_type": "execute_result",
     "data": {
      "text/plain": [
       "'E.T. the Extra-Terrestrial (1982) '"
      ]
     },
     "metadata": {},
     "execution_count": 25
    }
   ],
   "source": [
    "soap.find('title').contents[0][:-len(\"- Rotten Tomatoes\")]"
   ]
  },
  {
   "cell_type": "code",
   "execution_count": null,
   "metadata": {},
   "outputs": [],
   "source": []
  }
 ],
 "metadata": {
  "kernelspec": {
   "display_name": "Python 3",
   "language": "python",
   "name": "python3"
  },
  "language_info": {
   "codemirror_mode": {
    "name": "ipython",
    "version": 3
   },
   "file_extension": ".py",
   "mimetype": "text/x-python",
   "name": "python",
   "nbconvert_exporter": "python",
   "pygments_lexer": "ipython3",
   "version": "3.8.5-final"
  }
 },
 "nbformat": 4,
 "nbformat_minor": 2
}