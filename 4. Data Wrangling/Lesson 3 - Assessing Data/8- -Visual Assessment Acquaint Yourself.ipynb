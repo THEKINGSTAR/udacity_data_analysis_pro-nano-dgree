{
 "cells": [
  {
   "cell_type": "markdown",
   "metadata": {},
   "source": [
    "## Visual Assessment: Acquaint Yourself\n",
    "This Auralin Phase II clinical trial dataset comes in three tables: `patients`, `treatments`, and `adverse_reactions`. Acquaint yourself with them through visual assessment below."
   ]
  },
  {
   "cell_type": "markdown",
   "metadata": {},
   "source": [
    "### Gather"
   ]
  },
  {
   "cell_type": "code",
   "execution_count": 1,
   "metadata": {
    "collapsed": true
   },
   "outputs": [],
   "source": [
    "import pandas as pd"
   ]
  },
  {
   "cell_type": "code",
   "execution_count": 3,
   "metadata": {
    "collapsed": true
   },
   "outputs": [],
   "source": [
    "patients = pd.read_csv('patients.csv')\n",
    "treatments = pd.read_csv('treatments.csv')\n",
    "adverse_reactions = pd.read_csv('adverse_reactions.csv')"
   ]
  },
  {
   "cell_type": "markdown",
   "metadata": {},
   "source": [
    "### Assess\n",
    "In the cells below, each column of each table in this clinical trial dataset is described. To see the table that goes hand in hand with these descriptions, display each table in its entirety by displaying the pandas DataFrame that it was gathered into. This task is the mechanical part of visual assessment in pandas."
   ]
  },
  {
   "cell_type": "code",
   "execution_count": 5,
   "metadata": {
    "collapsed": true
   },
   "outputs": [
    {
     "output_type": "execute_result",
     "data": {
      "text/plain": [
       "     patient_id assigned_sex given_name      surname  \\\n",
       "0             1       female        Zoe      Wellish   \n",
       "1             2       female     Pamela         Hill   \n",
       "2             3         male        Jae       Debord   \n",
       "3             4         male       Liêm         Phan   \n",
       "4             5         male        Tim      Neudorf   \n",
       "..          ...          ...        ...          ...   \n",
       "498         499         male    Mustafa    Lindström   \n",
       "499         500         male      Ruman      Bisliev   \n",
       "500         501       female      Jinke    de Keizer   \n",
       "501         502       female    Chidalu  Onyekaozulu   \n",
       "502         503         male        Pat      Gersten   \n",
       "\n",
       "                       address               city       state  zip_code  \\\n",
       "0         576 Brown Bear Drive  Rancho California  California   92390.0   \n",
       "1    2370 University Hill Road          Armstrong    Illinois   61812.0   \n",
       "2        1493 Poling Farm Road               York    Nebraska   68467.0   \n",
       "3          2335 Webster Street         Woodbridge          NJ    7095.0   \n",
       "4         1428 Turkey Pen Lane             Dothan          AL   36303.0   \n",
       "..                         ...                ...         ...       ...   \n",
       "498        2530 Victoria Court       Milton Mills          ME    3852.0   \n",
       "499   494 Clarksburg Park Road             Sedona          AZ   86341.0   \n",
       "500          649 Nutter Street      Overland Park          MO   64110.0   \n",
       "501   3652 Boone Crockett Lane            Seattle          WA   98109.0   \n",
       "502          2778 North Avenue               Burr    Nebraska   68324.0   \n",
       "\n",
       "           country                                          contact  \\\n",
       "0    United States             951-719-9170ZoeWellish@superrito.com   \n",
       "1    United States            PamelaSHill@cuvox.de+1 (217) 569-3204   \n",
       "2    United States                 402-363-6804JaeMDebord@gustr.com   \n",
       "3    United States       PhanBaLiem@jourrapide.com+1 (732) 636-8246   \n",
       "4    United States                  334-515-7487TimNeudorf@cuvox.de   \n",
       "..             ...                                              ...   \n",
       "498  United States      207-477-0579MustafaLindstrom@jourrapide.com   \n",
       "499  United States               928-284-4492RumanBisliev@gustr.com   \n",
       "500  United States            816-223-6007JinkedeKeizer@teleworm.us   \n",
       "501  United States  ChidaluOnyekaozulu@jourrapide.com1 360 443 2060   \n",
       "502  United States             PatrickGersten@rhyta.com402-848-4923   \n",
       "\n",
       "     birthdate  weight  height   bmi  \n",
       "0    7/10/1976   121.7      66  19.6  \n",
       "1     4/3/1967   118.8      66  19.2  \n",
       "2    2/19/1980   177.8      71  24.8  \n",
       "3    7/26/1951   220.9      70  31.7  \n",
       "4    2/18/1928   192.3      27  26.1  \n",
       "..         ...     ...     ...   ...  \n",
       "498  4/10/1959   181.1      72  24.6  \n",
       "499  3/26/1948   239.6      70  34.4  \n",
       "500  1/13/1971   171.2      67  26.8  \n",
       "501  2/13/1952   176.9      67  27.7  \n",
       "502   5/3/1954   138.2      71  19.3  \n",
       "\n",
       "[503 rows x 14 columns]"
      ],
      "text/html": "<div>\n<style scoped>\n    .dataframe tbody tr th:only-of-type {\n        vertical-align: middle;\n    }\n\n    .dataframe tbody tr th {\n        vertical-align: top;\n    }\n\n    .dataframe thead th {\n        text-align: right;\n    }\n</style>\n<table border=\"1\" class=\"dataframe\">\n  <thead>\n    <tr style=\"text-align: right;\">\n      <th></th>\n      <th>patient_id</th>\n      <th>assigned_sex</th>\n      <th>given_name</th>\n      <th>surname</th>\n      <th>address</th>\n      <th>city</th>\n      <th>state</th>\n      <th>zip_code</th>\n      <th>country</th>\n      <th>contact</th>\n      <th>birthdate</th>\n      <th>weight</th>\n      <th>height</th>\n      <th>bmi</th>\n    </tr>\n  </thead>\n  <tbody>\n    <tr>\n      <th>0</th>\n      <td>1</td>\n      <td>female</td>\n      <td>Zoe</td>\n      <td>Wellish</td>\n      <td>576 Brown Bear Drive</td>\n      <td>Rancho California</td>\n      <td>California</td>\n      <td>92390.0</td>\n      <td>United States</td>\n      <td>951-719-9170ZoeWellish@superrito.com</td>\n      <td>7/10/1976</td>\n      <td>121.7</td>\n      <td>66</td>\n      <td>19.6</td>\n    </tr>\n    <tr>\n      <th>1</th>\n      <td>2</td>\n      <td>female</td>\n      <td>Pamela</td>\n      <td>Hill</td>\n      <td>2370 University Hill Road</td>\n      <td>Armstrong</td>\n      <td>Illinois</td>\n      <td>61812.0</td>\n      <td>United States</td>\n      <td>PamelaSHill@cuvox.de+1 (217) 569-3204</td>\n      <td>4/3/1967</td>\n      <td>118.8</td>\n      <td>66</td>\n      <td>19.2</td>\n    </tr>\n    <tr>\n      <th>2</th>\n      <td>3</td>\n      <td>male</td>\n      <td>Jae</td>\n      <td>Debord</td>\n      <td>1493 Poling Farm Road</td>\n      <td>York</td>\n      <td>Nebraska</td>\n      <td>68467.0</td>\n      <td>United States</td>\n      <td>402-363-6804JaeMDebord@gustr.com</td>\n      <td>2/19/1980</td>\n      <td>177.8</td>\n      <td>71</td>\n      <td>24.8</td>\n    </tr>\n    <tr>\n      <th>3</th>\n      <td>4</td>\n      <td>male</td>\n      <td>Liêm</td>\n      <td>Phan</td>\n      <td>2335 Webster Street</td>\n      <td>Woodbridge</td>\n      <td>NJ</td>\n      <td>7095.0</td>\n      <td>United States</td>\n      <td>PhanBaLiem@jourrapide.com+1 (732) 636-8246</td>\n      <td>7/26/1951</td>\n      <td>220.9</td>\n      <td>70</td>\n      <td>31.7</td>\n    </tr>\n    <tr>\n      <th>4</th>\n      <td>5</td>\n      <td>male</td>\n      <td>Tim</td>\n      <td>Neudorf</td>\n      <td>1428 Turkey Pen Lane</td>\n      <td>Dothan</td>\n      <td>AL</td>\n      <td>36303.0</td>\n      <td>United States</td>\n      <td>334-515-7487TimNeudorf@cuvox.de</td>\n      <td>2/18/1928</td>\n      <td>192.3</td>\n      <td>27</td>\n      <td>26.1</td>\n    </tr>\n    <tr>\n      <th>...</th>\n      <td>...</td>\n      <td>...</td>\n      <td>...</td>\n      <td>...</td>\n      <td>...</td>\n      <td>...</td>\n      <td>...</td>\n      <td>...</td>\n      <td>...</td>\n      <td>...</td>\n      <td>...</td>\n      <td>...</td>\n      <td>...</td>\n      <td>...</td>\n    </tr>\n    <tr>\n      <th>498</th>\n      <td>499</td>\n      <td>male</td>\n      <td>Mustafa</td>\n      <td>Lindström</td>\n      <td>2530 Victoria Court</td>\n      <td>Milton Mills</td>\n      <td>ME</td>\n      <td>3852.0</td>\n      <td>United States</td>\n      <td>207-477-0579MustafaLindstrom@jourrapide.com</td>\n      <td>4/10/1959</td>\n      <td>181.1</td>\n      <td>72</td>\n      <td>24.6</td>\n    </tr>\n    <tr>\n      <th>499</th>\n      <td>500</td>\n      <td>male</td>\n      <td>Ruman</td>\n      <td>Bisliev</td>\n      <td>494 Clarksburg Park Road</td>\n      <td>Sedona</td>\n      <td>AZ</td>\n      <td>86341.0</td>\n      <td>United States</td>\n      <td>928-284-4492RumanBisliev@gustr.com</td>\n      <td>3/26/1948</td>\n      <td>239.6</td>\n      <td>70</td>\n      <td>34.4</td>\n    </tr>\n    <tr>\n      <th>500</th>\n      <td>501</td>\n      <td>female</td>\n      <td>Jinke</td>\n      <td>de Keizer</td>\n      <td>649 Nutter Street</td>\n      <td>Overland Park</td>\n      <td>MO</td>\n      <td>64110.0</td>\n      <td>United States</td>\n      <td>816-223-6007JinkedeKeizer@teleworm.us</td>\n      <td>1/13/1971</td>\n      <td>171.2</td>\n      <td>67</td>\n      <td>26.8</td>\n    </tr>\n    <tr>\n      <th>501</th>\n      <td>502</td>\n      <td>female</td>\n      <td>Chidalu</td>\n      <td>Onyekaozulu</td>\n      <td>3652 Boone Crockett Lane</td>\n      <td>Seattle</td>\n      <td>WA</td>\n      <td>98109.0</td>\n      <td>United States</td>\n      <td>ChidaluOnyekaozulu@jourrapide.com1 360 443 2060</td>\n      <td>2/13/1952</td>\n      <td>176.9</td>\n      <td>67</td>\n      <td>27.7</td>\n    </tr>\n    <tr>\n      <th>502</th>\n      <td>503</td>\n      <td>male</td>\n      <td>Pat</td>\n      <td>Gersten</td>\n      <td>2778 North Avenue</td>\n      <td>Burr</td>\n      <td>Nebraska</td>\n      <td>68324.0</td>\n      <td>United States</td>\n      <td>PatrickGersten@rhyta.com402-848-4923</td>\n      <td>5/3/1954</td>\n      <td>138.2</td>\n      <td>71</td>\n      <td>19.3</td>\n    </tr>\n  </tbody>\n</table>\n<p>503 rows × 14 columns</p>\n</div>"
     },
     "metadata": {},
     "execution_count": 5
    }
   ],
   "source": [
    "# Display the patients table\n",
    "patients"
   ]
  },
  {
   "cell_type": "markdown",
   "metadata": {},
   "source": [
    "`patients` columns:\n",
    "- **patient_id**: the unique identifier for each patient in the [Master Patient Index](https://en.wikipedia.org/wiki/Enterprise_master_patient_index) (i.e. patient database) of the pharmaceutical company that is producing Auralin\n",
    "- **assigned_sex**: the assigned sex of each patient at birth (male or female)\n",
    "- **given_name**: the given name (i.e. first name) of each patient\n",
    "- **surname**: the surname (i.e. last name) of each patient\n",
    "- **address**: the main address for each patient\n",
    "- **city**: the corresponding city for the main address of each patient\n",
    "- **state**: the corresponding state for the main address of each patient\n",
    "- **zip_code**: the corresponding zip code for the main address of each patient\n",
    "- **country**: the corresponding country for the main address of each patient (all United states for this clinical trial)\n",
    "- **contact**: phone number and email information for each patient\n",
    "- **birthdate**: the date of birth of each patient (month/day/year). The [inclusion criteria](https://en.wikipedia.org/wiki/Inclusion_and_exclusion_criteria) for this clinical trial is  age >= 18 *(there is no maximum age because diabetes is a [growing problem](http://www.diabetes.co.uk/diabetes-and-the-elderly.html) among the elderly population)*\n",
    "- **weight**: the weight of each patient in pounds (lbs)\n",
    "- **height**: the height of each patient in inches (in)\n",
    "- **bmi**: the Body Mass Index (BMI) of each patient. BMI is a simple calculation using a person's height and weight. The formula is BMI = kg/m<sup>2</sup> where kg is a person's weight in kilograms and m<sup>2</sup> is their height in metres squared. A BMI of 25.0 or more is overweight, while the healthy range is 18.5 to 24.9. *The [inclusion criteria](https://en.wikipedia.org/wiki/Inclusion_and_exclusion_criteria) for this clinical trial is 16 >= BMI >= 38.*"
   ]
  },
  {
   "cell_type": "code",
   "execution_count": 6,
   "metadata": {
    "collapsed": true,
    "scrolled": true
   },
   "outputs": [
    {
     "output_type": "execute_result",
     "data": {
      "text/plain": [
       "    given_name       surname    auralin    novodra  hba1c_start  hba1c_end  \\\n",
       "0     veronika      jindrová  41u - 48u          -         7.63       7.20   \n",
       "1       elliot    richardson          -  40u - 45u         7.56       7.09   \n",
       "2     yukitaka      takenaka          -  39u - 36u         7.68       7.25   \n",
       "3         skye    gormanston  33u - 36u          -         7.97       7.62   \n",
       "4       alissa        montez          -  33u - 29u         7.78       7.46   \n",
       "..         ...           ...        ...        ...          ...        ...   \n",
       "275     albina      zetticci  45u - 51u          -         7.93       7.73   \n",
       "276       john   teichelmann          -  49u - 49u         7.90       7.58   \n",
       "277     mathea       lillebø  23u - 36u          -         9.04       8.67   \n",
       "278     vallie        prince  31u - 38u          -         7.64       7.28   \n",
       "279     samúel  guðbrandsson  53u - 56u          -         8.00       7.64   \n",
       "\n",
       "     hba1c_change  \n",
       "0             NaN  \n",
       "1            0.97  \n",
       "2             NaN  \n",
       "3            0.35  \n",
       "4            0.32  \n",
       "..            ...  \n",
       "275          0.20  \n",
       "276           NaN  \n",
       "277          0.37  \n",
       "278          0.36  \n",
       "279          0.36  \n",
       "\n",
       "[280 rows x 7 columns]"
      ],
      "text/html": "<div>\n<style scoped>\n    .dataframe tbody tr th:only-of-type {\n        vertical-align: middle;\n    }\n\n    .dataframe tbody tr th {\n        vertical-align: top;\n    }\n\n    .dataframe thead th {\n        text-align: right;\n    }\n</style>\n<table border=\"1\" class=\"dataframe\">\n  <thead>\n    <tr style=\"text-align: right;\">\n      <th></th>\n      <th>given_name</th>\n      <th>surname</th>\n      <th>auralin</th>\n      <th>novodra</th>\n      <th>hba1c_start</th>\n      <th>hba1c_end</th>\n      <th>hba1c_change</th>\n    </tr>\n  </thead>\n  <tbody>\n    <tr>\n      <th>0</th>\n      <td>veronika</td>\n      <td>jindrová</td>\n      <td>41u - 48u</td>\n      <td>-</td>\n      <td>7.63</td>\n      <td>7.20</td>\n      <td>NaN</td>\n    </tr>\n    <tr>\n      <th>1</th>\n      <td>elliot</td>\n      <td>richardson</td>\n      <td>-</td>\n      <td>40u - 45u</td>\n      <td>7.56</td>\n      <td>7.09</td>\n      <td>0.97</td>\n    </tr>\n    <tr>\n      <th>2</th>\n      <td>yukitaka</td>\n      <td>takenaka</td>\n      <td>-</td>\n      <td>39u - 36u</td>\n      <td>7.68</td>\n      <td>7.25</td>\n      <td>NaN</td>\n    </tr>\n    <tr>\n      <th>3</th>\n      <td>skye</td>\n      <td>gormanston</td>\n      <td>33u - 36u</td>\n      <td>-</td>\n      <td>7.97</td>\n      <td>7.62</td>\n      <td>0.35</td>\n    </tr>\n    <tr>\n      <th>4</th>\n      <td>alissa</td>\n      <td>montez</td>\n      <td>-</td>\n      <td>33u - 29u</td>\n      <td>7.78</td>\n      <td>7.46</td>\n      <td>0.32</td>\n    </tr>\n    <tr>\n      <th>...</th>\n      <td>...</td>\n      <td>...</td>\n      <td>...</td>\n      <td>...</td>\n      <td>...</td>\n      <td>...</td>\n      <td>...</td>\n    </tr>\n    <tr>\n      <th>275</th>\n      <td>albina</td>\n      <td>zetticci</td>\n      <td>45u - 51u</td>\n      <td>-</td>\n      <td>7.93</td>\n      <td>7.73</td>\n      <td>0.20</td>\n    </tr>\n    <tr>\n      <th>276</th>\n      <td>john</td>\n      <td>teichelmann</td>\n      <td>-</td>\n      <td>49u - 49u</td>\n      <td>7.90</td>\n      <td>7.58</td>\n      <td>NaN</td>\n    </tr>\n    <tr>\n      <th>277</th>\n      <td>mathea</td>\n      <td>lillebø</td>\n      <td>23u - 36u</td>\n      <td>-</td>\n      <td>9.04</td>\n      <td>8.67</td>\n      <td>0.37</td>\n    </tr>\n    <tr>\n      <th>278</th>\n      <td>vallie</td>\n      <td>prince</td>\n      <td>31u - 38u</td>\n      <td>-</td>\n      <td>7.64</td>\n      <td>7.28</td>\n      <td>0.36</td>\n    </tr>\n    <tr>\n      <th>279</th>\n      <td>samúel</td>\n      <td>guðbrandsson</td>\n      <td>53u - 56u</td>\n      <td>-</td>\n      <td>8.00</td>\n      <td>7.64</td>\n      <td>0.36</td>\n    </tr>\n  </tbody>\n</table>\n<p>280 rows × 7 columns</p>\n</div>"
     },
     "metadata": {},
     "execution_count": 6
    }
   ],
   "source": [
    "# Display the treatments table\n",
    "treatments"
   ]
  },
  {
   "cell_type": "markdown",
   "metadata": {},
   "source": [
    "350 patients participated in this clinical trial. None of the patients were using Novodra (a popular injectable insulin) or Auralin (the oral insulin being researched) as their primary source of insulin before.  All were experiencing elevated HbA1c levels.\n",
    "\n",
    "All 350 patients were treated with Novodra to establish a baseline HbA1c level and insulin dose. After four weeks, which isn’t enough time to capture all the change in HbA1c that can be attributed by the switch to Auralin or Novodra:\n",
    "- 175 patients switched to Auralin for 24 weeks\n",
    "- 175 patients continued using Novodra for 24 weeks\n",
    "\n",
    "`treatments` columns:\n",
    "- **given_name**: the given name of each patient in the Master Patient Index that took part in the clinical trial\n",
    "- **surname**: the surname of each patient in the Master Patient Index that took part in the clinical trial\n",
    "- **auralin**: the baseline median daily dose of insulin from the week prior to switching to Auralin (the number before the dash) *and* the ending median daily dose of insulin at the end of the 24 weeks of treatment measured over the 24th week of treatment (the number after the dash). Both are measured in units (shortform 'u'), which is the [international unit](https://en.wikipedia.org/wiki/International_unit) of measurement and the standard measurement for insulin.\n",
    "- **novodra**: same as above, except for patients that continued treatment with Novodra\n",
    "- **hba1c_start**: the patient's HbA1c level at the beginning of the first week of treatment. HbA1c stands for Hemoglobin A1c. The [HbA1c test](https://depts.washington.edu/uwcoe/healthtopics/diabetes.html) measures what the average blood sugar has been over the past three months. It is thus a powerful way to get an overall sense of how well diabetes has been controlled. Everyone with diabetes should have this test 2 to 4 times per year. Measured in %.\n",
    "- **hba1c_end**: the patient's HbA1c level at the end of the last week of treatment\n",
    "- **hba1c_change**: the change in the patient's HbA1c level from the start of treatment to the end, i.e., `hba1c_start` - `hba1c_end`. For Auralin to be deemed effective, it must be \"noninferior\" to Novodra, the current standard for insulin. This \"noninferiority\" is statistically defined as the upper bound of the 95% confidence interval being less than 0.4% for the difference between the mean HbA1c changes for Novodra and Auralin (i.e. Novodra minus Auralin)."
   ]
  },
  {
   "cell_type": "code",
   "execution_count": 7,
   "metadata": {
    "collapsed": true,
    "scrolled": true
   },
   "outputs": [
    {
     "output_type": "execute_result",
     "data": {
      "text/plain": [
       "     given_name     surname           adverse_reaction\n",
       "0         berta  napolitani  injection site discomfort\n",
       "1          lena        baer               hypoglycemia\n",
       "2        joseph         day               hypoglycemia\n",
       "3        flavia  fiorentino                      cough\n",
       "4       manouck     wubbels          throat irritation\n",
       "5       jasmine       sykes               hypoglycemia\n",
       "6        louise     johnson               hypoglycemia\n",
       "7       albinca     komavec               hypoglycemia\n",
       "8           noe      aranda               hypoglycemia\n",
       "9         sofia   hermansen  injection site discomfort\n",
       "10        tegan     johnson                   headache\n",
       "11         abel     yonatan                      cough\n",
       "12    abdul-nur         isa               hypoglycemia\n",
       "13         leon      scholz  injection site discomfort\n",
       "14     gabriele     saenger               hypoglycemia\n",
       "15       jia li        teng                     nausea\n",
       "16        jakob    jakobsen               hypoglycemia\n",
       "17  christopher    woodward                     nausea\n",
       "18          ole    petersen               hypoglycemia\n",
       "19       finley    chandler                   headache\n",
       "20     anenechi       chidi               hypoglycemia\n",
       "21     miłosław  wiśniewski  injection site discomfort\n",
       "22        lixue       hsueh  injection site discomfort\n",
       "23        merci      leroux               hypoglycemia\n",
       "24         kang         mai  injection site discomfort\n",
       "25       elliot  richardson               hypoglycemia\n",
       "26      clinton      miller          throat irritation\n",
       "27       idalia       moore               hypoglycemia\n",
       "28       xiuxiu       chang               hypoglycemia\n",
       "29         alex    crawford               hypoglycemia\n",
       "30       monika      lončar               hypoglycemia\n",
       "31       steven         roy                   headache\n",
       "32      cecilie      nilsen               hypoglycemia\n",
       "33    krisztina      magyar               hypoglycemia"
      ],
      "text/html": "<div>\n<style scoped>\n    .dataframe tbody tr th:only-of-type {\n        vertical-align: middle;\n    }\n\n    .dataframe tbody tr th {\n        vertical-align: top;\n    }\n\n    .dataframe thead th {\n        text-align: right;\n    }\n</style>\n<table border=\"1\" class=\"dataframe\">\n  <thead>\n    <tr style=\"text-align: right;\">\n      <th></th>\n      <th>given_name</th>\n      <th>surname</th>\n      <th>adverse_reaction</th>\n    </tr>\n  </thead>\n  <tbody>\n    <tr>\n      <th>0</th>\n      <td>berta</td>\n      <td>napolitani</td>\n      <td>injection site discomfort</td>\n    </tr>\n    <tr>\n      <th>1</th>\n      <td>lena</td>\n      <td>baer</td>\n      <td>hypoglycemia</td>\n    </tr>\n    <tr>\n      <th>2</th>\n      <td>joseph</td>\n      <td>day</td>\n      <td>hypoglycemia</td>\n    </tr>\n    <tr>\n      <th>3</th>\n      <td>flavia</td>\n      <td>fiorentino</td>\n      <td>cough</td>\n    </tr>\n    <tr>\n      <th>4</th>\n      <td>manouck</td>\n      <td>wubbels</td>\n      <td>throat irritation</td>\n    </tr>\n    <tr>\n      <th>5</th>\n      <td>jasmine</td>\n      <td>sykes</td>\n      <td>hypoglycemia</td>\n    </tr>\n    <tr>\n      <th>6</th>\n      <td>louise</td>\n      <td>johnson</td>\n      <td>hypoglycemia</td>\n    </tr>\n    <tr>\n      <th>7</th>\n      <td>albinca</td>\n      <td>komavec</td>\n      <td>hypoglycemia</td>\n    </tr>\n    <tr>\n      <th>8</th>\n      <td>noe</td>\n      <td>aranda</td>\n      <td>hypoglycemia</td>\n    </tr>\n    <tr>\n      <th>9</th>\n      <td>sofia</td>\n      <td>hermansen</td>\n      <td>injection site discomfort</td>\n    </tr>\n    <tr>\n      <th>10</th>\n      <td>tegan</td>\n      <td>johnson</td>\n      <td>headache</td>\n    </tr>\n    <tr>\n      <th>11</th>\n      <td>abel</td>\n      <td>yonatan</td>\n      <td>cough</td>\n    </tr>\n    <tr>\n      <th>12</th>\n      <td>abdul-nur</td>\n      <td>isa</td>\n      <td>hypoglycemia</td>\n    </tr>\n    <tr>\n      <th>13</th>\n      <td>leon</td>\n      <td>scholz</td>\n      <td>injection site discomfort</td>\n    </tr>\n    <tr>\n      <th>14</th>\n      <td>gabriele</td>\n      <td>saenger</td>\n      <td>hypoglycemia</td>\n    </tr>\n    <tr>\n      <th>15</th>\n      <td>jia li</td>\n      <td>teng</td>\n      <td>nausea</td>\n    </tr>\n    <tr>\n      <th>16</th>\n      <td>jakob</td>\n      <td>jakobsen</td>\n      <td>hypoglycemia</td>\n    </tr>\n    <tr>\n      <th>17</th>\n      <td>christopher</td>\n      <td>woodward</td>\n      <td>nausea</td>\n    </tr>\n    <tr>\n      <th>18</th>\n      <td>ole</td>\n      <td>petersen</td>\n      <td>hypoglycemia</td>\n    </tr>\n    <tr>\n      <th>19</th>\n      <td>finley</td>\n      <td>chandler</td>\n      <td>headache</td>\n    </tr>\n    <tr>\n      <th>20</th>\n      <td>anenechi</td>\n      <td>chidi</td>\n      <td>hypoglycemia</td>\n    </tr>\n    <tr>\n      <th>21</th>\n      <td>miłosław</td>\n      <td>wiśniewski</td>\n      <td>injection site discomfort</td>\n    </tr>\n    <tr>\n      <th>22</th>\n      <td>lixue</td>\n      <td>hsueh</td>\n      <td>injection site discomfort</td>\n    </tr>\n    <tr>\n      <th>23</th>\n      <td>merci</td>\n      <td>leroux</td>\n      <td>hypoglycemia</td>\n    </tr>\n    <tr>\n      <th>24</th>\n      <td>kang</td>\n      <td>mai</td>\n      <td>injection site discomfort</td>\n    </tr>\n    <tr>\n      <th>25</th>\n      <td>elliot</td>\n      <td>richardson</td>\n      <td>hypoglycemia</td>\n    </tr>\n    <tr>\n      <th>26</th>\n      <td>clinton</td>\n      <td>miller</td>\n      <td>throat irritation</td>\n    </tr>\n    <tr>\n      <th>27</th>\n      <td>idalia</td>\n      <td>moore</td>\n      <td>hypoglycemia</td>\n    </tr>\n    <tr>\n      <th>28</th>\n      <td>xiuxiu</td>\n      <td>chang</td>\n      <td>hypoglycemia</td>\n    </tr>\n    <tr>\n      <th>29</th>\n      <td>alex</td>\n      <td>crawford</td>\n      <td>hypoglycemia</td>\n    </tr>\n    <tr>\n      <th>30</th>\n      <td>monika</td>\n      <td>lončar</td>\n      <td>hypoglycemia</td>\n    </tr>\n    <tr>\n      <th>31</th>\n      <td>steven</td>\n      <td>roy</td>\n      <td>headache</td>\n    </tr>\n    <tr>\n      <th>32</th>\n      <td>cecilie</td>\n      <td>nilsen</td>\n      <td>hypoglycemia</td>\n    </tr>\n    <tr>\n      <th>33</th>\n      <td>krisztina</td>\n      <td>magyar</td>\n      <td>hypoglycemia</td>\n    </tr>\n  </tbody>\n</table>\n</div>"
     },
     "metadata": {},
     "execution_count": 7
    }
   ],
   "source": [
    "# Display the adverse_reactions table\n",
    "adverse_reactions"
   ]
  },
  {
   "cell_type": "markdown",
   "metadata": {},
   "source": [
    "`adverse_reactions` columns:\n",
    "- **given_name**: the given name of each patient in the Master Patient Index that took part in the clinical trial and had an adverse reaction (includes both patients treated Auralin and Novodra)\n",
    "- **surname**: the surname of each patient in the Master Patient Index that took part in the clinical trial and had an adverse reaction (includes both patients treated Auralin and Novodra)\n",
    "- **adverse_reaction**: the adverse reaction reported by the patient\n",
    "\n",
    "Additional useful information:\n",
    "- [Insulin resistance varies person to person](http://www.tudiabetes.org/forum/t/how-much-insulin-is-too-much-on-a-daily-basis/9804/5), which is why both starting median daily dose and ending median daily dose are required, i.e., to calculate change in dose.\n",
    "- It is important to test drugs and medical products in the people they are meant to help. People of different age, race, sex, and ethnic group must be included in clinical trials. This [diversity](https://www.clinicalleader.com/doc/an-fda-perspective-on-patient-diversity-in-clinical-trials-0001) is reflected in the `patients` table.\n",
    "- Ensuring column names are descriptive enough is an important step in acquainting yourself with the data. 'Descriptive enough' is subjective. Ideally you want short column names (so they are easier to type and read in code form) but also fully descriptive. Length vs. descriptiveness is a tradeoff and common debate (a [similar debate](https://softwareengineering.stackexchange.com/questions/176582/is-there-an-excuse-for-short-variable-names) exists for variable names). The *auralin* and *novodra* column names are probably not descriptive enough, but you'll address that later so don't worry about that for now."
   ]
  }
 ],
 "metadata": {
  "kernelspec": {
   "display_name": "Python 3",
   "language": "python",
   "name": "python3"
  },
  "language_info": {
   "codemirror_mode": {
    "name": "ipython",
    "version": 3
   },
   "file_extension": ".py",
   "mimetype": "text/x-python",
   "name": "python",
   "nbconvert_exporter": "python",
   "pygments_lexer": "ipython3",
   "version": "3.8.5-final"
  }
 },
 "nbformat": 4,
 "nbformat_minor": 2
}